{
 "cells": [
  {
   "cell_type": "code",
   "execution_count": 1,
   "metadata": {},
   "outputs": [],
   "source": [
    "from sklearn.externals import joblib\n",
    "from sklearn.model_selection import train_test_split, GridSearchCV\n",
    "from sklearn.ensemble import RandomForestRegressor, GradientBoostingRegressor\n",
    "from sklearn.linear_model import LassoCV\n",
    "import xgboost as xgb\n",
    "from scipy import sparse\n",
    "import numpy as np"
   ]
  },
  {
   "cell_type": "code",
   "execution_count": null,
   "metadata": {},
   "outputs": [],
   "source": [
    "X_train_stage0 = joblib.load( 'X_train_stage0.pkl')\n",
    "X_test_stage0 = joblib.load( 'X_test_stage0.pkl')\n",
    "Y_train_duration = joblib.load( 'Y_train_duration.pkl')\n",
    "Y_train_trajlength = joblib.load( 'Y_train_trajlength.pkl')\n",
    "Y_train_price = joblib.load( 'Y_train_price.pkl')"
   ]
  },
  {
   "cell_type": "code",
   "execution_count": null,
   "metadata": {},
   "outputs": [],
   "source": [
    "n_train = X_train_stage0.shape[0]\n",
    "n_test = X_test_stage0.shape[0]"
   ]
  },
  {
   "cell_type": "code",
   "execution_count": null,
   "metadata": {},
   "outputs": [],
   "source": [
    "print X_train_stage0.shape\n",
    "print X_test_stage0.shape\n",
    "print Y_train_duration.shape\n",
    "print Y_train_trajlength.shape\n",
    "print Y_train_price.shape"
   ]
  },
  {
   "cell_type": "code",
   "execution_count": null,
   "metadata": {},
   "outputs": [],
   "source": [
    "idx_train, idx_val = train_test_split(np.arange(n_train), test_size = 0.20)"
   ]
  },
  {
   "cell_type": "code",
   "execution_count": 7,
   "metadata": {},
   "outputs": [],
   "source": [
    "X_test = X_test_stage0"
   ]
  },
  {
   "cell_type": "code",
   "execution_count": 8,
   "metadata": {},
   "outputs": [
    {
     "ename": "KeyboardInterrupt",
     "evalue": "",
     "output_type": "error",
     "traceback": [
      "\u001b[0;31m---------------------------------------------------------------------------\u001b[0m",
      "\u001b[0;31mKeyboardInterrupt\u001b[0m                         Traceback (most recent call last)",
      "\u001b[0;32m<ipython-input-8-f8cc7a23e33b>\u001b[0m in \u001b[0;36m<module>\u001b[0;34m()\u001b[0m\n\u001b[0;32m----> 1\u001b[0;31m \u001b[0mX_train\u001b[0m\u001b[0;34m,\u001b[0m \u001b[0mX_val\u001b[0m \u001b[0;34m=\u001b[0m \u001b[0mX_train_stage0\u001b[0m\u001b[0;34m[\u001b[0m\u001b[0midx_train\u001b[0m\u001b[0;34m]\u001b[0m\u001b[0;34m,\u001b[0m \u001b[0mX_train_stage0\u001b[0m\u001b[0;34m[\u001b[0m\u001b[0midx_val\u001b[0m\u001b[0;34m]\u001b[0m\u001b[0;34m\u001b[0m\u001b[0m\n\u001b[0m\u001b[1;32m      2\u001b[0m \u001b[0mY_train_dur\u001b[0m\u001b[0;34m,\u001b[0m \u001b[0mY_val_dur\u001b[0m \u001b[0;34m=\u001b[0m \u001b[0mY_train_duration\u001b[0m\u001b[0;34m[\u001b[0m\u001b[0midx_train\u001b[0m\u001b[0;34m]\u001b[0m\u001b[0;34m,\u001b[0m \u001b[0mY_train_duration\u001b[0m\u001b[0;34m[\u001b[0m\u001b[0midx_val\u001b[0m\u001b[0;34m]\u001b[0m\u001b[0;34m\u001b[0m\u001b[0m\n\u001b[1;32m      3\u001b[0m \u001b[0mY_train_traj\u001b[0m\u001b[0;34m,\u001b[0m \u001b[0mY_val_traj\u001b[0m \u001b[0;34m=\u001b[0m \u001b[0mY_train_trajlength\u001b[0m\u001b[0;34m[\u001b[0m\u001b[0midx_train\u001b[0m\u001b[0;34m]\u001b[0m\u001b[0;34m,\u001b[0m \u001b[0mY_train_trajlength\u001b[0m\u001b[0;34m[\u001b[0m\u001b[0midx_val\u001b[0m\u001b[0;34m]\u001b[0m\u001b[0;34m\u001b[0m\u001b[0m\n",
      "\u001b[0;31mKeyboardInterrupt\u001b[0m: "
     ]
    }
   ],
   "source": [
    "X_train, X_val = X_train_stage0[idx_train], X_train_stage0[idx_val]\n",
    "Y_train_dur, Y_val_dur = Y_train_duration[idx_train], Y_train_duration[idx_val]\n",
    "Y_train_traj, Y_val_traj = Y_train_trajlength[idx_train], Y_train_trajlength[idx_val]"
   ]
  },
  {
   "cell_type": "code",
   "execution_count": null,
   "metadata": {},
   "outputs": [],
   "source": [
    "print X_train.shape\n",
    "print X_val.shape\n",
    "print Y_train_dur.shape\n",
    "print Y_val_dur.shape\n",
    "print Y_train_traj.shape\n",
    "print Y_val_traj.shape"
   ]
  },
  {
   "cell_type": "code",
   "execution_count": null,
   "metadata": {},
   "outputs": [],
   "source": [
    "sX_train = sparse.csc_matrix(X_train)\n",
    "sX_val = sparse.csc_matrix(X_val)\n",
    "sX_test = sparse.csc_matrix(X_test)"
   ]
  },
  {
   "cell_type": "code",
   "execution_count": null,
   "metadata": {},
   "outputs": [],
   "source": [
    "dtest = xgb.DMatrix(sX_test)"
   ]
  },
  {
   "cell_type": "code",
   "execution_count": null,
   "metadata": {},
   "outputs": [],
   "source": [
    "dtrain_dur = xgb.DMatrix(sX_train, label= Y_train_dur)\n",
    "dval_dur = xgb.DMatrix(sX_val, label=Y_val_dur)\n",
    "dtrain_traj = xgb.DMatrix(sX_train, label= Y_train_traj)\n",
    "dval_traj = xgb.DMatrix(sX_val, label =Y_val_traj)"
   ]
  },
  {
   "cell_type": "code",
   "execution_count": null,
   "metadata": {},
   "outputs": [],
   "source": [
    "from sklearn.metrics import make_scorer\n",
    "\n",
    "def rmpse_loss_func(ground_truth, predictions):\n",
    "    idx = np.where(ground_truth > 0.)\n",
    "    ground_truth = ground_truth[idx]\n",
    "    predictions = predictions[idx]\n",
    "    err = np.sqrt(np.mean((np.true_divide(predictions, ground_truth) - 1.)**2))\n",
    "    return err\n",
    "\n",
    "rmpse_loss  = make_scorer(rmpse_loss_func, greater_is_better=False)"
   ]
  },
  {
   "cell_type": "code",
   "execution_count": null,
   "metadata": {},
   "outputs": [],
   "source": [
    "def rmpse(preds, dtrain):\n",
    "    labels = dtrain.get_label()\n",
    "    idx = np.where(labels > 0.)\n",
    "    labels = labels[idx]\n",
    "    preds = preds[idx]\n",
    "    err = np.sqrt(np.mean((np.true_divide(preds, labels) - 1.)**2))\n",
    "    return 'error', err"
   ]
  },
  {
   "cell_type": "code",
   "execution_count": null,
   "metadata": {},
   "outputs": [],
   "source": [
    "watchlist_dur = [(dval_dur, 'eval_dur'), (dtrain_dur, 'train_dur')]\n",
    "watchlist_traj = [(dval_traj, 'eval_traj'), (dtrain_traj, 'train_traj')]"
   ]
  },
  {
   "cell_type": "markdown",
   "metadata": {},
   "source": [
    "# Dur"
   ]
  },
  {
   "cell_type": "code",
   "execution_count": null,
   "metadata": {},
   "outputs": [],
   "source": [
    "param = { 'objective' : \"reg:linear\", \n",
    "          'booster' : \"gbtree\",\n",
    "          'eta'                 :0.01, \n",
    "          'max_depth'           :12, \n",
    "          'colsample_bytree'    : 0.7,\n",
    "          'subsample' : 0.7,\n",
    "          'gamma' : 1,\n",
    "          'min_child_weight' : 5,\n",
    "          'n_thread' : 8\n",
    "        }"
   ]
  },
  {
   "cell_type": "code",
   "execution_count": null,
   "metadata": {},
   "outputs": [],
   "source": [
    "bst_dur = xgb.train(param, dtrain_dur, evals=watchlist_dur, \n",
    "                num_boost_round = 350, feval= rmpse, maximize = False)"
   ]
  },
  {
   "cell_type": "code",
   "execution_count": null,
   "metadata": {},
   "outputs": [],
   "source": [
    "rf_params = {\"max_depth\": [5, 9, 15, 25, None],\n",
    "              \"max_features\": [0.1, 'sqrt', 0.5 , None],\n",
    "              \"n_estimators\":[1000],\n",
    "              \"criterion\": [\"mae\", \"mse\"],\n",
    "            }"
   ]
  },
  {
   "cell_type": "code",
   "execution_count": null,
   "metadata": {},
   "outputs": [],
   "source": [
    "rf_dur = RandomForestRegressor( verbose = 3, n_jobs = -1)\n",
    "rf_CV_dur = GridSearchCV(estimator=rf_dur, \n",
    "                   param_grid=rf_params,\n",
    "                   scoring=rmpse_loss,\n",
    "                   cv=3, verbose= 2,\n",
    "                   n_jobs = -1,\n",
    "                   return_train_score = True).fit(sX_train, Y_train_dur)"
   ]
  },
  {
   "cell_type": "code",
   "execution_count": null,
   "metadata": {},
   "outputs": [],
   "source": [
    "X_ensemble_dur = np.zeros((372137, 2))\n",
    "X_ensemble_dur[:,0] = bst_dur.predict(dtrain_dur)\n",
    "X_ensemble_dur[:,1] = rf_CV_dur.predict(X_train)\n",
    "lasso_dur = LassoCV().fit(X_ensemble_dur, Y_train_dur)"
   ]
  },
  {
   "cell_type": "code",
   "execution_count": null,
   "metadata": {},
   "outputs": [],
   "source": [
    "joblib.dump(bst_dur, 'bst_dur.pkl')\n",
    "joblib.dump(rf_CV_dur, 'rf_CV_dur.pkl')\n",
    "joblib.dump(lasso_dur, 'lasso_dur.pkl')"
   ]
  },
  {
   "cell_type": "code",
   "execution_count": null,
   "metadata": {},
   "outputs": [],
   "source": [
    "print Y_train_dur.shape\n",
    "print Y_val_dur.shape"
   ]
  },
  {
   "cell_type": "code",
   "execution_count": null,
   "metadata": {},
   "outputs": [],
   "source": [
    "bst_train = rmpse_loss_func(Y_train_dur ,bst_dur.predict(dtrain_dur))\n",
    "bst_val = rmpse_loss_func(Y_val_dur,bst_dur.predict(dval_dur))\n",
    "print -bst_train\n",
    "print -bst_val"
   ]
  },
  {
   "cell_type": "code",
   "execution_count": null,
   "metadata": {},
   "outputs": [],
   "source": [
    "print rmpse_loss(rf_CV_dur, sX_train, Y_train_dur)\n",
    "print rmpse_loss(rf_CV_dur, sX_val, Y_val_dur)"
   ]
  },
  {
   "cell_type": "code",
   "execution_count": null,
   "metadata": {},
   "outputs": [],
   "source": [
    "X_train_ens = np.zeros((372137, 2))\n",
    "X_train_ens[:,0] = bst_dur.predict(dtrain_dur)\n",
    "X_train_ens[:,1] = rf_dur.predict(sX_train)\n",
    "X_val_ens = np.zeros((93035, 2))\n",
    "X_val_ens[:,0] = bst_dur.predict(dval_dur)\n",
    "X_val_ens[:,1] = rf_dur.predict(sX_val)\n",
    "print rmpse_loss(lasso_dur, X_train_ens, Y_train_dur)\n",
    "print rmpse_loss(lasso_dur, X_val_ens, Y_val_dur)"
   ]
  },
  {
   "cell_type": "markdown",
   "metadata": {},
   "source": [
    "# TRAJ"
   ]
  },
  {
   "cell_type": "code",
   "execution_count": null,
   "metadata": {},
   "outputs": [],
   "source": [
    "param = { 'objective' : \"reg:linear\", \n",
    "          'booster' : \"gbtree\",\n",
    "          'eta'                 :0.02, \n",
    "          'max_depth'           :15, \n",
    "          'colsample_bytree'    : 0.7,\n",
    "          'subsample' : 0.7,\n",
    "          'gamma' : 1,\n",
    "          'min_child_weight' : 5,\n",
    "          'n_thread' : 8\n",
    "        }"
   ]
  },
  {
   "cell_type": "code",
   "execution_count": null,
   "metadata": {},
   "outputs": [],
   "source": [
    "bst_traj = xgb.train(param, dtrain_traj, evals=watchlist_traj, \n",
    "                num_boost_round = 350, feval= rmpse, maximize = False)"
   ]
  },
  {
   "cell_type": "code",
   "execution_count": null,
   "metadata": {},
   "outputs": [],
   "source": [
    "rf_params = {\"max_depth\": [5, 9, 15, 25, None],\n",
    "              \"max_features\": [0.1, 'sqrt', 0.5 , None],\n",
    "              \"n_estimators\":[1000],\n",
    "              \"criterion\": [\"mae\", \"mse\"],\n",
    "            }"
   ]
  },
  {
   "cell_type": "code",
   "execution_count": null,
   "metadata": {},
   "outputs": [],
   "source": [
    "rf_traj = RandomForestRegressor(verbose = 3, n_jobs = -1)\n",
    "rf_CV_traj = GridSearchCV(estimator=rf_traj, \n",
    "                   param_grid=rf_params,\n",
    "                   scoring=rmpse_loss,\n",
    "                   cv=3, verbose= 2,\n",
    "                   n_jobs = -1,\n",
    "                   return_train_score = True).fit(sX_train, Y_train_traj)"
   ]
  },
  {
   "cell_type": "code",
   "execution_count": null,
   "metadata": {},
   "outputs": [],
   "source": [
    "X_ensemble_traj = np.zeros((372137, 2))\n",
    "X_ensemble_traj[:,0] = bst_traj.predict(dtrain_traj)\n",
    "X_ensemble_traj[:,1] = rf_CV_traj.predict(X_train)\n",
    "lasso_traj = LassoCV().fit(X_ensemble_traj, Y_train_traj)"
   ]
  },
  {
   "cell_type": "code",
   "execution_count": null,
   "metadata": {},
   "outputs": [],
   "source": [
    "bst_train = rmpse_loss_func(Y_train_traj ,bst_traj.predict(dtrain_traj))\n",
    "bst_val = rmpse_loss_func(Y_val_traj,bst_traj.predict(dval_traj))\n",
    "print -bst_train\n",
    "print -bst_val"
   ]
  },
  {
   "cell_type": "code",
   "execution_count": null,
   "metadata": {},
   "outputs": [],
   "source": [
    "print rmpse_loss(rf_CV_traj, sX_train, Y_train_traj)\n",
    "print rmpse_loss(rf_CV_traj, sX_val, Y_val_traj)"
   ]
  },
  {
   "cell_type": "code",
   "execution_count": null,
   "metadata": {},
   "outputs": [],
   "source": [
    "X_train_ens = np.zeros((372137, 2))\n",
    "X_train_ens[:,0] = bst_traj.predict(dtrain_traj)\n",
    "X_train_ens[:,1] = rf_traj.predict(sX_train)\n",
    "X_val_ens = np.zeros((93035, 2))\n",
    "X_val_ens[:,0] = bst_traj.predict(dval_traj)\n",
    "X_val_ens[:,1] = rf_traj.predict(sX_val)\n",
    "print rmpse_loss(lasso_traj, X_train_ens, Y_train_traj)\n",
    "print rmpse_loss(lasso_traj, X_val_ens, Y_val_traj)"
   ]
  },
  {
   "cell_type": "markdown",
   "metadata": {},
   "source": [
    "# Combine"
   ]
  },
  {
   "cell_type": "code",
   "execution_count": null,
   "metadata": {},
   "outputs": [],
   "source": [
    "X_test_ens = np.zeros((n_test, 2))\n",
    "X_test_ens[:,0] = bst_dur.predict(dtest)\n",
    "X_test_ens[:,1] = rf_dur.predict(sX_test)\n",
    "Y_test_dur = lasso_dur.predict(X_test_ens)"
   ]
  },
  {
   "cell_type": "code",
   "execution_count": null,
   "metadata": {},
   "outputs": [],
   "source": [
    "X_test_ens = np.zeros((n_test, 2))\n",
    "X_test_ens[:,0] = bst_traj.predict(dtest)\n",
    "X_test_ens[:,1] = rf_traj.predict(sX_test)\n",
    "Y_test_traj = lasso_traj.predict(X_test_ens)"
   ]
  }
 ],
 "metadata": {
  "kernelspec": {
   "display_name": "Python 2",
   "language": "python",
   "name": "python2"
  },
  "language_info": {
   "codemirror_mode": {
    "name": "ipython",
    "version": 2
   },
   "file_extension": ".py",
   "mimetype": "text/x-python",
   "name": "python",
   "nbconvert_exporter": "python",
   "pygments_lexer": "ipython2",
   "version": "2.7.14"
  }
 },
 "nbformat": 4,
 "nbformat_minor": 2
}
