{
 "cells": [
  {
   "cell_type": "code",
   "execution_count": 10,
   "metadata": {},
   "outputs": [],
   "source": [
    "from sklearn.externals import joblib\n",
    "from sklearn.model_selection import train_test_split, GridSearchCV, KFold\n",
    "from sklearn.ensemble import RandomForestRegressor, GradientBoostingRegressor\n",
    "from sklearn.linear_model import LassoCV\n",
    "import xgboost as xgb\n",
    "from scipy import sparse\n",
    "import numpy as np\n",
    "import matplotlib.pyplot as plt\n",
    "import pandas as pd"
   ]
  },
  {
   "cell_type": "code",
   "execution_count": 2,
   "metadata": {},
   "outputs": [],
   "source": [
    "X_train_stage0 = joblib.load( 'X_train_stage0.pkl')\n",
    "Y_train_duration = joblib.load( 'Y_train_duration.pkl')\n",
    "Y_train_trajlength = joblib.load( 'Y_train_trajlength.pkl')"
   ]
  },
  {
   "cell_type": "code",
   "execution_count": 7,
   "metadata": {},
   "outputs": [],
   "source": [
    "rf_dur = joblib.load('rf_dur.pkl')"
   ]
  },
  {
   "cell_type": "code",
   "execution_count": 16,
   "metadata": {},
   "outputs": [
    {
     "name": "stdout",
     "output_type": "stream",
     "text": [
      "(1561,)\n",
      "Feature ranking:\n",
      "1. feature 0 (0.163045)\n",
      "2. feature 29 (0.043908)\n",
      "3. feature 30 (0.039753)\n",
      "4. feature 31 (0.037182)\n",
      "5. feature 25 (0.029784)\n",
      "6. feature 26 (0.028902)\n",
      "7. feature 27 (0.026086)\n",
      "8. feature 32 (0.025122)\n",
      "9. feature 5 (0.019881)\n",
      "10. feature 28 (0.019398)\n",
      "11. feature 21 (0.018017)\n",
      "12. feature 1 (0.015993)\n",
      "13. feature 23 (0.015452)\n",
      "14. feature 6 (0.014149)\n",
      "15. feature 24 (0.013780)\n",
      "16. feature 7 (0.012159)\n",
      "17. feature 2 (0.012139)\n",
      "18. feature 8 (0.011094)\n",
      "19. feature 3 (0.010834)\n",
      "20. feature 22 (0.010323)\n",
      "21. feature 4 (0.010294)\n",
      "22. feature 1373 (0.009325)\n",
      "23. feature 1375 (0.008709)\n",
      "24. feature 17 (0.007205)\n",
      "25. feature 18 (0.007156)\n",
      "26. feature 19 (0.006689)\n",
      "27. feature 9 (0.005882)\n",
      "28. feature 1360 (0.005580)\n",
      "29. feature 10 (0.005535)\n",
      "30. feature 20 (0.005509)\n",
      "31. feature 840 (0.005336)\n",
      "32. feature 11 (0.004985)\n",
      "33. feature 12 (0.004937)\n",
      "34. feature 836 (0.004783)\n",
      "35. feature 838 (0.004226)\n",
      "36. feature 1361 (0.003288)\n",
      "37. feature 1374 (0.003119)\n",
      "38. feature 837 (0.002933)\n",
      "39. feature 1408 (0.002917)\n",
      "40. feature 1385 (0.002812)\n",
      "41. feature 848 (0.002761)\n",
      "42. feature 1359 (0.002623)\n",
      "43. feature 833 (0.002406)\n",
      "44. feature 839 (0.002306)\n",
      "45. feature 835 (0.002283)\n",
      "46. feature 1428 (0.002196)\n",
      "47. feature 834 (0.002144)\n",
      "48. feature 1372 (0.002075)\n",
      "49. feature 1367 (0.002064)\n",
      "50. feature 1371 (0.001984)\n",
      "51. feature 1370 (0.001982)\n",
      "52. feature 1368 (0.001974)\n",
      "53. feature 1369 (0.001944)\n",
      "54. feature 1355 (0.001914)\n",
      "55. feature 1469 (0.001831)\n",
      "56. feature 1378 (0.001776)\n",
      "57. feature 1492 (0.001736)\n",
      "58. feature 1376 (0.001692)\n",
      "59. feature 1381 (0.001688)\n",
      "60. feature 1351 (0.001668)\n",
      "61. feature 847 (0.001667)\n",
      "62. feature 1383 (0.001665)\n",
      "63. feature 1349 (0.001634)\n",
      "64. feature 1479 (0.001604)\n",
      "65. feature 1504 (0.001553)\n",
      "66. feature 1391 (0.001532)\n",
      "67. feature 1441 (0.001499)\n",
      "68. feature 1498 (0.001442)\n",
      "69. feature 846 (0.001407)\n",
      "70. feature 1358 (0.001394)\n",
      "71. feature 1356 (0.001373)\n",
      "72. feature 1537 (0.001341)\n",
      "73. feature 14 (0.001306)\n",
      "74. feature 1523 (0.001304)\n",
      "75. feature 15 (0.001302)\n",
      "76. feature 1342 (0.001301)\n",
      "77. feature 13 (0.001298)\n",
      "78. feature 1341 (0.001291)\n",
      "79. feature 16 (0.001285)\n",
      "80. feature 1403 (0.001281)\n",
      "81. feature 1465 (0.001274)\n",
      "82. feature 1434 (0.001263)\n",
      "83. feature 1500 (0.001190)\n",
      "84. feature 1394 (0.001160)\n",
      "85. feature 1398 (0.001149)\n",
      "86. feature 1362 (0.001145)\n",
      "87. feature 1487 (0.001132)\n",
      "88. feature 1377 (0.001128)\n",
      "89. feature 1429 (0.001103)\n",
      "90. feature 1539 (0.001096)\n",
      "91. feature 1379 (0.001081)\n",
      "92. feature 1386 (0.001068)\n",
      "93. feature 1530 (0.001057)\n",
      "94. feature 1343 (0.001055)\n",
      "95. feature 1495 (0.001053)\n",
      "96. feature 1348 (0.001043)\n",
      "97. feature 843 (0.001036)\n",
      "98. feature 842 (0.001023)\n",
      "99. feature 1347 (0.001023)\n",
      "100. feature 845 (0.001021)\n"
     ]
    }
   ],
   "source": [
    "importances = rf_dur.feature_importances_\n",
    "print importances.shape\n",
    "indices = np.argsort(importances)[::-1]\n",
    "print(\"Feature ranking:\")\n",
    "for f in range(100):\n",
    "    print(\"%d. feature %d (%f)\" % (f + 1, indices[f], importances[indices[f]]))"
   ]
  },
  {
   "cell_type": "code",
   "execution_count": null,
   "metadata": {},
   "outputs": [],
   "source": [
    "n_train = "
   ]
  },
  {
   "cell_type": "code",
   "execution_count": 6,
   "metadata": {},
   "outputs": [],
   "source": [
    "sX_train = sparse.csc_matrix(X_train_stage0)\n",
    "dtrain_dur = xgb.DMatrix(sX_train, label = Y_train_duration)\n",
    "dtrain_traj = xgb.DMatrix(sX_train, label = Y_train_trajlength)"
   ]
  },
  {
   "cell_type": "code",
   "execution_count": 4,
   "metadata": {},
   "outputs": [],
   "source": [
    "kfold = KFold(n_splits = 3, shuffle = True, random_state=1234)"
   ]
  },
  {
   "cell_type": "code",
   "execution_count": null,
   "metadata": {},
   "outputs": [],
   "source": [
    "pred_duration = "
   ]
  },
  {
   "cell_type": "code",
   "execution_count": null,
   "metadata": {},
   "outputs": [],
   "source": [
    "for train_index, test_index in kfold.split(X_full_train)"
   ]
  }
 ],
 "metadata": {
  "kernelspec": {
   "display_name": "Python 2",
   "language": "python",
   "name": "python2"
  },
  "language_info": {
   "codemirror_mode": {
    "name": "ipython",
    "version": 2
   },
   "file_extension": ".py",
   "mimetype": "text/x-python",
   "name": "python",
   "nbconvert_exporter": "python",
   "pygments_lexer": "ipython2",
   "version": "2.7.14"
  }
 },
 "nbformat": 4,
 "nbformat_minor": 2
}
