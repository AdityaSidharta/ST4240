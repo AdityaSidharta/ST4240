{
 "cells": [
  {
   "cell_type": "code",
   "execution_count": 9,
   "metadata": {},
   "outputs": [
    {
     "name": "stdout",
     "output_type": "stream",
     "text": [
      "/home/adityasidharta/ST4240/ass_1/q2\n"
     ]
    }
   ],
   "source": [
    "%cd /home/adityasidharta/ST4240/ass_1/q2"
   ]
  },
  {
   "cell_type": "code",
   "execution_count": 10,
   "metadata": {},
   "outputs": [],
   "source": [
    "import pandas as pd\n",
    "import numpy as np\n",
    "import seaborn as sns\n",
    "import matplotlib.pyplot as plt\n",
    "from collections import Counter\n",
    "\n",
    "%matplotlib inline"
   ]
  },
  {
   "cell_type": "markdown",
   "metadata": {},
   "source": [
    "### Loading Dataset"
   ]
  },
  {
   "cell_type": "code",
   "execution_count": 11,
   "metadata": {},
   "outputs": [],
   "source": [
    "df_data_dictionary = pd.read_excel('Data%20Dictionary.xls')\n",
    "df_sample_entry = pd.read_csv('sampleEntry.csv')\n",
    "df_train = pd.read_csv('cs-training.csv', index_col=0)\n",
    "df_test = pd.read_csv('cs-test.csv', index_col=0)"
   ]
  },
  {
   "cell_type": "code",
   "execution_count": 12,
   "metadata": {},
   "outputs": [
    {
     "data": {
      "text/html": [
       "<div>\n",
       "<style scoped>\n",
       "    .dataframe tbody tr th:only-of-type {\n",
       "        vertical-align: middle;\n",
       "    }\n",
       "\n",
       "    .dataframe tbody tr th {\n",
       "        vertical-align: top;\n",
       "    }\n",
       "\n",
       "    .dataframe thead th {\n",
       "        text-align: right;\n",
       "    }\n",
       "</style>\n",
       "<table border=\"1\" class=\"dataframe\">\n",
       "  <thead>\n",
       "    <tr style=\"text-align: right;\">\n",
       "      <th></th>\n",
       "      <th>Variable Name</th>\n",
       "      <th>Description</th>\n",
       "      <th>Type</th>\n",
       "    </tr>\n",
       "  </thead>\n",
       "  <tbody>\n",
       "    <tr>\n",
       "      <th>0</th>\n",
       "      <td>SeriousDlqin2yrs</td>\n",
       "      <td>Person experienced 90 days past due delinquency or worse</td>\n",
       "      <td>Y/N</td>\n",
       "    </tr>\n",
       "    <tr>\n",
       "      <th>1</th>\n",
       "      <td>RevolvingUtilizationOfUnsecuredLines</td>\n",
       "      <td>Total balance on credit cards and personal lines of credit except real estate and no installment debt like car loans divided by the sum of credit limits</td>\n",
       "      <td>percentage</td>\n",
       "    </tr>\n",
       "    <tr>\n",
       "      <th>2</th>\n",
       "      <td>age</td>\n",
       "      <td>Age of borrower in years</td>\n",
       "      <td>integer</td>\n",
       "    </tr>\n",
       "    <tr>\n",
       "      <th>3</th>\n",
       "      <td>NumberOfTime30-59DaysPastDueNotWorse</td>\n",
       "      <td>Number of times borrower has been 30-59 days past due but no worse in the last 2 years.</td>\n",
       "      <td>integer</td>\n",
       "    </tr>\n",
       "    <tr>\n",
       "      <th>4</th>\n",
       "      <td>DebtRatio</td>\n",
       "      <td>Monthly debt payments, alimony,living costs divided by monthy gross income</td>\n",
       "      <td>percentage</td>\n",
       "    </tr>\n",
       "    <tr>\n",
       "      <th>5</th>\n",
       "      <td>MonthlyIncome</td>\n",
       "      <td>Monthly income</td>\n",
       "      <td>real</td>\n",
       "    </tr>\n",
       "    <tr>\n",
       "      <th>6</th>\n",
       "      <td>NumberOfOpenCreditLinesAndLoans</td>\n",
       "      <td>Number of Open loans (installment like car loan or mortgage) and Lines of credit (e.g. credit cards)</td>\n",
       "      <td>integer</td>\n",
       "    </tr>\n",
       "    <tr>\n",
       "      <th>7</th>\n",
       "      <td>NumberOfTimes90DaysLate</td>\n",
       "      <td>Number of times borrower has been 90 days or more past due.</td>\n",
       "      <td>integer</td>\n",
       "    </tr>\n",
       "    <tr>\n",
       "      <th>8</th>\n",
       "      <td>NumberRealEstateLoansOrLines</td>\n",
       "      <td>Number of mortgage and real estate loans including home equity lines of credit</td>\n",
       "      <td>integer</td>\n",
       "    </tr>\n",
       "    <tr>\n",
       "      <th>9</th>\n",
       "      <td>NumberOfTime60-89DaysPastDueNotWorse</td>\n",
       "      <td>Number of times borrower has been 60-89 days past due but no worse in the last 2 years.</td>\n",
       "      <td>integer</td>\n",
       "    </tr>\n",
       "    <tr>\n",
       "      <th>10</th>\n",
       "      <td>NumberOfDependents</td>\n",
       "      <td>Number of dependents in family excluding themselves (spouse, children etc.)</td>\n",
       "      <td>integer</td>\n",
       "    </tr>\n",
       "  </tbody>\n",
       "</table>\n",
       "</div>"
      ],
      "text/plain": [
       "                           Variable Name  \\\n",
       "0   SeriousDlqin2yrs                       \n",
       "1   RevolvingUtilizationOfUnsecuredLines   \n",
       "2   age                                    \n",
       "3   NumberOfTime30-59DaysPastDueNotWorse   \n",
       "4   DebtRatio                              \n",
       "5   MonthlyIncome                          \n",
       "6   NumberOfOpenCreditLinesAndLoans        \n",
       "7   NumberOfTimes90DaysLate                \n",
       "8   NumberRealEstateLoansOrLines           \n",
       "9   NumberOfTime60-89DaysPastDueNotWorse   \n",
       "10  NumberOfDependents                     \n",
       "\n",
       "                                                                                                                                                 Description  \\\n",
       "0   Person experienced 90 days past due delinquency or worse                                                                                                   \n",
       "1   Total balance on credit cards and personal lines of credit except real estate and no installment debt like car loans divided by the sum of credit limits   \n",
       "2   Age of borrower in years                                                                                                                                   \n",
       "3   Number of times borrower has been 30-59 days past due but no worse in the last 2 years.                                                                    \n",
       "4   Monthly debt payments, alimony,living costs divided by monthy gross income                                                                                 \n",
       "5   Monthly income                                                                                                                                             \n",
       "6   Number of Open loans (installment like car loan or mortgage) and Lines of credit (e.g. credit cards)                                                       \n",
       "7   Number of times borrower has been 90 days or more past due.                                                                                                \n",
       "8   Number of mortgage and real estate loans including home equity lines of credit                                                                             \n",
       "9   Number of times borrower has been 60-89 days past due but no worse in the last 2 years.                                                                    \n",
       "10  Number of dependents in family excluding themselves (spouse, children etc.)                                                                                \n",
       "\n",
       "          Type  \n",
       "0   Y/N         \n",
       "1   percentage  \n",
       "2   integer     \n",
       "3   integer     \n",
       "4   percentage  \n",
       "5   real        \n",
       "6   integer     \n",
       "7   integer     \n",
       "8   integer     \n",
       "9   integer     \n",
       "10  integer     "
      ]
     },
     "metadata": {},
     "output_type": "display_data"
    }
   ],
   "source": [
    "pd.set_option('max_colwidth', -1)\n",
    "display(df_data_dictionary)\n",
    "pd.reset_option('max_colwidth')"
   ]
  },
  {
   "cell_type": "code",
   "execution_count": 13,
   "metadata": {},
   "outputs": [
    {
     "data": {
      "text/html": [
       "<div>\n",
       "<style scoped>\n",
       "    .dataframe tbody tr th:only-of-type {\n",
       "        vertical-align: middle;\n",
       "    }\n",
       "\n",
       "    .dataframe tbody tr th {\n",
       "        vertical-align: top;\n",
       "    }\n",
       "\n",
       "    .dataframe thead th {\n",
       "        text-align: right;\n",
       "    }\n",
       "</style>\n",
       "<table border=\"1\" class=\"dataframe\">\n",
       "  <thead>\n",
       "    <tr style=\"text-align: right;\">\n",
       "      <th></th>\n",
       "      <th>SeriousDlqin2yrs</th>\n",
       "      <th>RevolvingUtilizationOfUnsecuredLines</th>\n",
       "      <th>age</th>\n",
       "      <th>NumberOfTime30-59DaysPastDueNotWorse</th>\n",
       "      <th>DebtRatio</th>\n",
       "      <th>MonthlyIncome</th>\n",
       "      <th>NumberOfOpenCreditLinesAndLoans</th>\n",
       "      <th>NumberOfTimes90DaysLate</th>\n",
       "      <th>NumberRealEstateLoansOrLines</th>\n",
       "      <th>NumberOfTime60-89DaysPastDueNotWorse</th>\n",
       "      <th>NumberOfDependents</th>\n",
       "    </tr>\n",
       "  </thead>\n",
       "  <tbody>\n",
       "    <tr>\n",
       "      <th>1</th>\n",
       "      <td>1</td>\n",
       "      <td>0.766127</td>\n",
       "      <td>45</td>\n",
       "      <td>2</td>\n",
       "      <td>0.802982</td>\n",
       "      <td>9120.0</td>\n",
       "      <td>13</td>\n",
       "      <td>0</td>\n",
       "      <td>6</td>\n",
       "      <td>0</td>\n",
       "      <td>2.0</td>\n",
       "    </tr>\n",
       "    <tr>\n",
       "      <th>2</th>\n",
       "      <td>0</td>\n",
       "      <td>0.957151</td>\n",
       "      <td>40</td>\n",
       "      <td>0</td>\n",
       "      <td>0.121876</td>\n",
       "      <td>2600.0</td>\n",
       "      <td>4</td>\n",
       "      <td>0</td>\n",
       "      <td>0</td>\n",
       "      <td>0</td>\n",
       "      <td>1.0</td>\n",
       "    </tr>\n",
       "    <tr>\n",
       "      <th>3</th>\n",
       "      <td>0</td>\n",
       "      <td>0.658180</td>\n",
       "      <td>38</td>\n",
       "      <td>1</td>\n",
       "      <td>0.085113</td>\n",
       "      <td>3042.0</td>\n",
       "      <td>2</td>\n",
       "      <td>1</td>\n",
       "      <td>0</td>\n",
       "      <td>0</td>\n",
       "      <td>0.0</td>\n",
       "    </tr>\n",
       "    <tr>\n",
       "      <th>4</th>\n",
       "      <td>0</td>\n",
       "      <td>0.233810</td>\n",
       "      <td>30</td>\n",
       "      <td>0</td>\n",
       "      <td>0.036050</td>\n",
       "      <td>3300.0</td>\n",
       "      <td>5</td>\n",
       "      <td>0</td>\n",
       "      <td>0</td>\n",
       "      <td>0</td>\n",
       "      <td>0.0</td>\n",
       "    </tr>\n",
       "    <tr>\n",
       "      <th>5</th>\n",
       "      <td>0</td>\n",
       "      <td>0.907239</td>\n",
       "      <td>49</td>\n",
       "      <td>1</td>\n",
       "      <td>0.024926</td>\n",
       "      <td>63588.0</td>\n",
       "      <td>7</td>\n",
       "      <td>0</td>\n",
       "      <td>1</td>\n",
       "      <td>0</td>\n",
       "      <td>0.0</td>\n",
       "    </tr>\n",
       "  </tbody>\n",
       "</table>\n",
       "</div>"
      ],
      "text/plain": [
       "   SeriousDlqin2yrs  RevolvingUtilizationOfUnsecuredLines  age  \\\n",
       "1                 1                              0.766127   45   \n",
       "2                 0                              0.957151   40   \n",
       "3                 0                              0.658180   38   \n",
       "4                 0                              0.233810   30   \n",
       "5                 0                              0.907239   49   \n",
       "\n",
       "   NumberOfTime30-59DaysPastDueNotWorse  DebtRatio  MonthlyIncome  \\\n",
       "1                                     2   0.802982         9120.0   \n",
       "2                                     0   0.121876         2600.0   \n",
       "3                                     1   0.085113         3042.0   \n",
       "4                                     0   0.036050         3300.0   \n",
       "5                                     1   0.024926        63588.0   \n",
       "\n",
       "   NumberOfOpenCreditLinesAndLoans  NumberOfTimes90DaysLate  \\\n",
       "1                               13                        0   \n",
       "2                                4                        0   \n",
       "3                                2                        1   \n",
       "4                                5                        0   \n",
       "5                                7                        0   \n",
       "\n",
       "   NumberRealEstateLoansOrLines  NumberOfTime60-89DaysPastDueNotWorse  \\\n",
       "1                             6                                     0   \n",
       "2                             0                                     0   \n",
       "3                             0                                     0   \n",
       "4                             0                                     0   \n",
       "5                             1                                     0   \n",
       "\n",
       "   NumberOfDependents  \n",
       "1                 2.0  \n",
       "2                 1.0  \n",
       "3                 0.0  \n",
       "4                 0.0  \n",
       "5                 0.0  "
      ]
     },
     "execution_count": 13,
     "metadata": {},
     "output_type": "execute_result"
    }
   ],
   "source": [
    "df_train.head()"
   ]
  },
  {
   "cell_type": "markdown",
   "metadata": {},
   "source": [
    "### Train/Test Data Exploratory. \n",
    "- Dimension of the data\n",
    "- Checking whether there are any empty value\n",
    "- Checking the distribution of all the columns in the data\n",
    "- Checking the correlation between the data"
   ]
  },
  {
   "cell_type": "code",
   "execution_count": 14,
   "metadata": {},
   "outputs": [
    {
     "name": "stdout",
     "output_type": "stream",
     "text": [
      "(150000, 11)\n",
      "(101503, 11)\n"
     ]
    }
   ],
   "source": [
    "print df_train.shape\n",
    "print df_test.shape"
   ]
  },
  {
   "cell_type": "code",
   "execution_count": 15,
   "metadata": {},
   "outputs": [
    {
     "data": {
      "text/plain": [
       "Index([u'SeriousDlqin2yrs', u'RevolvingUtilizationOfUnsecuredLines', u'age',\n",
       "       u'NumberOfTime30-59DaysPastDueNotWorse', u'DebtRatio', u'MonthlyIncome',\n",
       "       u'NumberOfOpenCreditLinesAndLoans', u'NumberOfTimes90DaysLate',\n",
       "       u'NumberRealEstateLoansOrLines',\n",
       "       u'NumberOfTime60-89DaysPastDueNotWorse', u'NumberOfDependents'],\n",
       "      dtype='object')"
      ]
     },
     "execution_count": 15,
     "metadata": {},
     "output_type": "execute_result"
    }
   ],
   "source": [
    "df_train.columns"
   ]
  },
  {
   "cell_type": "code",
   "execution_count": 16,
   "metadata": {},
   "outputs": [],
   "source": [
    "DLQN = 'SeriousDlqin2yrs'\n",
    "REVOLVE = 'RevolvingUtilizationOfUnsecuredLines'\n",
    "AGE = 'age'\n",
    "PASTDUE_30_59 = 'NumberOfTime30-59DaysPastDueNotWorse'\n",
    "DEBT_RATIO = 'DebtRatio'\n",
    "MONTHLY_INCOME = 'MonthlyIncome'\n",
    "OPEN_CREDIT_LOAN = 'NumberOfOpenCreditLinesAndLoans'\n",
    "PASTDUE_90 = 'NumberOfTimes90DaysLate'\n",
    "ESTATE_LOAN = 'NumberRealEstateLoansOrLines'\n",
    "PASTDUE_60_89 = 'NumberOfTime60-89DaysPastDueNotWorse'\n",
    "DEPENDENTS = 'NumberOfDependents'"
   ]
  },
  {
   "cell_type": "code",
   "execution_count": null,
   "metadata": {},
   "outputs": [],
   "source": [
    "df_train.isnull().sum()"
   ]
  },
  {
   "cell_type": "markdown",
   "metadata": {},
   "source": [
    "- There are empty Values in the Monthly Income.\n",
    "- There are empty Values in the Number of Dependents. "
   ]
  },
  {
   "cell_type": "code",
   "execution_count": null,
   "metadata": {},
   "outputs": [],
   "source": [
    "dlqn = df_train[DLQN].values\n",
    "sns.countplot(dlqn).set_title('Proportion of ' + DLQN)\n",
    "plt.show()"
   ]
  },
  {
   "cell_type": "code",
   "execution_count": null,
   "metadata": {},
   "outputs": [],
   "source": [
    "revolve = df_train[REVOLVE]\n",
    "print \"Total RevolvingUtilizationOfUnsecuredLines :\" + str(len(revolve))\n",
    "print \"Total RevolvingUtilizationOfUnsecuredLines > 1.0 : \" + str(len(np.where(revolve > 1.0)[0]))\n",
    "print \"Total RevolvingUtilizationOfUnsecuredLines > 1.5 : \" + str(len(np.where(revolve > 1.5)[0]))\n",
    "print \"Total RevolvingUtilizationOfUnsecuredLines > 2.0 : \" + str(len(np.where(revolve > 2.0)[0]))\n",
    "print \"Total RevolvingUtilizationOfUnsecuredLines > 5.0 : \" + str(len(np.where(revolve > 5.0)[0]))\n",
    "print \"Total RevolvingUtilizationOfUnsecuredLines > 100.0 : \" + str(len(np.where(revolve > 100.0)[0]))\n",
    "\n",
    "no_out_revolve = np.where(revolve > 1.0, 1.0, revolve)"
   ]
  },
  {
   "cell_type": "code",
   "execution_count": null,
   "metadata": {},
   "outputs": [],
   "source": [
    "fig, axes = plt.subplots(nrows = 2)\n",
    "sns.distplot(revolve, ax = axes[0]).set_title('Distribution plot of ' + REVOLVE)\n",
    "sns.distplot(no_out_revolve, ax = axes[1]).set_title('Distribution plot of ' + REVOLVE + ' without Outliers')\n",
    "plt.tight_layout()\n",
    "plt.show()"
   ]
  },
  {
   "cell_type": "code",
   "execution_count": null,
   "metadata": {},
   "outputs": [],
   "source": [
    "sns.boxplot(x = dlqn, y = no_out_revolve).set_title(REVOLVE  + ' vs ' + DLQN)\n",
    "plt.show()"
   ]
  },
  {
   "cell_type": "code",
   "execution_count": null,
   "metadata": {},
   "outputs": [],
   "source": [
    "age = df_train[AGE].values\n",
    "counter = Counter(age)\n",
    "df_count =  pd.DataFrame.from_dict(counter, orient='index').reset_index()\n",
    "df_count.columns = [AGE, 'total']\n",
    "df_count"
   ]
  },
  {
   "cell_type": "code",
   "execution_count": null,
   "metadata": {},
   "outputs": [],
   "source": [
    "no_out_age = np.where(age < 21, 21, age)\n",
    "no_out_age = np.where(no_out_age > 100, 100, no_out_age)\n",
    "counter = Counter(no_out_age)\n",
    "df_count =  pd.DataFrame.from_dict(counter, orient='index').reset_index()\n",
    "df_count.columns = [AGE, 'total']\n",
    "df_count"
   ]
  },
  {
   "cell_type": "code",
   "execution_count": null,
   "metadata": {},
   "outputs": [],
   "source": [
    "sns.boxplot(x = dlqn, y = no_out_age).set_title(AGE  + ' vs ' + DLQN)\n",
    "plt.show()"
   ]
  },
  {
   "cell_type": "code",
   "execution_count": null,
   "metadata": {},
   "outputs": [],
   "source": [
    "pastdue_30_59 = df_train[PASTDUE_30_59].values.astype(float)\n",
    "pastdue_60_89 = df_train[PASTDUE_60_89].values.astype(float)\n",
    "pastdue_90 = df_train[PASTDUE_90].values.astype(float)\n",
    "df_30 =  pd.DataFrame.from_dict(Counter(pastdue_30_59), orient='index').reset_index()\n",
    "df_30.columns = ['number_pastdue', 'count_30']\n",
    "df_60 = pd.DataFrame.from_dict(Counter(pastdue_60_89), orient='index').reset_index()\n",
    "df_60.columns = ['number_pastdue', 'count_60']\n",
    "df_90 = pd.DataFrame.from_dict(Counter(pastdue_90), orient ='index').reset_index()\n",
    "df_90.columns = ['number_pastdue', 'count_90']\n",
    "\n",
    "list_df = [df_30, df_60, df_90]\n",
    "df_final = reduce(lambda left,right: pd.merge(left,right,on='number_pastdue', how='outer'), list_df)\n",
    "df_final = df_final.fillna(0.0)\n",
    "display(df_final)\n",
    "\n",
    "no_out_pastdue_30_59 = np.where(np.logical_or(pastdue_30_59 == 96. , pastdue_30_59 == 98.), 0., pastdue_30_59)\n",
    "no_out_pastdue_60_89 = np.where(np.logical_or(pastdue_60_89 == 96., pastdue_60_89 == 98.), 0., pastdue_60_89)\n",
    "no_out_pastdue_90 = np.where(np.logical_or(pastdue_90 == 96. , pastdue_90 == 98.), 0., pastdue_90)"
   ]
  },
  {
   "cell_type": "code",
   "execution_count": null,
   "metadata": {},
   "outputs": [],
   "source": [
    "fig, axes = plt.subplots(ncols=3, figsize=(20,10))\n",
    "sns.boxplot(x = dlqn, y = no_out_pastdue_30_59, ax=axes[0]).set_title(PASTDUE_30_59  + ' vs ' + DLQN)\n",
    "sns.boxplot(x = dlqn, y = no_out_pastdue_60_89, ax=axes[1]).set_title(PASTDUE_60_89  + ' vs ' + DLQN)\n",
    "sns.boxplot(x = dlqn, y = no_out_pastdue_90, ax=axes[2]).set_title(PASTDUE_90  + ' vs ' + DLQN)\n",
    "plt.tight_layout()\n",
    "plt.show()"
   ]
  },
  {
   "cell_type": "code",
   "execution_count": null,
   "metadata": {},
   "outputs": [],
   "source": [
    "monthly_income = df_train[MONTHLY_INCOME]\n",
    "np.nanmedian(monthly_income)"
   ]
  },
  {
   "cell_type": "code",
   "execution_count": null,
   "metadata": {},
   "outputs": [],
   "source": [
    "monthly_income = df_train[MONTHLY_INCOME]\n",
    "monthly_income = np.where(pd.isnull(monthly_income), np.nanmedian(monthly_income), monthly_income)\n",
    "print \"Total monthly_income :\" + str(len(monthly_income))\n",
    "print \"Total monthly_income > 1000.0 : \" + str(len(np.where(monthly_income > 1000.0)[0]))\n",
    "print \"Total monthly_income > 10000.0 : \" + str(len(np.where(monthly_income > 10000.0)[0]))\n",
    "print \"Total monthly_income > 20000.0 : \" + str(len(np.where(monthly_income > 20000.0)[0]))\n",
    "print \"Total monthly_income > 50000.0 : \" + str(len(np.where(monthly_income > 50000.0)[0]))\n",
    "print \"Total monthly_income > 100000.0 : \" + str(len(np.where(monthly_income > 100000.0)[0]))\n",
    "no_out_monthly_income = np.where(monthly_income > 20000.0, np.nanmedian(monthly_income), monthly_income)"
   ]
  },
  {
   "cell_type": "code",
   "execution_count": null,
   "metadata": {},
   "outputs": [],
   "source": [
    "fig, axes = plt.subplots(nrows = 2)\n",
    "sns.distplot(monthly_income, ax = axes[0]).set_title('distplot of ' + str(MONTHLY_INCOME))\n",
    "sns.distplot(no_out_monthly_income).set_title('distplot of ' + str(MONTHLY_INCOME) + ' without outlier')\n",
    "plt.tight_layout()\n",
    "plt.show()"
   ]
  },
  {
   "cell_type": "code",
   "execution_count": null,
   "metadata": {},
   "outputs": [],
   "source": [
    "debtratio = df_train[DEBT_RATIO].values\n",
    "print \"Total debtratio :\" + str(len(debtratio))\n",
    "print \"Total debtratio > 100.0 : \" + str(len(np.where(debtratio > 100.0)[0]))\n",
    "print \"Total debtratio > 1000.0 : \" + str(len(np.where(debtratio > 1000.0)[0]))\n",
    "print \"Total debtratio > 5000.0 : \" + str(len(np.where(debtratio > 5000.0)[0]))\n",
    "print \"Total debtratio > 10000.0 : \" + str(len(np.where(debtratio > 10000.0)[0]))"
   ]
  },
  {
   "cell_type": "code",
   "execution_count": null,
   "metadata": {},
   "outputs": [],
   "source": [
    "no_out_ratio = np.where(debtratio > 5000.0, 5000.0, debtratio)"
   ]
  },
  {
   "cell_type": "code",
   "execution_count": null,
   "metadata": {},
   "outputs": [],
   "source": [
    "open_credit_loan = df_train[OPEN_CREDIT_LOAN].values\n",
    "sns.distplot(open_credit_loan)"
   ]
  },
  {
   "cell_type": "code",
   "execution_count": null,
   "metadata": {},
   "outputs": [],
   "source": [
    "real_estate_loan = df_train[ESTATE_LOAN].values\n",
    "sns.distplot(real_estate_loan)"
   ]
  },
  {
   "cell_type": "code",
   "execution_count": null,
   "metadata": {},
   "outputs": [],
   "source": [
    "dependents = df_train[DEPENDENTS].values\n",
    "dependents = np.where(pd.isnull(dependents), 0.0, dependents)\n",
    "sns.distplot(dependents)"
   ]
  },
  {
   "cell_type": "code",
   "execution_count": 7,
   "metadata": {},
   "outputs": [],
   "source": [
    "def prepare_dataset(df_train):\n",
    "    revolve = df_train[REVOLVE]\n",
    "    age = df_train[AGE].values\n",
    "    pastdue_30_59 = df_train[PASTDUE_30_59].values.astype(float)\n",
    "    pastdue_60_89 = df_train[PASTDUE_60_89].values.astype(float)\n",
    "    pastdue_90 = df_train[PASTDUE_90].values.astype(float)\n",
    "    monthly_income = df_train[MONTHLY_INCOME]\n",
    "    monthly_income = np.where(pd.isnull(monthly_income), np.nanmedian(monthly_income), monthly_income)\n",
    "    dependents = df_train[DEPENDENTS].values\n",
    "    debtratio = df_train[DEBT_RATIO].values\n",
    "    \n",
    "    no_out_revolve = np.where(revolve > 1.0, 1.0, revolve)\n",
    "    no_out_age = np.where(age < 21, 21, age)\n",
    "    no_out_age = np.where(no_out_age > 100, 100, no_out_age)\n",
    "    no_out_pastdue_30_59 = np.where(np.logical_or(pastdue_30_59 == 96. , pastdue_30_59 == 98.), 0., pastdue_30_59)\n",
    "    no_out_pastdue_60_89 = np.where(np.logical_or(pastdue_60_89 == 96., pastdue_60_89 == 98.), 0., pastdue_60_89)\n",
    "    no_out_pastdue_90 = np.where(np.logical_or(pastdue_90 == 96. , pastdue_90 == 98.), 0., pastdue_90)\n",
    "    no_out_monthly_income = np.where(monthly_income > 20000.0, np.nanmedian(monthly_income), monthly_income)\n",
    "    no_out_dependents = np.where(pd.isnull(dependents), 0.0, dependents)\n",
    "    no_out_ratio = np.where(debtratio > 5000.0, 5000.0, debtratio)\n",
    "    \n",
    "    df_train[REVOLVE] = no_out_revolve.astype(float)\n",
    "    df_train[AGE] = no_out_age.astype(int)\n",
    "    df_train[PASTDUE_30_59] = no_out_pastdue_30_59.astype(int)\n",
    "    df_train[PASTDUE_60_89] = no_out_pastdue_60_89.astype(int)\n",
    "    df_train[PASTDUE_90] = no_out_pastdue_90.astype(int)\n",
    "    df_train[MONTHLY_INCOME] = no_out_monthly_income.astype(float)\n",
    "    df_train[DEPENDENTS] = no_out_dependents.astype(int)\n",
    "    df_train[DEBT_RATIO] = no_out_ratio.astype(float)\n",
    "    \n",
    "    x_train = df_train[[u'RevolvingUtilizationOfUnsecuredLines', u'age',\n",
    "       u'NumberOfTime30-59DaysPastDueNotWorse', u'DebtRatio', u'MonthlyIncome',\n",
    "       u'NumberOfOpenCreditLinesAndLoans', u'NumberOfTimes90DaysLate',\n",
    "       u'NumberRealEstateLoansOrLines',\n",
    "       u'NumberOfTime60-89DaysPastDueNotWorse', u'NumberOfDependents']].values\n",
    "    y_train = df_train['SeriousDlqin2yrs'].values\n",
    "    \n",
    "    return x_train, y_train"
   ]
  },
  {
   "cell_type": "code",
   "execution_count": 17,
   "metadata": {},
   "outputs": [],
   "source": [
    "x_train, y_train = prepare_dataset(df_train)"
   ]
  },
  {
   "cell_type": "code",
   "execution_count": 19,
   "metadata": {},
   "outputs": [
    {
     "data": {
      "text/plain": [
       "(150000, 10)"
      ]
     },
     "execution_count": 19,
     "metadata": {},
     "output_type": "execute_result"
    }
   ],
   "source": [
    "x_train.shape"
   ]
  }
 ],
 "metadata": {
  "kernelspec": {
   "display_name": "Python 2",
   "language": "python",
   "name": "python2"
  },
  "language_info": {
   "codemirror_mode": {
    "name": "ipython",
    "version": 2
   },
   "file_extension": ".py",
   "mimetype": "text/x-python",
   "name": "python",
   "nbconvert_exporter": "python",
   "pygments_lexer": "ipython2",
   "version": "2.7.14"
  }
 },
 "nbformat": 4,
 "nbformat_minor": 2
}
