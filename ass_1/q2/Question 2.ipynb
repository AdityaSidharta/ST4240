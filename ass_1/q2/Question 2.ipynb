{
 "cells": [
  {
   "cell_type": "code",
   "execution_count": null,
   "metadata": {},
   "outputs": [],
   "source": [
    "%cd /home/adityasidharta/ST4240/ass_1/q2"
   ]
  },
  {
   "cell_type": "code",
   "execution_count": null,
   "metadata": {},
   "outputs": [],
   "source": [
    "import pandas as pd\n",
    "import numpy as np\n",
    "import seaborn as sns\n",
    "import matplotlib.pyplot as plt\n",
    "from collections import Counter\n",
    "import pickle\n",
    "from sklearn.externals import joblib\n",
    "import time\n",
    "\n",
    "%matplotlib inline"
   ]
  },
  {
   "cell_type": "markdown",
   "metadata": {},
   "source": [
    "### Loading Dataset"
   ]
  },
  {
   "cell_type": "code",
   "execution_count": null,
   "metadata": {},
   "outputs": [],
   "source": [
    "df_data_dictionary = pd.read_excel('Data%20Dictionary.xls')\n",
    "df_sample_entry = pd.read_csv('sampleEntry.csv')\n",
    "df_train = pd.read_csv('cs-training.csv', index_col=0)\n",
    "df_test = pd.read_csv('cs-test.csv', index_col=0)"
   ]
  },
  {
   "cell_type": "code",
   "execution_count": null,
   "metadata": {},
   "outputs": [],
   "source": [
    "pd.set_option('max_colwidth', -1)\n",
    "display(df_data_dictionary)\n",
    "pd.reset_option('max_colwidth')"
   ]
  },
  {
   "cell_type": "code",
   "execution_count": null,
   "metadata": {},
   "outputs": [],
   "source": [
    "df_train.head()"
   ]
  },
  {
   "cell_type": "markdown",
   "metadata": {},
   "source": [
    "### Train/Test Data Exploratory. \n",
    "- Dimension of the data\n",
    "- Checking whether there are any empty value\n",
    "- Checking the distribution of all the columns in the data\n",
    "- Checking the correlation between the data"
   ]
  },
  {
   "cell_type": "code",
   "execution_count": null,
   "metadata": {},
   "outputs": [],
   "source": [
    "print df_train.shape\n",
    "print df_test.shape"
   ]
  },
  {
   "cell_type": "code",
   "execution_count": null,
   "metadata": {},
   "outputs": [],
   "source": [
    "df_train.columns"
   ]
  },
  {
   "cell_type": "code",
   "execution_count": null,
   "metadata": {},
   "outputs": [],
   "source": [
    "DLQN = 'SeriousDlqin2yrs'\n",
    "REVOLVE = 'RevolvingUtilizationOfUnsecuredLines'\n",
    "AGE = 'age'\n",
    "PASTDUE_30_59 = 'NumberOfTime30-59DaysPastDueNotWorse'\n",
    "DEBT_RATIO = 'DebtRatio'\n",
    "MONTHLY_INCOME = 'MonthlyIncome'\n",
    "OPEN_CREDIT_LOAN = 'NumberOfOpenCreditLinesAndLoans'\n",
    "PASTDUE_90 = 'NumberOfTimes90DaysLate'\n",
    "ESTATE_LOAN = 'NumberRealEstateLoansOrLines'\n",
    "PASTDUE_60_89 = 'NumberOfTime60-89DaysPastDueNotWorse'\n",
    "DEPENDENTS = 'NumberOfDependents'"
   ]
  },
  {
   "cell_type": "code",
   "execution_count": null,
   "metadata": {},
   "outputs": [],
   "source": [
    "df_train.isnull().sum()"
   ]
  },
  {
   "cell_type": "markdown",
   "metadata": {},
   "source": [
    "- There are empty Values in the Monthly Income.\n",
    "- There are empty Values in the Number of Dependents. "
   ]
  },
  {
   "cell_type": "code",
   "execution_count": null,
   "metadata": {},
   "outputs": [],
   "source": [
    "dlqn = df_train[DLQN].values\n",
    "sns.countplot(dlqn).set_title('Proportion of ' + DLQN)\n",
    "plt.show()"
   ]
  },
  {
   "cell_type": "code",
   "execution_count": null,
   "metadata": {},
   "outputs": [],
   "source": [
    "revolve = df_train[REVOLVE]\n",
    "print \"Total RevolvingUtilizationOfUnsecuredLines :\" + str(len(revolve))\n",
    "print \"Total RevolvingUtilizationOfUnsecuredLines > 1.0 : \" + str(len(np.where(revolve > 1.0)[0]))\n",
    "print \"Total RevolvingUtilizationOfUnsecuredLines > 1.5 : \" + str(len(np.where(revolve > 1.5)[0]))\n",
    "print \"Total RevolvingUtilizationOfUnsecuredLines > 2.0 : \" + str(len(np.where(revolve > 2.0)[0]))\n",
    "print \"Total RevolvingUtilizationOfUnsecuredLines > 5.0 : \" + str(len(np.where(revolve > 5.0)[0]))\n",
    "print \"Total RevolvingUtilizationOfUnsecuredLines > 100.0 : \" + str(len(np.where(revolve > 100.0)[0]))\n",
    "\n",
    "no_out_revolve = np.where(revolve > 1.0, 1.0, revolve)"
   ]
  },
  {
   "cell_type": "code",
   "execution_count": null,
   "metadata": {},
   "outputs": [],
   "source": [
    "fig, axes = plt.subplots(nrows = 2)\n",
    "sns.distplot(revolve, ax = axes[0]).set_title('Distribution plot of ' + REVOLVE)\n",
    "sns.distplot(no_out_revolve, ax = axes[1]).set_title('Distribution plot of ' + REVOLVE + ' without Outliers')\n",
    "plt.tight_layout()\n",
    "plt.show()"
   ]
  },
  {
   "cell_type": "code",
   "execution_count": null,
   "metadata": {},
   "outputs": [],
   "source": [
    "sns.boxplot(x = dlqn, y = no_out_revolve).set_title(REVOLVE  + ' vs ' + DLQN)\n",
    "plt.show()"
   ]
  },
  {
   "cell_type": "code",
   "execution_count": null,
   "metadata": {},
   "outputs": [],
   "source": [
    "age = df_train[AGE].values\n",
    "counter = Counter(age)\n",
    "df_count =  pd.DataFrame.from_dict(counter, orient='index').reset_index()\n",
    "df_count.columns = [AGE, 'total']\n",
    "df_count"
   ]
  },
  {
   "cell_type": "code",
   "execution_count": null,
   "metadata": {},
   "outputs": [],
   "source": [
    "no_out_age = np.where(age < 21, 21, age)\n",
    "no_out_age = np.where(no_out_age > 100, 100, no_out_age)\n",
    "counter = Counter(no_out_age)\n",
    "df_count =  pd.DataFrame.from_dict(counter, orient='index').reset_index()\n",
    "df_count.columns = [AGE, 'total']\n",
    "df_count"
   ]
  },
  {
   "cell_type": "code",
   "execution_count": null,
   "metadata": {},
   "outputs": [],
   "source": [
    "sns.boxplot(x = dlqn, y = no_out_age).set_title(AGE  + ' vs ' + DLQN)\n",
    "plt.show()"
   ]
  },
  {
   "cell_type": "code",
   "execution_count": null,
   "metadata": {},
   "outputs": [],
   "source": [
    "pastdue_30_59 = df_train[PASTDUE_30_59].values.astype(float)\n",
    "pastdue_60_89 = df_train[PASTDUE_60_89].values.astype(float)\n",
    "pastdue_90 = df_train[PASTDUE_90].values.astype(float)\n",
    "df_30 =  pd.DataFrame.from_dict(Counter(pastdue_30_59), orient='index').reset_index()\n",
    "df_30.columns = ['number_pastdue', 'count_30']\n",
    "df_60 = pd.DataFrame.from_dict(Counter(pastdue_60_89), orient='index').reset_index()\n",
    "df_60.columns = ['number_pastdue', 'count_60']\n",
    "df_90 = pd.DataFrame.from_dict(Counter(pastdue_90), orient ='index').reset_index()\n",
    "df_90.columns = ['number_pastdue', 'count_90']\n",
    "\n",
    "list_df = [df_30, df_60, df_90]\n",
    "df_final = reduce(lambda left,right: pd.merge(left,right,on='number_pastdue', how='outer'), list_df)\n",
    "df_final = df_final.fillna(0.0)\n",
    "display(df_final)\n",
    "\n",
    "no_out_pastdue_30_59 = np.where(np.logical_or(pastdue_30_59 == 96. , pastdue_30_59 == 98.), 0., pastdue_30_59)\n",
    "no_out_pastdue_60_89 = np.where(np.logical_or(pastdue_60_89 == 96., pastdue_60_89 == 98.), 0., pastdue_60_89)\n",
    "no_out_pastdue_90 = np.where(np.logical_or(pastdue_90 == 96. , pastdue_90 == 98.), 0., pastdue_90)"
   ]
  },
  {
   "cell_type": "code",
   "execution_count": null,
   "metadata": {},
   "outputs": [],
   "source": [
    "fig, axes = plt.subplots(ncols=3, figsize=(20,10))\n",
    "sns.boxplot(x = dlqn, y = no_out_pastdue_30_59, ax=axes[0]).set_title(PASTDUE_30_59  + ' vs ' + DLQN)\n",
    "sns.boxplot(x = dlqn, y = no_out_pastdue_60_89, ax=axes[1]).set_title(PASTDUE_60_89  + ' vs ' + DLQN)\n",
    "sns.boxplot(x = dlqn, y = no_out_pastdue_90, ax=axes[2]).set_title(PASTDUE_90  + ' vs ' + DLQN)\n",
    "plt.tight_layout()\n",
    "plt.show()"
   ]
  },
  {
   "cell_type": "code",
   "execution_count": null,
   "metadata": {},
   "outputs": [],
   "source": [
    "monthly_income = df_train[MONTHLY_INCOME]\n",
    "np.nanmedian(monthly_income)"
   ]
  },
  {
   "cell_type": "code",
   "execution_count": null,
   "metadata": {},
   "outputs": [],
   "source": [
    "monthly_income = df_train[MONTHLY_INCOME]\n",
    "monthly_income = np.where(pd.isnull(monthly_income), np.nanmedian(monthly_income), monthly_income)\n",
    "print \"Total monthly_income :\" + str(len(monthly_income))\n",
    "print \"Total monthly_income > 1000.0 : \" + str(len(np.where(monthly_income > 1000.0)[0]))\n",
    "print \"Total monthly_income > 10000.0 : \" + str(len(np.where(monthly_income > 10000.0)[0]))\n",
    "print \"Total monthly_income > 20000.0 : \" + str(len(np.where(monthly_income > 20000.0)[0]))\n",
    "print \"Total monthly_income > 50000.0 : \" + str(len(np.where(monthly_income > 50000.0)[0]))\n",
    "print \"Total monthly_income > 100000.0 : \" + str(len(np.where(monthly_income > 100000.0)[0]))\n",
    "no_out_monthly_income = np.where(monthly_income > 20000.0, np.nanmedian(monthly_income), monthly_income)"
   ]
  },
  {
   "cell_type": "code",
   "execution_count": null,
   "metadata": {},
   "outputs": [],
   "source": [
    "fig, axes = plt.subplots(nrows = 2)\n",
    "sns.distplot(monthly_income, ax = axes[0]).set_title('distplot of ' + str(MONTHLY_INCOME))\n",
    "sns.distplot(no_out_monthly_income).set_title('distplot of ' + str(MONTHLY_INCOME) + ' without outlier')\n",
    "plt.tight_layout()\n",
    "plt.show()"
   ]
  },
  {
   "cell_type": "code",
   "execution_count": null,
   "metadata": {},
   "outputs": [],
   "source": [
    "debtratio = df_train[DEBT_RATIO].values\n",
    "print \"Total debtratio :\" + str(len(debtratio))\n",
    "print \"Total debtratio > 100.0 : \" + str(len(np.where(debtratio > 100.0)[0]))\n",
    "print \"Total debtratio > 1000.0 : \" + str(len(np.where(debtratio > 1000.0)[0]))\n",
    "print \"Total debtratio > 5000.0 : \" + str(len(np.where(debtratio > 5000.0)[0]))\n",
    "print \"Total debtratio > 10000.0 : \" + str(len(np.where(debtratio > 10000.0)[0]))"
   ]
  },
  {
   "cell_type": "code",
   "execution_count": null,
   "metadata": {},
   "outputs": [],
   "source": [
    "no_out_ratio = np.where(debtratio > 5000.0, 5000.0, debtratio)"
   ]
  },
  {
   "cell_type": "code",
   "execution_count": null,
   "metadata": {},
   "outputs": [],
   "source": [
    "open_credit_loan = df_train[OPEN_CREDIT_LOAN].values\n",
    "sns.distplot(open_credit_loan)"
   ]
  },
  {
   "cell_type": "code",
   "execution_count": null,
   "metadata": {},
   "outputs": [],
   "source": [
    "real_estate_loan = df_train[ESTATE_LOAN].values\n",
    "sns.distplot(real_estate_loan)"
   ]
  },
  {
   "cell_type": "code",
   "execution_count": null,
   "metadata": {},
   "outputs": [],
   "source": [
    "dependents = df_train[DEPENDENTS].values\n",
    "dependents = np.where(pd.isnull(dependents), 0.0, dependents)\n",
    "sns.distplot(dependents)"
   ]
  },
  {
   "cell_type": "code",
   "execution_count": null,
   "metadata": {},
   "outputs": [],
   "source": [
    "def prepare_dataset(df_train):\n",
    "    revolve = df_train[REVOLVE]\n",
    "    age = df_train[AGE].values\n",
    "    pastdue_30_59 = df_train[PASTDUE_30_59].values.astype(float)\n",
    "    pastdue_60_89 = df_train[PASTDUE_60_89].values.astype(float)\n",
    "    pastdue_90 = df_train[PASTDUE_90].values.astype(float)\n",
    "    monthly_income = df_train[MONTHLY_INCOME]\n",
    "    monthly_income = np.where(pd.isnull(monthly_income), np.nanmedian(monthly_income), monthly_income)\n",
    "    dependents = df_train[DEPENDENTS].values\n",
    "    debtratio = df_train[DEBT_RATIO].values\n",
    "    \n",
    "    no_out_revolve = np.where(revolve > 1.0, 1.0, revolve)\n",
    "    no_out_age = np.where(age < 21, 21, age)\n",
    "    no_out_age = np.where(no_out_age > 100, 100, no_out_age)\n",
    "    no_out_pastdue_30_59 = np.where(np.logical_or(pastdue_30_59 == 96. , pastdue_30_59 == 98.), 0., pastdue_30_59)\n",
    "    no_out_pastdue_60_89 = np.where(np.logical_or(pastdue_60_89 == 96., pastdue_60_89 == 98.), 0., pastdue_60_89)\n",
    "    no_out_pastdue_90 = np.where(np.logical_or(pastdue_90 == 96. , pastdue_90 == 98.), 0., pastdue_90)\n",
    "    no_out_monthly_income = np.where(monthly_income > 20000.0, np.nanmedian(monthly_income), monthly_income)\n",
    "    no_out_dependents = np.where(pd.isnull(dependents), 0.0, dependents)\n",
    "    no_out_ratio = np.where(debtratio > 5000.0, 5000.0, debtratio)\n",
    "    \n",
    "    df_train[REVOLVE] = no_out_revolve.astype(float)\n",
    "    df_train[AGE] = no_out_age.astype(int)\n",
    "    df_train[PASTDUE_30_59] = no_out_pastdue_30_59.astype(int)\n",
    "    df_train[PASTDUE_60_89] = no_out_pastdue_60_89.astype(int)\n",
    "    df_train[PASTDUE_90] = no_out_pastdue_90.astype(int)\n",
    "    df_train[MONTHLY_INCOME] = no_out_monthly_income.astype(float)\n",
    "    df_train[DEPENDENTS] = no_out_dependents.astype(int)\n",
    "    df_train[DEBT_RATIO] = no_out_ratio.astype(float)\n",
    "    \n",
    "    x_train = df_train[[u'RevolvingUtilizationOfUnsecuredLines', u'age',\n",
    "       u'NumberOfTime30-59DaysPastDueNotWorse', u'DebtRatio', u'MonthlyIncome',\n",
    "       u'NumberOfOpenCreditLinesAndLoans', u'NumberOfTimes90DaysLate',\n",
    "       u'NumberRealEstateLoansOrLines',\n",
    "       u'NumberOfTime60-89DaysPastDueNotWorse', u'NumberOfDependents']].values\n",
    "    y_train = df_train['SeriousDlqin2yrs'].values\n",
    "    \n",
    "    return x_train, y_train"
   ]
  },
  {
   "cell_type": "code",
   "execution_count": null,
   "metadata": {},
   "outputs": [],
   "source": [
    "full_X_train, full_y_train = prepare_dataset(df_train)"
   ]
  },
  {
   "cell_type": "code",
   "execution_count": null,
   "metadata": {},
   "outputs": [],
   "source": [
    "X_test, y_test = prepare_dataset(df_test)"
   ]
  },
  {
   "cell_type": "code",
   "execution_count": null,
   "metadata": {},
   "outputs": [],
   "source": [
    "from sklearn.linear_model import LogisticRegressionCV\n",
    "from sklearn.ensemble import AdaBoostClassifier, GradientBoostingClassifier, RandomForestClassifier\n",
    "from sklearn.model_selection import train_test_split, GridSearchCV, RandomizedSearchCV\n",
    "from sklearn.metrics import log_loss"
   ]
  },
  {
   "cell_type": "code",
   "execution_count": null,
   "metadata": {},
   "outputs": [],
   "source": [
    "X_train, X_val, y_train, y_val = train_test_split(full_X_train, full_y_train, test_size = 0.20)"
   ]
  },
  {
   "cell_type": "code",
   "execution_count": null,
   "metadata": {},
   "outputs": [],
   "source": [
    "lr_CV_model = LogisticRegressionCV()\n",
    "lr_CV_model.fit(X_train, y_train)\n",
    "lrm_prob = lr_CV_model.predict_proba(X_val)"
   ]
  },
  {
   "cell_type": "code",
   "execution_count": null,
   "metadata": {},
   "outputs": [],
   "source": [
    "gb_model = GradientBoostingClassifier(loss='deviance', learning_rate=0.02, n_estimators=500, subsample=1.0,\n",
    "                                   min_samples_split= 0.005, min_samples_leaf= 0.005, max_depth=15,\n",
    "                                   init=None, random_state=None, max_features= 0.2, verbose=1)\n",
    "gb_model.fit(X_train, y_train)\n",
    "gb_prob = gb_model.predict_proba(X_val)"
   ]
  },
  {
   "cell_type": "code",
   "execution_count": null,
   "metadata": {},
   "outputs": [],
   "source": [
    "rf_model = RandomForestClassifier(n_estimators=500, criterion='gini', max_depth=3, min_samples_split=7,\n",
    "                               min_samples_leaf= 5, min_weight_fraction_leaf=0.0, max_features=7,\n",
    "                               max_leaf_nodes=None, bootstrap=True, verbose=1)\n",
    "rf_model.fit(X_train, y_train)\n",
    "rf_prob = rf_model.predict_proba(X_val)"
   ]
  },
  {
   "cell_type": "code",
   "execution_count": null,
   "metadata": {},
   "outputs": [],
   "source": [
    "print log_loss(y_val, lrm_prob)\n",
    "print log_loss(y_val, gb_prob)\n",
    "print log_loss(y_val, rf_prob)"
   ]
  },
  {
   "cell_type": "code",
   "execution_count": null,
   "metadata": {},
   "outputs": [],
   "source": [
    "# Utility function to report best scores\n",
    "def report(results, n_top=3):\n",
    "    for i in range(1, n_top + 1):\n",
    "        candidates = np.flatnonzero(results['rank_test_score'] == i)\n",
    "        for candidate in candidates:\n",
    "            print(\"Model with rank: {0}\".format(i))\n",
    "            print(\"Mean validation score: {0:.3f} (std: {1:.3f})\".format(\n",
    "                  results['mean_test_score'][candidate],\n",
    "                  results['std_test_score'][candidate]))\n",
    "            print(\"Parameters: {0}\".format(results['params'][candidate]))\n",
    "            print(\"\")\n"
   ]
  },
  {
   "cell_type": "code",
   "execution_count": null,
   "metadata": {},
   "outputs": [],
   "source": [
    "rf_params = {\"max_depth\": [3, 5, 7, 9 ,12, 15, 25, None],\n",
    "              \"max_features\": [0.1, 0.2, 0.3, 'sqrt', 0.5 , None],\n",
    "              \"n_estimators\":[500],\n",
    "              \"min_samples_leaf\": [2 ,5, 10, 25, 50, 100] + np.arange(0.001, 0.01, 0.001).tolist(),\n",
    "              \"min_samples_split\": [2 ,5, 10, 25, 50, 100] + np.arange(0.001, 0.01, 0.001).tolist(),\n",
    "              \"bootstrap\": [True, False],\n",
    "              \"criterion\": [\"gini\", \"entropy\"],\n",
    "            }\n"
   ]
  },
  {
   "cell_type": "code",
   "execution_count": null,
   "metadata": {},
   "outputs": [],
   "source": [
    "rf_CV_model = RandomizedSearchCV(estimator=rf_model, param_distributions=rf_params, n_iter= 300,\n",
    "                                   scoring='neg_log_loss', cv=3, verbose= 2, n_jobs = -1, return_train_score = True).fit(full_X_train, full_y_train)"
   ]
  },
  {
   "cell_type": "code",
   "execution_count": null,
   "metadata": {},
   "outputs": [],
   "source": [
    "joblib.dump(rf_CV_model, 'rf_CV_model.pkl') "
   ]
  },
  {
   "cell_type": "code",
   "execution_count": null,
   "metadata": {},
   "outputs": [],
   "source": [
    "def get_parameter_space(param_dict):\n",
    "    space = 1\n",
    "    for key in param_dict.keys():\n",
    "        space = space * len(param_dict[key])\n",
    "    return space\n",
    "\n",
    "get_parameter_space(gb_params)"
   ]
  },
  {
   "cell_type": "code",
   "execution_count": null,
   "metadata": {},
   "outputs": [],
   "source": [
    "gb_params = {\n",
    "    'learning_rate' : np.arange(0.01, 0.10, 0.01),\n",
    "    'max_depth' : np.arange(3, 25, 2),\n",
    "    \"max_features\" : [0.1, 0.3, 0.5, 'auto', 'log2', None],\n",
    "    'subsample' : [1.0],\n",
    "    'n_estimators' : [100],\n",
    "    \"min_samples_leaf\": [2 ,5, 10, 25, 50, 100] + np.arange(0.001, 0.01, 0.001).tolist(),\n",
    "    \"min_samples_split\": [2 ,5, 10, 25, 50, 100] + np.arange(0.001, 0.01, 0.001).tolist(),\n",
    "}"
   ]
  },
  {
   "cell_type": "code",
   "execution_count": null,
   "metadata": {},
   "outputs": [],
   "source": [
    "gb_CV_model = RandomizedSearchCV(estimator=gb_model, param_distributions=gb_params, n_iter= 500, scoring='neg_log_loss', cv=3, verbose=1, n_jobs = -1,  return_train_score = True).fit(full_X_train, full_y_train)"
   ]
  },
  {
   "cell_type": "code",
   "execution_count": null,
   "metadata": {},
   "outputs": [],
   "source": [
    "joblib.dump(gb_CV_model, 'gb_CV_model.pkl') "
   ]
  },
  {
   "cell_type": "code",
   "execution_count": null,
   "metadata": {},
   "outputs": [],
   "source": [
    "rf_CV_model = joblib.load('rf_CV_model.pkl')\n",
    "gb_CV_model = joblib.load('gb_CV_model.pkl')"
   ]
  },
  {
   "cell_type": "code",
   "execution_count": null,
   "metadata": {},
   "outputs": [],
   "source": [
    "def ensemble_prob_predict(lr_CV_model, rf_CV_model, gb_CV_model, X_test):\n",
    "    lr_proba=  lr_CV_model.predict_proba(X_test)\n",
    "    rf_proba = rf_CV_model.predict_proba(X_test)\n",
    "    gb_proba = gb_CV_model.predict_proba(X_test)\n",
    "    return 0.1 * lr_proba + 0.45 * rf_proba + 0.45 * gb_proba"
   ]
  },
  {
   "cell_type": "code",
   "execution_count": null,
   "metadata": {},
   "outputs": [],
   "source": [
    "y_test_proba = ensemble_prob_predict(lr_CV_model, rf_CV_model, gb_CV_model, X_test)"
   ]
  },
  {
   "cell_type": "code",
   "execution_count": null,
   "metadata": {},
   "outputs": [],
   "source": [
    "y_test_proba.shape"
   ]
  },
  {
   "cell_type": "code",
   "execution_count": null,
   "metadata": {},
   "outputs": [],
   "source": [
    "dict_pred = {\n",
    "    'Id' : range(1, 101504),\n",
    "    'Probability' : y_test_proba[:,1]\n",
    "}\n",
    "\n",
    "df_pred = pd.DataFrame(dict_pred)"
   ]
  },
  {
   "cell_type": "code",
   "execution_count": null,
   "metadata": {},
   "outputs": [],
   "source": [
    "df_pred.to_csv('entry.csv', index=False)"
   ]
  }
 ],
 "metadata": {
  "kernelspec": {
   "display_name": "Python 2",
   "language": "python",
   "name": "python2"
  },
  "language_info": {
   "codemirror_mode": {
    "name": "ipython",
    "version": 2
   },
   "file_extension": ".py",
   "mimetype": "text/x-python",
   "name": "python",
   "nbconvert_exporter": "python",
   "pygments_lexer": "ipython2",
   "version": "2.7.14"
  }
 },
 "nbformat": 4,
 "nbformat_minor": 2
}
