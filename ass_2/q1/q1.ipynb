{
 "cells": [
  {
   "cell_type": "code",
   "execution_count": 62,
   "metadata": {},
   "outputs": [],
   "source": [
    "from gensim.models.word2vec import Word2Vec\n",
    "from sklearn.externals import joblib"
   ]
  },
  {
   "cell_type": "code",
   "execution_count": 63,
   "metadata": {},
   "outputs": [],
   "source": [
    "from tqdm import tqdm\n",
    "from sklearn.decomposition import TruncatedSVD\n",
    "from sklearn.preprocessing import MinMaxScaler"
   ]
  },
  {
   "cell_type": "code",
   "execution_count": 64,
   "metadata": {},
   "outputs": [],
   "source": [
    "import sys\n",
    "import csv\n",
    "import pandas as pd\n",
    "import tweepy\n",
    "import string\n",
    "from string import maketrans \n",
    "import re\n",
    "from nltk.corpus import stopwords\n",
    "from nltk.stem import WordNetLemmatizer\n",
    "import numpy as np\n",
    "\n",
    "from sklearn.feature_extraction.text import TfidfVectorizer, CountVectorizer\n",
    "from sklearn.model_selection import train_test_split, cross_val_score, KFold"
   ]
  },
  {
   "cell_type": "code",
   "execution_count": 65,
   "metadata": {},
   "outputs": [],
   "source": [
    "import matplotlib.pyplot as plt\n",
    "import seaborn as sns"
   ]
  },
  {
   "cell_type": "code",
   "execution_count": 5,
   "metadata": {},
   "outputs": [
    {
     "name": "stdout",
     "output_type": "stream",
     "text": [
      "[nltk_data] Downloading package stopwords to\n",
      "[nltk_data]     /home/adityasidharta/nltk_data...\n",
      "[nltk_data]   Package stopwords is already up-to-date!\n",
      "[nltk_data] Downloading package wordnet to\n",
      "[nltk_data]     /home/adityasidharta/nltk_data...\n",
      "[nltk_data]   Package wordnet is already up-to-date!\n"
     ]
    },
    {
     "data": {
      "text/plain": [
       "True"
      ]
     },
     "execution_count": 5,
     "metadata": {},
     "output_type": "execute_result"
    }
   ],
   "source": [
    "import nltk\n",
    "wordnet_lemmatizer = WordNetLemmatizer()\n",
    "nltk.download('stopwords')\n",
    "nltk.download('wordnet')"
   ]
  },
  {
   "cell_type": "code",
   "execution_count": 6,
   "metadata": {},
   "outputs": [
    {
     "data": {
      "text/plain": [
       "u'cat'"
      ]
     },
     "execution_count": 6,
     "metadata": {},
     "output_type": "execute_result"
    }
   ],
   "source": [
    "wordnet_lemmatizer.lemmatize('cats')"
   ]
  },
  {
   "cell_type": "code",
   "execution_count": 7,
   "metadata": {},
   "outputs": [],
   "source": [
    "ckey = \"QUGIYqjtkYTQzP86gNq4hhIvV\"\n",
    "csecret = \"wNZjZTBHcCBrErubiwMbPzQefx6n2VWqXtcfRsdPHOPiMUW7gu\"\n",
    "atoken = \"79133617-CfnOP1oJzG0r9r7VX7ZAUX3CHEZtxq62nVxXG6NXC\"\n",
    "asecret = \"6tRA4gXj08Q0f2vqjaexe6r90cqCzjfg4FG3vMmzZBVrQ\""
   ]
  },
  {
   "cell_type": "code",
   "execution_count": 8,
   "metadata": {},
   "outputs": [],
   "source": [
    "auth = tweepy.OAuthHandler(ckey, csecret)\n",
    "auth.set_access_token(atoken, asecret)\n",
    "api = tweepy.API(auth)"
   ]
  },
  {
   "cell_type": "code",
   "execution_count": 20,
   "metadata": {},
   "outputs": [],
   "source": [
    "def get_all_tweets(screen_name):\n",
    "    alltweets = []\n",
    "    new_tweets = api.user_timeline(screen_name = screen_name,count=200)\n",
    "    alltweets.extend(new_tweets)\n",
    "    oldest = alltweets[-1].id - 1\n",
    "\n",
    "    while len(new_tweets) > 0:\n",
    "        new_tweets = api.user_timeline(screen_name = screen_name,count=200,max_id=oldest)\n",
    "        alltweets.extend(new_tweets)\n",
    "\n",
    "        oldest = alltweets[-1].id - 1\n",
    "\n",
    "    outtweets = [[tweet.id_str, tweet.created_at, tweet.text.encode(\"utf-8\")] for tweet in alltweets]\n",
    "\n",
    "    with open('%s_tweets.csv' % screen_name, 'wb') as f:\n",
    "        writer = csv.writer(f)\n",
    "        writer.writerow([\"id\",\"created_at\",\"text\"])\n",
    "        writer.writerows(outtweets)\n",
    "\n",
    "pass"
   ]
  },
  {
   "cell_type": "code",
   "execution_count": 21,
   "metadata": {},
   "outputs": [],
   "source": [
    "get_all_tweets('HillaryClinton')\n",
    "get_all_tweets('RealDonaldTrump')"
   ]
  },
  {
   "cell_type": "code",
   "execution_count": 72,
   "metadata": {},
   "outputs": [],
   "source": [
    "df_hillary = pd.read_csv('HillaryClinton_tweets.csv')\n",
    "df_trump = pd.read_csv('realDonaldtrump_tweets.csv')"
   ]
  },
  {
   "cell_type": "code",
   "execution_count": 73,
   "metadata": {},
   "outputs": [],
   "source": [
    "def text_process(s):\n",
    "    s = str(s)\n",
    "    s = s.translate(None, string.punctuation.replace('@',''))\n",
    "    s = s.translate(None, '1234567890')\n",
    "    s = [word for word in s.split() if not \\\n",
    "     (word.startswith('http') or word.startswith('@'))]\n",
    "    s = ' '.join(s)\n",
    "    s = re.sub(' +',' ',s)\n",
    "    s = s.decode('ascii', 'ignore')\n",
    "    s = s.lower()\n",
    "    s = [word for word in s.split() if word not\\\n",
    "         in stopwords.words('english') + ['rt'] + ['amp'] + ['hillary', 'donald', 'trump' + 'u']]\n",
    "    s = [wordnet_lemmatizer.lemmatize(word) for word in s]\n",
    "    sentence = ' '.join(s)\n",
    "    return sentence"
   ]
  },
  {
   "cell_type": "code",
   "execution_count": 74,
   "metadata": {},
   "outputs": [],
   "source": [
    "df_hillary['len'] = df_hillary['text'].apply(len)\n",
    "df_hillary['token'] = df_hillary['text'].apply(lambda x : text_process(x))\n",
    "df_trump['len'] = df_trump['text'].apply(len)\n",
    "df_trump['token'] = df_trump['text'].apply(lambda x : text_process(x))"
   ]
  },
  {
   "cell_type": "code",
   "execution_count": 75,
   "metadata": {},
   "outputs": [],
   "source": [
    "df_hillary['user'] = 'hillary'\n",
    "df_trump['user'] = 'trump'"
   ]
  },
  {
   "cell_type": "code",
   "execution_count": 76,
   "metadata": {},
   "outputs": [],
   "source": [
    "df_hillary = df_hillary.loc[df_hillary.token != '', :]\n",
    "df_trump = df_trump.loc[df_trump.token != '', :]"
   ]
  },
  {
   "cell_type": "code",
   "execution_count": 77,
   "metadata": {},
   "outputs": [],
   "source": [
    "df_train = pd.concat([df_hillary, df_trump])"
   ]
  },
  {
   "cell_type": "code",
   "execution_count": 78,
   "metadata": {},
   "outputs": [
    {
     "data": {
      "text/html": [
       "<div>\n",
       "<style scoped>\n",
       "    .dataframe tbody tr th:only-of-type {\n",
       "        vertical-align: middle;\n",
       "    }\n",
       "\n",
       "    .dataframe tbody tr th {\n",
       "        vertical-align: top;\n",
       "    }\n",
       "\n",
       "    .dataframe thead th {\n",
       "        text-align: right;\n",
       "    }\n",
       "</style>\n",
       "<table border=\"1\" class=\"dataframe\">\n",
       "  <thead>\n",
       "    <tr style=\"text-align: right;\">\n",
       "      <th></th>\n",
       "      <th>id</th>\n",
       "      <th>created_at</th>\n",
       "      <th>text</th>\n",
       "      <th>len</th>\n",
       "      <th>token</th>\n",
       "      <th>user</th>\n",
       "    </tr>\n",
       "  </thead>\n",
       "  <tbody>\n",
       "    <tr>\n",
       "      <th>0</th>\n",
       "      <td>984611815798820864</td>\n",
       "      <td>2018-04-13 01:58:44</td>\n",
       "      <td>More terrific work from a group of progressive...</td>\n",
       "      <td>139</td>\n",
       "      <td>terrific work group progressive working turn a...</td>\n",
       "      <td>hillary</td>\n",
       "    </tr>\n",
       "    <tr>\n",
       "      <th>1</th>\n",
       "      <td>984597321353715712</td>\n",
       "      <td>2018-04-13 01:01:09</td>\n",
       "      <td>Storytelling is at the heart of every cultural...</td>\n",
       "      <td>145</td>\n",
       "      <td>storytelling heart every cultural political re...</td>\n",
       "      <td>hillary</td>\n",
       "    </tr>\n",
       "    <tr>\n",
       "      <th>2</th>\n",
       "      <td>983464202919653376</td>\n",
       "      <td>2018-04-09 21:58:32</td>\n",
       "      <td>Congratulations Tammy! https://t.co/H85PIeycUm</td>\n",
       "      <td>46</td>\n",
       "      <td>congratulation tammy</td>\n",
       "      <td>hillary</td>\n",
       "    </tr>\n",
       "    <tr>\n",
       "      <th>3</th>\n",
       "      <td>981716478218133504</td>\n",
       "      <td>2018-04-05 02:13:42</td>\n",
       "      <td>Rev. Dr. Martin Luther King, Jr was in Memphis...</td>\n",
       "      <td>142</td>\n",
       "      <td>rev dr martin luther king jr memphis protest s...</td>\n",
       "      <td>hillary</td>\n",
       "    </tr>\n",
       "    <tr>\n",
       "      <th>4</th>\n",
       "      <td>981709339294650369</td>\n",
       "      <td>2018-04-05 01:45:20</td>\n",
       "      <td>Thanks for the warm welcome last night! Inspir...</td>\n",
       "      <td>104</td>\n",
       "      <td>thanks warm welcome last night inspired passio...</td>\n",
       "      <td>hillary</td>\n",
       "    </tr>\n",
       "    <tr>\n",
       "      <th>5</th>\n",
       "      <td>981664484120039424</td>\n",
       "      <td>2018-04-04 22:47:06</td>\n",
       "      <td>Wishing @JuliaGillard, Former Aussie PM, the b...</td>\n",
       "      <td>146</td>\n",
       "      <td>wishing former aussie pm best today launch new...</td>\n",
       "      <td>hillary</td>\n",
       "    </tr>\n",
       "    <tr>\n",
       "      <th>6</th>\n",
       "      <td>979823851222786048</td>\n",
       "      <td>2018-03-30 20:53:05</td>\n",
       "      <td>A little over 15 years ago a bright young woma...</td>\n",
       "      <td>142</td>\n",
       "      <td>little year ago bright young woman walked offi...</td>\n",
       "      <td>hillary</td>\n",
       "    </tr>\n",
       "    <tr>\n",
       "      <th>7</th>\n",
       "      <td>979823364113141763</td>\n",
       "      <td>2018-03-30 20:51:08</td>\n",
       "      <td>We are indeed on the brink. Thank you to Rutge...</td>\n",
       "      <td>142</td>\n",
       "      <td>indeed brink thank rutgers yesterday student c...</td>\n",
       "      <td>hillary</td>\n",
       "    </tr>\n",
       "    <tr>\n",
       "      <th>8</th>\n",
       "      <td>977616710588141568</td>\n",
       "      <td>2018-03-24 18:42:41</td>\n",
       "      <td>Listening to the students from Parkland and ac...</td>\n",
       "      <td>142</td>\n",
       "      <td>listening student parkland across country toda...</td>\n",
       "      <td>hillary</td>\n",
       "    </tr>\n",
       "    <tr>\n",
       "      <th>9</th>\n",
       "      <td>976823790649962496</td>\n",
       "      <td>2018-03-22 14:11:54</td>\n",
       "      <td>My friend @jmpalmieri wrote a terrific book th...</td>\n",
       "      <td>144</td>\n",
       "      <td>friend wrote terrific book everyone read smart...</td>\n",
       "      <td>hillary</td>\n",
       "    </tr>\n",
       "    <tr>\n",
       "      <th>10</th>\n",
       "      <td>976549758352240640</td>\n",
       "      <td>2018-03-21 20:03:00</td>\n",
       "      <td>Important analysis about which candidates get ...</td>\n",
       "      <td>124</td>\n",
       "      <td>important analysis candidate get critical earl...</td>\n",
       "      <td>hillary</td>\n",
       "    </tr>\n",
       "    <tr>\n",
       "      <th>12</th>\n",
       "      <td>974824222253092864</td>\n",
       "      <td>2018-03-17 01:46:20</td>\n",
       "      <td>Congresswoman Louise Slaughter was a tireless ...</td>\n",
       "      <td>142</td>\n",
       "      <td>congresswoman louise slaughter tireless advoca...</td>\n",
       "      <td>hillary</td>\n",
       "    </tr>\n",
       "    <tr>\n",
       "      <th>13</th>\n",
       "      <td>974103715576799233</td>\n",
       "      <td>2018-03-15 02:03:18</td>\n",
       "      <td>To all the students across our country who too...</td>\n",
       "      <td>142</td>\n",
       "      <td>student across country took part nationalwalko...</td>\n",
       "      <td>hillary</td>\n",
       "    </tr>\n",
       "    <tr>\n",
       "      <th>14</th>\n",
       "      <td>971908627874316288</td>\n",
       "      <td>2018-03-09 00:40:48</td>\n",
       "      <td>@timkaine I’m forever grateful to you for bein...</td>\n",
       "      <td>144</td>\n",
       "      <td>im forever grateful outspoken champion advocat...</td>\n",
       "      <td>hillary</td>\n",
       "    </tr>\n",
       "    <tr>\n",
       "      <th>15</th>\n",
       "      <td>971793872069320705</td>\n",
       "      <td>2018-03-08 17:04:48</td>\n",
       "      <td>Who inspires you this #InternationalWomensDay?...</td>\n",
       "      <td>70</td>\n",
       "      <td>inspires internationalwomensday</td>\n",
       "      <td>hillary</td>\n",
       "    </tr>\n",
       "    <tr>\n",
       "      <th>20</th>\n",
       "      <td>971785206373015552</td>\n",
       "      <td>2018-03-08 16:30:22</td>\n",
       "      <td>@Astrid_NV @iammarleydias @aijenpoo @domesticw...</td>\n",
       "      <td>137</td>\n",
       "      <td>friend</td>\n",
       "      <td>hillary</td>\n",
       "    </tr>\n",
       "    <tr>\n",
       "      <th>21</th>\n",
       "      <td>971782002419658752</td>\n",
       "      <td>2018-03-08 16:17:38</td>\n",
       "      <td>@Astrid_NV @iammarleydias @aijenpoo @domesticw...</td>\n",
       "      <td>142</td>\n",
       "      <td>advocate health care</td>\n",
       "      <td>hillary</td>\n",
       "    </tr>\n",
       "    <tr>\n",
       "      <th>22</th>\n",
       "      <td>971780790357983233</td>\n",
       "      <td>2018-03-08 16:12:49</td>\n",
       "      <td>@Astrid_NV @iammarleydias @aijenpoo @domesticw...</td>\n",
       "      <td>144</td>\n",
       "      <td>u woman hockey soccer team stood</td>\n",
       "      <td>hillary</td>\n",
       "    </tr>\n",
       "    <tr>\n",
       "      <th>23</th>\n",
       "      <td>971779370615541761</td>\n",
       "      <td>2018-03-08 16:07:11</td>\n",
       "      <td>@Astrid_NV @iammarleydias @aijenpoo @domesticw...</td>\n",
       "      <td>142</td>\n",
       "      <td>rachael denhollander many woman u g</td>\n",
       "      <td>hillary</td>\n",
       "    </tr>\n",
       "    <tr>\n",
       "      <th>24</th>\n",
       "      <td>971778600457396227</td>\n",
       "      <td>2018-03-08 16:04:07</td>\n",
       "      <td>@Astrid_NV @iammarleydias @aijenpoo @domesticw...</td>\n",
       "      <td>142</td>\n",
       "      <td>tackle gender gap technology inspiri</td>\n",
       "      <td>hillary</td>\n",
       "    </tr>\n",
       "    <tr>\n",
       "      <th>25</th>\n",
       "      <td>971777915322028033</td>\n",
       "      <td>2018-03-08 16:01:24</td>\n",
       "      <td>@Astrid_NV @iammarleydias @AiJenPoo organizes ...</td>\n",
       "      <td>144</td>\n",
       "      <td>organizes fastest growing part american wor</td>\n",
       "      <td>hillary</td>\n",
       "    </tr>\n",
       "    <tr>\n",
       "      <th>26</th>\n",
       "      <td>971777423124697088</td>\n",
       "      <td>2018-03-08 15:59:27</td>\n",
       "      <td>@Astrid_NV @IAmMarleyDias is the brains behind...</td>\n",
       "      <td>142</td>\n",
       "      <td>brain behind blackgirlbooks effort ensure blac...</td>\n",
       "      <td>hillary</td>\n",
       "    </tr>\n",
       "    <tr>\n",
       "      <th>27</th>\n",
       "      <td>971776813235044358</td>\n",
       "      <td>2018-03-08 15:57:01</td>\n",
       "      <td>The courageous @Astrid_NV fights tirelessly to...</td>\n",
       "      <td>125</td>\n",
       "      <td>courageous fight tirelessly protect dreamer ke...</td>\n",
       "      <td>hillary</td>\n",
       "    </tr>\n",
       "    <tr>\n",
       "      <th>28</th>\n",
       "      <td>971776610612449280</td>\n",
       "      <td>2018-03-08 15:56:13</td>\n",
       "      <td>In honor of #InternationalWomensDay, I want to...</td>\n",
       "      <td>142</td>\n",
       "      <td>honor internationalwomensday want celebrate wo...</td>\n",
       "      <td>hillary</td>\n",
       "    </tr>\n",
       "    <tr>\n",
       "      <th>29</th>\n",
       "      <td>970071393990832129</td>\n",
       "      <td>2018-03-03 23:00:18</td>\n",
       "      <td>Saw Black Panther with Bill this afternoon &amp;am...</td>\n",
       "      <td>126</td>\n",
       "      <td>saw black panther bill afternoon loved beautif...</td>\n",
       "      <td>hillary</td>\n",
       "    </tr>\n",
       "    <tr>\n",
       "      <th>30</th>\n",
       "      <td>969602156977377282</td>\n",
       "      <td>2018-03-02 15:55:43</td>\n",
       "      <td>RT @kylegriffin1: Outdoor retailer REI says it...</td>\n",
       "      <td>146</td>\n",
       "      <td>outdoor retailer rei say halting future order ...</td>\n",
       "      <td>hillary</td>\n",
       "    </tr>\n",
       "    <tr>\n",
       "      <th>31</th>\n",
       "      <td>969257037027831808</td>\n",
       "      <td>2018-03-01 17:04:20</td>\n",
       "      <td>College students--you have the power to take b...</td>\n",
       "      <td>139</td>\n",
       "      <td>college studentsyou power take back democratic...</td>\n",
       "      <td>hillary</td>\n",
       "    </tr>\n",
       "    <tr>\n",
       "      <th>32</th>\n",
       "      <td>968874798771310592</td>\n",
       "      <td>2018-02-28 15:45:27</td>\n",
       "      <td>I say this as a former Secretary of State and ...</td>\n",
       "      <td>142</td>\n",
       "      <td>say former secretary state american russian st...</td>\n",
       "      <td>hillary</td>\n",
       "    </tr>\n",
       "    <tr>\n",
       "      <th>33</th>\n",
       "      <td>968543389116456960</td>\n",
       "      <td>2018-02-27 17:48:33</td>\n",
       "      <td>I’m so excited! 🤗 https://t.co/i5BrQ05ki7</td>\n",
       "      <td>46</td>\n",
       "      <td>im excited</td>\n",
       "      <td>hillary</td>\n",
       "    </tr>\n",
       "    <tr>\n",
       "      <th>34</th>\n",
       "      <td>968512553948254209</td>\n",
       "      <td>2018-02-27 15:46:01</td>\n",
       "      <td>RT @JaclynCorin: PLEASE PRE-REGISTER TO VOTE I...</td>\n",
       "      <td>142</td>\n",
       "      <td>please preregister vote state allows generatio...</td>\n",
       "      <td>hillary</td>\n",
       "    </tr>\n",
       "    <tr>\n",
       "      <th>...</th>\n",
       "      <td>...</td>\n",
       "      <td>...</td>\n",
       "      <td>...</td>\n",
       "      <td>...</td>\n",
       "      <td>...</td>\n",
       "      <td>...</td>\n",
       "    </tr>\n",
       "    <tr>\n",
       "      <th>3210</th>\n",
       "      <td>810288321880555520</td>\n",
       "      <td>2016-12-18 00:59:25</td>\n",
       "      <td>We should tell China that we don't want the dr...</td>\n",
       "      <td>85</td>\n",
       "      <td>tell china dont want drone stole back let keep</td>\n",
       "      <td>trump</td>\n",
       "    </tr>\n",
       "    <tr>\n",
       "      <th>3211</th>\n",
       "      <td>810276411177107456</td>\n",
       "      <td>2016-12-18 00:12:05</td>\n",
       "      <td>Thank you Alabama! From now on, it’s going to ...</td>\n",
       "      <td>141</td>\n",
       "      <td>thank alabama going americafirst goal bring ba...</td>\n",
       "      <td>trump</td>\n",
       "    </tr>\n",
       "    <tr>\n",
       "      <th>3212</th>\n",
       "      <td>810232514749075456</td>\n",
       "      <td>2016-12-17 21:17:39</td>\n",
       "      <td>RT @DanScavino: Join President-elect Trump LIV...</td>\n",
       "      <td>142</td>\n",
       "      <td>join presidentelect trump live mobile alabama ...</td>\n",
       "      <td>trump</td>\n",
       "    </tr>\n",
       "    <tr>\n",
       "      <th>3213</th>\n",
       "      <td>810121703288410112</td>\n",
       "      <td>2016-12-17 13:57:20</td>\n",
       "      <td>China steals United States Navy research drone...</td>\n",
       "      <td>137</td>\n",
       "      <td>china steal united state navy research drone i...</td>\n",
       "      <td>trump</td>\n",
       "    </tr>\n",
       "    <tr>\n",
       "      <th>3214</th>\n",
       "      <td>810112407309844480</td>\n",
       "      <td>2016-12-17 13:20:23</td>\n",
       "      <td>Mobile, Alabama today at 3:00 P.M. Last rally ...</td>\n",
       "      <td>140</td>\n",
       "      <td>mobile alabama today pm last rally year thank ...</td>\n",
       "      <td>trump</td>\n",
       "    </tr>\n",
       "    <tr>\n",
       "      <th>3215</th>\n",
       "      <td>810109131537481728</td>\n",
       "      <td>2016-12-17 13:07:22</td>\n",
       "      <td>\"@EazyMF_E: @realDonaldTrump Many people are n...</td>\n",
       "      <td>138</td>\n",
       "      <td>many people saying extremely successful presid...</td>\n",
       "      <td>trump</td>\n",
       "    </tr>\n",
       "    <tr>\n",
       "      <th>3216</th>\n",
       "      <td>810108542921408512</td>\n",
       "      <td>2016-12-17 13:05:02</td>\n",
       "      <td>Last night in Orlando, Florida, was incredible...</td>\n",
       "      <td>139</td>\n",
       "      <td>last night orlando florida incredible massive ...</td>\n",
       "      <td>trump</td>\n",
       "    </tr>\n",
       "    <tr>\n",
       "      <th>3217</th>\n",
       "      <td>809969373754654721</td>\n",
       "      <td>2016-12-17 03:52:01</td>\n",
       "      <td>Thank you Florida. My Administration will foll...</td>\n",
       "      <td>140</td>\n",
       "      <td>thank florida administration follow two simple...</td>\n",
       "      <td>trump</td>\n",
       "    </tr>\n",
       "    <tr>\n",
       "      <th>3218</th>\n",
       "      <td>809803893920165892</td>\n",
       "      <td>2016-12-16 16:54:28</td>\n",
       "      <td>#ThankYouTour2016 \\n\\nTonight- Orlando, Florid...</td>\n",
       "      <td>142</td>\n",
       "      <td>thankyoutour tonight orlando florida ticket to...</td>\n",
       "      <td>trump</td>\n",
       "    </tr>\n",
       "    <tr>\n",
       "      <th>3219</th>\n",
       "      <td>809790978332786689</td>\n",
       "      <td>2016-12-16 16:03:09</td>\n",
       "      <td>Well, we all did it, together! I hope the \"MOV...</td>\n",
       "      <td>137</td>\n",
       "      <td>well together hope movement fan go dc jan th s...</td>\n",
       "      <td>trump</td>\n",
       "    </tr>\n",
       "    <tr>\n",
       "      <th>3220</th>\n",
       "      <td>809717035353722880</td>\n",
       "      <td>2016-12-16 11:09:19</td>\n",
       "      <td>Are we talking about the same cyberattack wher...</td>\n",
       "      <td>136</td>\n",
       "      <td>talking cyberattack revealed head dnc illegall...</td>\n",
       "      <td>trump</td>\n",
       "    </tr>\n",
       "    <tr>\n",
       "      <th>3221</th>\n",
       "      <td>809571983428120577</td>\n",
       "      <td>2016-12-16 01:32:56</td>\n",
       "      <td>Thank you Pennsylvania! Together, we are going...</td>\n",
       "      <td>138</td>\n",
       "      <td>thank pennsylvania together going make america...</td>\n",
       "      <td>trump</td>\n",
       "    </tr>\n",
       "    <tr>\n",
       "      <th>3222</th>\n",
       "      <td>809525257371578369</td>\n",
       "      <td>2016-12-15 22:27:16</td>\n",
       "      <td>Join me in Mobile, Alabama on Sat. at 3pm! #Th...</td>\n",
       "      <td>118</td>\n",
       "      <td>join mobile alabama sat pm thankyoutour ticket</td>\n",
       "      <td>trump</td>\n",
       "    </tr>\n",
       "    <tr>\n",
       "      <th>3223</th>\n",
       "      <td>809403760099422208</td>\n",
       "      <td>2016-12-15 14:24:29</td>\n",
       "      <td>If Russia, or some other entity, was hacking, ...</td>\n",
       "      <td>137</td>\n",
       "      <td>russia entity hacking white house wait long ac...</td>\n",
       "      <td>trump</td>\n",
       "    </tr>\n",
       "    <tr>\n",
       "      <th>3224</th>\n",
       "      <td>809389774066814976</td>\n",
       "      <td>2016-12-15 13:28:54</td>\n",
       "      <td>The media tries so hard to make my move to the...</td>\n",
       "      <td>127</td>\n",
       "      <td>medium try hard make move white house pertains...</td>\n",
       "      <td>trump</td>\n",
       "    </tr>\n",
       "    <tr>\n",
       "      <th>3225</th>\n",
       "      <td>809384826193276928</td>\n",
       "      <td>2016-12-15 13:09:14</td>\n",
       "      <td>Thank you to Time Magazine and Financial Times...</td>\n",
       "      <td>98</td>\n",
       "      <td>thank time magazine financial time naming pers...</td>\n",
       "      <td>trump</td>\n",
       "    </tr>\n",
       "    <tr>\n",
       "      <th>3226</th>\n",
       "      <td>809383989018497024</td>\n",
       "      <td>2016-12-15 13:05:55</td>\n",
       "      <td>Has anyone looked at the really poor numbers o...</td>\n",
       "      <td>138</td>\n",
       "      <td>anyone looked really poor number magazine way ...</td>\n",
       "      <td>trump</td>\n",
       "    </tr>\n",
       "    <tr>\n",
       "      <th>3227</th>\n",
       "      <td>809097603010981888</td>\n",
       "      <td>2016-12-14 18:07:55</td>\n",
       "      <td>.@BillGates and @JimBrownNFL32 in my Trump Tow...</td>\n",
       "      <td>106</td>\n",
       "      <td>trump tower office yesterday two great guy</td>\n",
       "      <td>trump</td>\n",
       "    </tr>\n",
       "    <tr>\n",
       "      <th>3228</th>\n",
       "      <td>808881429715316737</td>\n",
       "      <td>2016-12-14 03:48:55</td>\n",
       "      <td>Thank you Wisconsin! My Administration will be...</td>\n",
       "      <td>137</td>\n",
       "      <td>thank wisconsin administration focused three i...</td>\n",
       "      <td>trump</td>\n",
       "    </tr>\n",
       "    <tr>\n",
       "      <th>3229</th>\n",
       "      <td>808837073423794176</td>\n",
       "      <td>2016-12-14 00:52:40</td>\n",
       "      <td>RT @DanScavino: Join #PEOTUS Trump &amp;amp; #VPEO...</td>\n",
       "      <td>146</td>\n",
       "      <td>join peotus trump vpeotus penny live west alli...</td>\n",
       "      <td>trump</td>\n",
       "    </tr>\n",
       "    <tr>\n",
       "      <th>3230</th>\n",
       "      <td>808787048144453632</td>\n",
       "      <td>2016-12-13 21:33:53</td>\n",
       "      <td>Join me this Saturday at Ladd–Peebles Stadium ...</td>\n",
       "      <td>124</td>\n",
       "      <td>join saturday laddpeebles stadium mobile alaba...</td>\n",
       "      <td>trump</td>\n",
       "    </tr>\n",
       "    <tr>\n",
       "      <th>3231</th>\n",
       "      <td>808653723639697408</td>\n",
       "      <td>2016-12-13 12:44:06</td>\n",
       "      <td>The thing I like best about Rex Tillerson is t...</td>\n",
       "      <td>135</td>\n",
       "      <td>thing like best rex tillerson vast experience ...</td>\n",
       "      <td>trump</td>\n",
       "    </tr>\n",
       "    <tr>\n",
       "      <th>3232</th>\n",
       "      <td>808642018612310016</td>\n",
       "      <td>2016-12-13 11:57:35</td>\n",
       "      <td>Wisconsin and Pennsylvania have just certified...</td>\n",
       "      <td>110</td>\n",
       "      <td>wisconsin pennsylvania certified win state act...</td>\n",
       "      <td>trump</td>\n",
       "    </tr>\n",
       "    <tr>\n",
       "      <th>3233</th>\n",
       "      <td>808638507161882624</td>\n",
       "      <td>2016-12-13 11:43:38</td>\n",
       "      <td>I have chosen one of the truly great business ...</td>\n",
       "      <td>140</td>\n",
       "      <td>chosen one truly great business leader world r...</td>\n",
       "      <td>trump</td>\n",
       "    </tr>\n",
       "    <tr>\n",
       "      <th>3234</th>\n",
       "      <td>808532286664822784</td>\n",
       "      <td>2016-12-13 04:41:33</td>\n",
       "      <td>I will hold a press conference in the near fut...</td>\n",
       "      <td>134</td>\n",
       "      <td>hold press conference near future discus busin...</td>\n",
       "      <td>trump</td>\n",
       "    </tr>\n",
       "    <tr>\n",
       "      <th>3235</th>\n",
       "      <td>808529888630239232</td>\n",
       "      <td>2016-12-13 04:32:01</td>\n",
       "      <td>Presidency. Two of my children, Don and Eric, ...</td>\n",
       "      <td>135</td>\n",
       "      <td>presidency two child eric plus executive manag...</td>\n",
       "      <td>trump</td>\n",
       "    </tr>\n",
       "    <tr>\n",
       "      <th>3236</th>\n",
       "      <td>808528428123254785</td>\n",
       "      <td>2016-12-13 04:26:13</td>\n",
       "      <td>Even though I am not mandated by law to do so,...</td>\n",
       "      <td>140</td>\n",
       "      <td>even though mandated law leaving busineses jan...</td>\n",
       "      <td>trump</td>\n",
       "    </tr>\n",
       "    <tr>\n",
       "      <th>3237</th>\n",
       "      <td>808469755749339136</td>\n",
       "      <td>2016-12-13 00:33:05</td>\n",
       "      <td>I will be making my announcement on the next S...</td>\n",
       "      <td>81</td>\n",
       "      <td>making announcement next secretary state tomor...</td>\n",
       "      <td>trump</td>\n",
       "    </tr>\n",
       "    <tr>\n",
       "      <th>3238</th>\n",
       "      <td>808456602076545025</td>\n",
       "      <td>2016-12-12 23:40:48</td>\n",
       "      <td>The final Wisconsin vote is in and guess what ...</td>\n",
       "      <td>135</td>\n",
       "      <td>final wisconsin vote guess picked additional v...</td>\n",
       "      <td>trump</td>\n",
       "    </tr>\n",
       "    <tr>\n",
       "      <th>3239</th>\n",
       "      <td>808437742904418304</td>\n",
       "      <td>2016-12-12 22:25:52</td>\n",
       "      <td>#ThankYouTour2016 \\n\\nTue: West Allis, WI. \\n\\...</td>\n",
       "      <td>138</td>\n",
       "      <td>thankyoutour tue west allis wi thur hershey pa...</td>\n",
       "      <td>trump</td>\n",
       "    </tr>\n",
       "  </tbody>\n",
       "</table>\n",
       "<p>6425 rows × 6 columns</p>\n",
       "</div>"
      ],
      "text/plain": [
       "                      id           created_at  \\\n",
       "0     984611815798820864  2018-04-13 01:58:44   \n",
       "1     984597321353715712  2018-04-13 01:01:09   \n",
       "2     983464202919653376  2018-04-09 21:58:32   \n",
       "3     981716478218133504  2018-04-05 02:13:42   \n",
       "4     981709339294650369  2018-04-05 01:45:20   \n",
       "5     981664484120039424  2018-04-04 22:47:06   \n",
       "6     979823851222786048  2018-03-30 20:53:05   \n",
       "7     979823364113141763  2018-03-30 20:51:08   \n",
       "8     977616710588141568  2018-03-24 18:42:41   \n",
       "9     976823790649962496  2018-03-22 14:11:54   \n",
       "10    976549758352240640  2018-03-21 20:03:00   \n",
       "12    974824222253092864  2018-03-17 01:46:20   \n",
       "13    974103715576799233  2018-03-15 02:03:18   \n",
       "14    971908627874316288  2018-03-09 00:40:48   \n",
       "15    971793872069320705  2018-03-08 17:04:48   \n",
       "20    971785206373015552  2018-03-08 16:30:22   \n",
       "21    971782002419658752  2018-03-08 16:17:38   \n",
       "22    971780790357983233  2018-03-08 16:12:49   \n",
       "23    971779370615541761  2018-03-08 16:07:11   \n",
       "24    971778600457396227  2018-03-08 16:04:07   \n",
       "25    971777915322028033  2018-03-08 16:01:24   \n",
       "26    971777423124697088  2018-03-08 15:59:27   \n",
       "27    971776813235044358  2018-03-08 15:57:01   \n",
       "28    971776610612449280  2018-03-08 15:56:13   \n",
       "29    970071393990832129  2018-03-03 23:00:18   \n",
       "30    969602156977377282  2018-03-02 15:55:43   \n",
       "31    969257037027831808  2018-03-01 17:04:20   \n",
       "32    968874798771310592  2018-02-28 15:45:27   \n",
       "33    968543389116456960  2018-02-27 17:48:33   \n",
       "34    968512553948254209  2018-02-27 15:46:01   \n",
       "...                  ...                  ...   \n",
       "3210  810288321880555520  2016-12-18 00:59:25   \n",
       "3211  810276411177107456  2016-12-18 00:12:05   \n",
       "3212  810232514749075456  2016-12-17 21:17:39   \n",
       "3213  810121703288410112  2016-12-17 13:57:20   \n",
       "3214  810112407309844480  2016-12-17 13:20:23   \n",
       "3215  810109131537481728  2016-12-17 13:07:22   \n",
       "3216  810108542921408512  2016-12-17 13:05:02   \n",
       "3217  809969373754654721  2016-12-17 03:52:01   \n",
       "3218  809803893920165892  2016-12-16 16:54:28   \n",
       "3219  809790978332786689  2016-12-16 16:03:09   \n",
       "3220  809717035353722880  2016-12-16 11:09:19   \n",
       "3221  809571983428120577  2016-12-16 01:32:56   \n",
       "3222  809525257371578369  2016-12-15 22:27:16   \n",
       "3223  809403760099422208  2016-12-15 14:24:29   \n",
       "3224  809389774066814976  2016-12-15 13:28:54   \n",
       "3225  809384826193276928  2016-12-15 13:09:14   \n",
       "3226  809383989018497024  2016-12-15 13:05:55   \n",
       "3227  809097603010981888  2016-12-14 18:07:55   \n",
       "3228  808881429715316737  2016-12-14 03:48:55   \n",
       "3229  808837073423794176  2016-12-14 00:52:40   \n",
       "3230  808787048144453632  2016-12-13 21:33:53   \n",
       "3231  808653723639697408  2016-12-13 12:44:06   \n",
       "3232  808642018612310016  2016-12-13 11:57:35   \n",
       "3233  808638507161882624  2016-12-13 11:43:38   \n",
       "3234  808532286664822784  2016-12-13 04:41:33   \n",
       "3235  808529888630239232  2016-12-13 04:32:01   \n",
       "3236  808528428123254785  2016-12-13 04:26:13   \n",
       "3237  808469755749339136  2016-12-13 00:33:05   \n",
       "3238  808456602076545025  2016-12-12 23:40:48   \n",
       "3239  808437742904418304  2016-12-12 22:25:52   \n",
       "\n",
       "                                                   text  len  \\\n",
       "0     More terrific work from a group of progressive...  139   \n",
       "1     Storytelling is at the heart of every cultural...  145   \n",
       "2        Congratulations Tammy! https://t.co/H85PIeycUm   46   \n",
       "3     Rev. Dr. Martin Luther King, Jr was in Memphis...  142   \n",
       "4     Thanks for the warm welcome last night! Inspir...  104   \n",
       "5     Wishing @JuliaGillard, Former Aussie PM, the b...  146   \n",
       "6     A little over 15 years ago a bright young woma...  142   \n",
       "7     We are indeed on the brink. Thank you to Rutge...  142   \n",
       "8     Listening to the students from Parkland and ac...  142   \n",
       "9     My friend @jmpalmieri wrote a terrific book th...  144   \n",
       "10    Important analysis about which candidates get ...  124   \n",
       "12    Congresswoman Louise Slaughter was a tireless ...  142   \n",
       "13    To all the students across our country who too...  142   \n",
       "14    @timkaine I’m forever grateful to you for bein...  144   \n",
       "15    Who inspires you this #InternationalWomensDay?...   70   \n",
       "20    @Astrid_NV @iammarleydias @aijenpoo @domesticw...  137   \n",
       "21    @Astrid_NV @iammarleydias @aijenpoo @domesticw...  142   \n",
       "22    @Astrid_NV @iammarleydias @aijenpoo @domesticw...  144   \n",
       "23    @Astrid_NV @iammarleydias @aijenpoo @domesticw...  142   \n",
       "24    @Astrid_NV @iammarleydias @aijenpoo @domesticw...  142   \n",
       "25    @Astrid_NV @iammarleydias @AiJenPoo organizes ...  144   \n",
       "26    @Astrid_NV @IAmMarleyDias is the brains behind...  142   \n",
       "27    The courageous @Astrid_NV fights tirelessly to...  125   \n",
       "28    In honor of #InternationalWomensDay, I want to...  142   \n",
       "29    Saw Black Panther with Bill this afternoon &am...  126   \n",
       "30    RT @kylegriffin1: Outdoor retailer REI says it...  146   \n",
       "31    College students--you have the power to take b...  139   \n",
       "32    I say this as a former Secretary of State and ...  142   \n",
       "33            I’m so excited! 🤗 https://t.co/i5BrQ05ki7   46   \n",
       "34    RT @JaclynCorin: PLEASE PRE-REGISTER TO VOTE I...  142   \n",
       "...                                                 ...  ...   \n",
       "3210  We should tell China that we don't want the dr...   85   \n",
       "3211  Thank you Alabama! From now on, it’s going to ...  141   \n",
       "3212  RT @DanScavino: Join President-elect Trump LIV...  142   \n",
       "3213  China steals United States Navy research drone...  137   \n",
       "3214  Mobile, Alabama today at 3:00 P.M. Last rally ...  140   \n",
       "3215  \"@EazyMF_E: @realDonaldTrump Many people are n...  138   \n",
       "3216  Last night in Orlando, Florida, was incredible...  139   \n",
       "3217  Thank you Florida. My Administration will foll...  140   \n",
       "3218  #ThankYouTour2016 \\n\\nTonight- Orlando, Florid...  142   \n",
       "3219  Well, we all did it, together! I hope the \"MOV...  137   \n",
       "3220  Are we talking about the same cyberattack wher...  136   \n",
       "3221  Thank you Pennsylvania! Together, we are going...  138   \n",
       "3222  Join me in Mobile, Alabama on Sat. at 3pm! #Th...  118   \n",
       "3223  If Russia, or some other entity, was hacking, ...  137   \n",
       "3224  The media tries so hard to make my move to the...  127   \n",
       "3225  Thank you to Time Magazine and Financial Times...   98   \n",
       "3226  Has anyone looked at the really poor numbers o...  138   \n",
       "3227  .@BillGates and @JimBrownNFL32 in my Trump Tow...  106   \n",
       "3228  Thank you Wisconsin! My Administration will be...  137   \n",
       "3229  RT @DanScavino: Join #PEOTUS Trump &amp; #VPEO...  146   \n",
       "3230  Join me this Saturday at Ladd–Peebles Stadium ...  124   \n",
       "3231  The thing I like best about Rex Tillerson is t...  135   \n",
       "3232  Wisconsin and Pennsylvania have just certified...  110   \n",
       "3233  I have chosen one of the truly great business ...  140   \n",
       "3234  I will hold a press conference in the near fut...  134   \n",
       "3235  Presidency. Two of my children, Don and Eric, ...  135   \n",
       "3236  Even though I am not mandated by law to do so,...  140   \n",
       "3237  I will be making my announcement on the next S...   81   \n",
       "3238  The final Wisconsin vote is in and guess what ...  135   \n",
       "3239  #ThankYouTour2016 \\n\\nTue: West Allis, WI. \\n\\...  138   \n",
       "\n",
       "                                                  token     user  \n",
       "0     terrific work group progressive working turn a...  hillary  \n",
       "1     storytelling heart every cultural political re...  hillary  \n",
       "2                                  congratulation tammy  hillary  \n",
       "3     rev dr martin luther king jr memphis protest s...  hillary  \n",
       "4     thanks warm welcome last night inspired passio...  hillary  \n",
       "5     wishing former aussie pm best today launch new...  hillary  \n",
       "6     little year ago bright young woman walked offi...  hillary  \n",
       "7     indeed brink thank rutgers yesterday student c...  hillary  \n",
       "8     listening student parkland across country toda...  hillary  \n",
       "9     friend wrote terrific book everyone read smart...  hillary  \n",
       "10    important analysis candidate get critical earl...  hillary  \n",
       "12    congresswoman louise slaughter tireless advoca...  hillary  \n",
       "13    student across country took part nationalwalko...  hillary  \n",
       "14    im forever grateful outspoken champion advocat...  hillary  \n",
       "15                      inspires internationalwomensday  hillary  \n",
       "20                                               friend  hillary  \n",
       "21                                 advocate health care  hillary  \n",
       "22                     u woman hockey soccer team stood  hillary  \n",
       "23                  rachael denhollander many woman u g  hillary  \n",
       "24                 tackle gender gap technology inspiri  hillary  \n",
       "25          organizes fastest growing part american wor  hillary  \n",
       "26    brain behind blackgirlbooks effort ensure blac...  hillary  \n",
       "27    courageous fight tirelessly protect dreamer ke...  hillary  \n",
       "28    honor internationalwomensday want celebrate wo...  hillary  \n",
       "29    saw black panther bill afternoon loved beautif...  hillary  \n",
       "30    outdoor retailer rei say halting future order ...  hillary  \n",
       "31    college studentsyou power take back democratic...  hillary  \n",
       "32    say former secretary state american russian st...  hillary  \n",
       "33                                           im excited  hillary  \n",
       "34    please preregister vote state allows generatio...  hillary  \n",
       "...                                                 ...      ...  \n",
       "3210     tell china dont want drone stole back let keep    trump  \n",
       "3211  thank alabama going americafirst goal bring ba...    trump  \n",
       "3212  join presidentelect trump live mobile alabama ...    trump  \n",
       "3213  china steal united state navy research drone i...    trump  \n",
       "3214  mobile alabama today pm last rally year thank ...    trump  \n",
       "3215  many people saying extremely successful presid...    trump  \n",
       "3216  last night orlando florida incredible massive ...    trump  \n",
       "3217  thank florida administration follow two simple...    trump  \n",
       "3218  thankyoutour tonight orlando florida ticket to...    trump  \n",
       "3219  well together hope movement fan go dc jan th s...    trump  \n",
       "3220  talking cyberattack revealed head dnc illegall...    trump  \n",
       "3221  thank pennsylvania together going make america...    trump  \n",
       "3222     join mobile alabama sat pm thankyoutour ticket    trump  \n",
       "3223  russia entity hacking white house wait long ac...    trump  \n",
       "3224  medium try hard make move white house pertains...    trump  \n",
       "3225  thank time magazine financial time naming pers...    trump  \n",
       "3226  anyone looked really poor number magazine way ...    trump  \n",
       "3227         trump tower office yesterday two great guy    trump  \n",
       "3228  thank wisconsin administration focused three i...    trump  \n",
       "3229  join peotus trump vpeotus penny live west alli...    trump  \n",
       "3230  join saturday laddpeebles stadium mobile alaba...    trump  \n",
       "3231  thing like best rex tillerson vast experience ...    trump  \n",
       "3232  wisconsin pennsylvania certified win state act...    trump  \n",
       "3233  chosen one truly great business leader world r...    trump  \n",
       "3234  hold press conference near future discus busin...    trump  \n",
       "3235  presidency two child eric plus executive manag...    trump  \n",
       "3236  even though mandated law leaving busineses jan...    trump  \n",
       "3237  making announcement next secretary state tomor...    trump  \n",
       "3238  final wisconsin vote guess picked additional v...    trump  \n",
       "3239  thankyoutour tue west allis wi thur hershey pa...    trump  \n",
       "\n",
       "[6425 rows x 6 columns]"
      ]
     },
     "execution_count": 78,
     "metadata": {},
     "output_type": "execute_result"
    }
   ],
   "source": [
    "df_train"
   ]
  },
  {
   "cell_type": "code",
   "execution_count": 79,
   "metadata": {},
   "outputs": [
    {
     "data": {
      "image/png": "[encoded data removed]",
      "text/plain": [
       "<matplotlib.figure.Figure at 0x7f03dba44a50>"
      ]
     },
     "metadata": {},
     "output_type": "display_data"
    }
   ],
   "source": [
    "length_hillary = df_train[df_train['user'] == 'hillary'].len.values\n",
    "length_trump = df_train[df_train['user'] == 'trump'].len.values\n",
    "fig, axes = plt.subplots(nrows = 2, sharex= True)\n",
    "sns.distplot(length_hillary, ax= axes[0]).\\\n",
    "set_title('Length of hillary messages')\n",
    "sns.distplot(length_trump, ax = axes[1]).\\\n",
    "set_title('Length of trump messages')\n",
    "plt.tight_layout()\n",
    "plt.show()"
   ]
  },
  {
   "cell_type": "code",
   "execution_count": 80,
   "metadata": {},
   "outputs": [],
   "source": [
    "hillary_words =  ''\n",
    "trump_words = ''\n",
    "array_label = df_train['user'].values\n",
    "df_messages = df_train['token'].values\n",
    "\n",
    "for idx in range(len(df_messages)):\n",
    "    if array_label[idx] == 'hillary':\n",
    "        hillary_words += '' + str(df_messages[idx])\n",
    "    else:\n",
    "        trump_words += '' + str(df_messages[idx])"
   ]
  },
  {
   "cell_type": "code",
   "execution_count": 81,
   "metadata": {},
   "outputs": [],
   "source": [
    "from wordcloud import WordCloud\n",
    "hillary_wordcloud = WordCloud(width=600, height=400).generate(hillary_words)\n",
    "trump_wordcloud = WordCloud(width=600, height=400).generate(trump_words)"
   ]
  },
  {
   "cell_type": "code",
   "execution_count": 82,
   "metadata": {},
   "outputs": [
    {
     "data": {
      "image/png": "[encoded data removed]",
      "text/plain": [
       "<matplotlib.figure.Figure at 0x7f03dbf79350>"
      ]
     },
     "metadata": {},
     "output_type": "display_data"
    }
   ],
   "source": [
    "plt.figure( figsize=(6,5), facecolor='k')\n",
    "plt.imshow(hillary_wordcloud)\n",
    "plt.axis(\"off\")\n",
    "plt.tight_layout(pad=0)\n",
    "plt.show()"
   ]
  },
  {
   "cell_type": "code",
   "execution_count": 83,
   "metadata": {},
   "outputs": [
    {
     "data": {
      "image/png": "[encoded data removed]",
      "text/plain": [
       "<matplotlib.figure.Figure at 0x7f03db0aeb50>"
      ]
     },
     "metadata": {},
     "output_type": "display_data"
    }
   ],
   "source": [
    "plt.figure( figsize=(6,5), facecolor='k')\n",
    "plt.imshow(trump_wordcloud)\n",
    "plt.axis(\"off\")\n",
    "plt.tight_layout(pad=0)\n",
    "plt.show()"
   ]
  },
  {
   "cell_type": "code",
   "execution_count": 84,
   "metadata": {},
   "outputs": [],
   "source": [
    "Y_train = np.where(df_train.user == 'hillary', 1, 0)\n",
    "message = df_train.token.values"
   ]
  },
  {
   "cell_type": "code",
   "execution_count": 85,
   "metadata": {},
   "outputs": [],
   "source": [
    "kfold = KFold(n_splits = 5, shuffle = True, random_state=1234)"
   ]
  },
  {
   "cell_type": "code",
   "execution_count": 86,
   "metadata": {},
   "outputs": [],
   "source": [
    "from sklearn.linear_model import LogisticRegressionCV\n",
    "from sklearn.naive_bayes import MultinomialNB\n",
    "from sklearn.ensemble import RandomForestClassifier\n",
    "from sklearn.neighbors import KNeighborsClassifier\n",
    "from sklearn.ensemble import GradientBoostingClassifier\n",
    "from sklearn.ensemble import RandomForestClassifier, AdaBoostClassifier\n",
    "from sklearn.svm import LinearSVC, SVC\n",
    "from sklearn.metrics import accuracy_score"
   ]
  },
  {
   "cell_type": "markdown",
   "metadata": {},
   "source": [
    "# Count"
   ]
  },
  {
   "cell_type": "code",
   "execution_count": 87,
   "metadata": {},
   "outputs": [],
   "source": [
    "count_vectorizer = CountVectorizer()\n",
    "X_train = count_vectorizer.fit_transform(message)"
   ]
  },
  {
   "cell_type": "code",
   "execution_count": 88,
   "metadata": {},
   "outputs": [
    {
     "name": "stdout",
     "output_type": "stream",
     "text": [
      "(6425,)\n",
      "(6425, 8533)\n"
     ]
    }
   ],
   "source": [
    "print Y_train.shape\n",
    "print X_train.shape"
   ]
  },
  {
   "cell_type": "code",
   "execution_count": 89,
   "metadata": {},
   "outputs": [
    {
     "name": "stdout",
     "output_type": "stream",
     "text": [
      "0.8863813229571985\n"
     ]
    }
   ],
   "source": [
    "log_count_model = LogisticRegressionCV()\n",
    "log_count_score = cross_val_score(log_count_model,\n",
    "                                  X_train, Y_train,\n",
    "                                  scoring = 'accuracy',\n",
    "                                  cv = kfold.split(X_train),\n",
    "                                  n_jobs=-1).mean()\n",
    "print log_count_score"
   ]
  },
  {
   "cell_type": "code",
   "execution_count": 90,
   "metadata": {},
   "outputs": [
    {
     "name": "stdout",
     "output_type": "stream",
     "text": [
      "0.8806225680933852\n"
     ]
    }
   ],
   "source": [
    "svc_count_model = LinearSVC()\n",
    "svc_count_score = cross_val_score(svc_count_model,\n",
    "                                  X_train, Y_train,\n",
    "                                  scoring = 'accuracy',\n",
    "                                  cv = kfold.split(X_train),\n",
    "                                  n_jobs=-1).mean()\n",
    "print svc_count_score"
   ]
  },
  {
   "cell_type": "code",
   "execution_count": 91,
   "metadata": {},
   "outputs": [
    {
     "name": "stdout",
     "output_type": "stream",
     "text": [
      "0.9091050583657587\n"
     ]
    }
   ],
   "source": [
    "nb_count_model = MultinomialNB()\n",
    "nb_count_score = cross_val_score(nb_count_model, \n",
    "                                 X_train, Y_train,\n",
    "                                 scoring = 'accuracy', \n",
    "                                 cv = kfold.split(X_train,),\n",
    "                                 n_jobs=-1).mean()\n",
    "print nb_count_score"
   ]
  },
  {
   "cell_type": "code",
   "execution_count": 92,
   "metadata": {},
   "outputs": [
    {
     "name": "stdout",
     "output_type": "stream",
     "text": [
      "0.7866147859922178\n"
     ]
    }
   ],
   "source": [
    "gb_count_model = GradientBoostingClassifier()\n",
    "gb_count_score = cross_val_score(gb_count_model, \n",
    "                                 X_train, Y_train,\n",
    "                                 scoring = 'accuracy', \n",
    "                                 cv = kfold.split(X_train),\n",
    "                                 n_jobs=-1).mean()\n",
    "print gb_count_score"
   ]
  },
  {
   "cell_type": "code",
   "execution_count": 93,
   "metadata": {},
   "outputs": [
    {
     "name": "stdout",
     "output_type": "stream",
     "text": [
      "0.8474708171206226\n"
     ]
    }
   ],
   "source": [
    "rf_count_model = RandomForestClassifier()\n",
    "rf_count_score = cross_val_score(rf_count_model, \n",
    "                                 X_train, Y_train,\n",
    "                                 scoring = 'accuracy', \n",
    "                                 cv = kfold.split(X_train),\n",
    "                                 n_jobs=-1).mean()\n",
    "print rf_count_score"
   ]
  },
  {
   "cell_type": "markdown",
   "metadata": {},
   "source": [
    "# TF-IDF"
   ]
  },
  {
   "cell_type": "code",
   "execution_count": 94,
   "metadata": {},
   "outputs": [],
   "source": [
    "tfidf_vectorizer = TfidfVectorizer(\"english\")\n",
    "X_train = tfidf_vectorizer.fit_transform(message)"
   ]
  },
  {
   "cell_type": "code",
   "execution_count": 95,
   "metadata": {},
   "outputs": [
    {
     "name": "stdout",
     "output_type": "stream",
     "text": [
      "0.895408560311284\n"
     ]
    }
   ],
   "source": [
    "log_count_model = LogisticRegressionCV()\n",
    "log_count_score = cross_val_score(log_count_model,\n",
    "                                  X_train, Y_train,\n",
    "                                  scoring = 'accuracy',\n",
    "                                  cv = kfold.split(X_train),\n",
    "                                  n_jobs=-1).mean()\n",
    "print log_count_score"
   ]
  },
  {
   "cell_type": "code",
   "execution_count": 96,
   "metadata": {},
   "outputs": [
    {
     "name": "stdout",
     "output_type": "stream",
     "text": [
      "0.8982101167315175\n"
     ]
    }
   ],
   "source": [
    "svc_count_model = LinearSVC()\n",
    "svc_count_score = cross_val_score(svc_count_model,\n",
    "                                  X_train, Y_train,\n",
    "                                  scoring = 'accuracy',\n",
    "                                  cv = kfold.split(X_train),\n",
    "                                  n_jobs=-1).mean()\n",
    "print svc_count_score"
   ]
  },
  {
   "cell_type": "code",
   "execution_count": 97,
   "metadata": {},
   "outputs": [
    {
     "name": "stdout",
     "output_type": "stream",
     "text": [
      "0.9078599221789883\n"
     ]
    }
   ],
   "source": [
    "nb_count_model = MultinomialNB()\n",
    "nb_count_score = cross_val_score(nb_count_model, \n",
    "                                 X_train, Y_train,\n",
    "                                 scoring = 'accuracy', \n",
    "                                 cv = kfold.split(X_train,),\n",
    "                                 n_jobs=-1).mean()\n",
    "print nb_count_score"
   ]
  },
  {
   "cell_type": "code",
   "execution_count": 98,
   "metadata": {},
   "outputs": [
    {
     "name": "stdout",
     "output_type": "stream",
     "text": [
      "0.7956420233463035\n"
     ]
    }
   ],
   "source": [
    "gb_count_model = GradientBoostingClassifier()\n",
    "gb_count_score = cross_val_score(gb_count_model, \n",
    "                                 X_train, Y_train,\n",
    "                                 scoring = 'accuracy', \n",
    "                                 cv = kfold.split(X_train),\n",
    "                                 n_jobs=-1).mean()\n",
    "print gb_count_score"
   ]
  },
  {
   "cell_type": "code",
   "execution_count": 99,
   "metadata": {},
   "outputs": [
    {
     "name": "stdout",
     "output_type": "stream",
     "text": [
      "0.8421789883268482\n"
     ]
    }
   ],
   "source": [
    "rf_count_model = RandomForestClassifier()\n",
    "rf_count_score = cross_val_score(rf_count_model, \n",
    "                                 X_train, Y_train,\n",
    "                                 scoring = 'accuracy', \n",
    "                                 cv = kfold.split(X_train),\n",
    "                                 n_jobs=-1).mean()\n",
    "print rf_count_score"
   ]
  },
  {
   "cell_type": "markdown",
   "metadata": {},
   "source": [
    "# Word2Vec - Glove"
   ]
  },
  {
   "cell_type": "code",
   "execution_count": 100,
   "metadata": {},
   "outputs": [],
   "source": [
    "def w2v_to_features(w2v, list_tokens):\n",
    "    w2v_keys = w2v.keys()\n",
    "    n_dims = len(w2v[w2v.keys()[0]])\n",
    "    result = np.zeros((len(list_tokens), n_dims))\n",
    "    for idx in tqdm(range(len(list_tokens))):\n",
    "        array_features = np.array([w2v[x] \n",
    "                                   for x in \n",
    "                                   list_tokens[idx] \n",
    "                                   if x in w2v_keys])\n",
    "        if len(array_features) == 0:\n",
    "            continue\n",
    "        else:\n",
    "            result[idx] = array_features.mean(axis = 0)\n",
    "    return result.astype('float64')"
   ]
  },
  {
   "cell_type": "code",
   "execution_count": 101,
   "metadata": {},
   "outputs": [],
   "source": [
    "with open('glove.twitter.27B.200d.txt', \"rb\") as lines:\n",
    "    w2v = {line.split()[0]: \n",
    "                      np.array(map(float, line.split()[1:]))\n",
    "               for line in lines}"
   ]
  },
  {
   "cell_type": "code",
   "execution_count": null,
   "metadata": {},
   "outputs": [],
   "source": [
    "list_tokens = []\n",
    "for idx in range(len(message)):\n",
    "    list_tokens.append([str(x) for x in message[idx].split(' ')])"
   ]
  },
  {
   "cell_type": "code",
   "execution_count": null,
   "metadata": {},
   "outputs": [
    {
     "name": "stderr",
     "output_type": "stream",
     "text": [
      " 25%|██▌       | 1613/6425 [15:18<45:41,  1.76it/s]"
     ]
    }
   ],
   "source": [
    "scaler = MinMaxScaler()\n",
    "X_train = w2v_to_features(w2v, list_tokens)\n",
    "X_train = scaler.fit_transform(X_train)"
   ]
  },
  {
   "cell_type": "code",
   "execution_count": null,
   "metadata": {},
   "outputs": [],
   "source": [
    "X_train.shape"
   ]
  },
  {
   "cell_type": "code",
   "execution_count": null,
   "metadata": {},
   "outputs": [],
   "source": [
    "joblib.load(X_train, 'X_train_glove.pkl')"
   ]
  },
  {
   "cell_type": "code",
   "execution_count": null,
   "metadata": {},
   "outputs": [],
   "source": [
    "log_count_model = LogisticRegressionCV()\n",
    "log_count_score = cross_val_score(log_count_model,\n",
    "                                  X_train, Y_train,\n",
    "                                  scoring = 'accuracy',\n",
    "                                  cv = kfold.split(X_train),\n",
    "                                  n_jobs=-1).mean()\n",
    "print log_count_score"
   ]
  },
  {
   "cell_type": "code",
   "execution_count": null,
   "metadata": {},
   "outputs": [],
   "source": [
    "svc_count_model = LinearSVC()\n",
    "svc_count_score = cross_val_score(svc_count_model,\n",
    "                                  X_train, Y_train,\n",
    "                                  scoring = 'accuracy',\n",
    "                                  cv = kfold.split(X_train),\n",
    "                                  n_jobs=-1).mean()\n",
    "print svc_count_score"
   ]
  },
  {
   "cell_type": "code",
   "execution_count": null,
   "metadata": {},
   "outputs": [],
   "source": [
    "nb_count_model = MultinomialNB()\n",
    "nb_count_score = cross_val_score(nb_count_model, \n",
    "                                 X_train, Y_train,\n",
    "                                 scoring = 'accuracy', \n",
    "                                 cv = kfold.split(X_train,),\n",
    "                                 n_jobs=-1).mean()\n",
    "print nb_count_score"
   ]
  },
  {
   "cell_type": "code",
   "execution_count": null,
   "metadata": {},
   "outputs": [],
   "source": [
    "gb_count_model = GradientBoostingClassifier()\n",
    "gb_count_score = cross_val_score(gb_count_model, \n",
    "                                 X_train, Y_train,\n",
    "                                 scoring = 'accuracy', \n",
    "                                 cv = kfold.split(X_train),\n",
    "                                 n_jobs=-1).mean()\n",
    "print gb_count_score"
   ]
  },
  {
   "cell_type": "code",
   "execution_count": null,
   "metadata": {},
   "outputs": [],
   "source": [
    "rf_count_model = RandomForestClassifier()\n",
    "rf_count_score = cross_val_score(rf_count_model, \n",
    "                                 X_train, Y_train,\n",
    "                                 scoring = 'accuracy', \n",
    "                                 cv = kfold.split(X_train),\n",
    "                                 n_jobs=-1).mean()\n",
    "print rf_count_score"
   ]
  },
  {
   "cell_type": "code",
   "execution_count": null,
   "metadata": {},
   "outputs": [],
   "source": []
  }
 ],
 "metadata": {
  "kernelspec": {
   "display_name": "Python 2",
   "language": "python",
   "name": "python2"
  },
  "language_info": {
   "codemirror_mode": {
    "name": "ipython",
    "version": 2
   },
   "file_extension": ".py",
   "mimetype": "text/x-python",
   "name": "python",
   "nbconvert_exporter": "python",
   "pygments_lexer": "ipython2",
   "version": "2.7.14"
  }
 },
 "nbformat": 4,
 "nbformat_minor": 2
}
