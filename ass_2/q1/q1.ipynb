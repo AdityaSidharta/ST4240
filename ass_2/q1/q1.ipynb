{
 "cells": [
  {
   "cell_type": "markdown",
   "metadata": {},
   "source": [
    "# Question 1"
   ]
  },
  {
   "cell_type": "markdown",
   "metadata": {},
   "source": [
    "In this question, I am tasked to create a classifier that is able to differentiate Trump and Clinton tweets using only the text in the tweets - we are not allowed to use the location, time and any other information"
   ]
  },
  {
   "cell_type": "code",
   "execution_count": 2,
   "metadata": {},
   "outputs": [
    {
     "name": "stderr",
     "output_type": "stream",
     "text": [
      "/home/adityasidharta/anaconda2/lib/python2.7/site-packages/h5py/__init__.py:36: FutureWarning: Conversion of the second argument of issubdtype from `float` to `np.floating` is deprecated. In future, it will be treated as `np.float64 == np.dtype(float).type`.\n",
      "  from ._conv import register_converters as _register_converters\n",
      "Using TensorFlow backend.\n"
     ]
    }
   ],
   "source": [
    "from gensim.models.word2vec import Word2Vec\n",
    "from sklearn.externals import joblib\n",
    "\n",
    "from keras.preprocessing.text import Tokenizer\n",
    "from keras.preprocessing.sequence import pad_sequences"
   ]
  },
  {
   "cell_type": "code",
   "execution_count": 3,
   "metadata": {},
   "outputs": [],
   "source": [
    "from tqdm import tqdm\n",
    "from sklearn.decomposition import TruncatedSVD\n",
    "from sklearn.preprocessing import MinMaxScaler"
   ]
  },
  {
   "cell_type": "code",
   "execution_count": 4,
   "metadata": {},
   "outputs": [],
   "source": [
    "import sys\n",
    "import csv\n",
    "import pandas as pd\n",
    "import tweepy\n",
    "import string\n",
    "from string import maketrans \n",
    "import re\n",
    "from nltk.corpus import stopwords\n",
    "from nltk.stem import WordNetLemmatizer\n",
    "import numpy as np\n",
    "from sklearn.metrics import accuracy_score\n",
    "from sklearn.feature_extraction.text import\\\n",
    "TfidfVectorizer, CountVectorizer\n",
    "from sklearn.model_selection import \\\n",
    "train_test_split, cross_val_score, KFold"
   ]
  },
  {
   "cell_type": "code",
   "execution_count": 172,
   "metadata": {},
   "outputs": [],
   "source": [
    "from keras.layers import Concatenate"
   ]
  },
  {
   "cell_type": "code",
   "execution_count": 5,
   "metadata": {},
   "outputs": [],
   "source": [
    "import keras\n",
    "from keras.models import Model\n",
    "from keras.models import Sequential\n",
    "from keras.layers import Dense, Dropout,\\\n",
    "Flatten, Input, Activation, \\\n",
    "Dropout, BatchNormalization, Embedding\n",
    "from keras.layers import Conv1D, MaxPool1D,\\\n",
    "MaxPooling1D\n",
    "from keras import backend as K\n",
    "from keras.models import load_model\n",
    "from keras import metrics"
   ]
  },
  {
   "cell_type": "code",
   "execution_count": 6,
   "metadata": {},
   "outputs": [],
   "source": [
    "import matplotlib.pyplot as plt\n",
    "import seaborn as sns"
   ]
  },
  {
   "cell_type": "code",
   "execution_count": 7,
   "metadata": {},
   "outputs": [
    {
     "name": "stdout",
     "output_type": "stream",
     "text": [
      "[nltk_data] Downloading package stopwords to\n",
      "[nltk_data]     /home/adityasidharta/nltk_data...\n",
      "[nltk_data]   Package stopwords is already up-to-date!\n",
      "[nltk_data] Downloading package wordnet to\n",
      "[nltk_data]     /home/adityasidharta/nltk_data...\n",
      "[nltk_data]   Package wordnet is already up-to-date!\n"
     ]
    },
    {
     "data": {
      "text/plain": [
       "True"
      ]
     },
     "execution_count": 7,
     "metadata": {},
     "output_type": "execute_result"
    }
   ],
   "source": [
    "import nltk\n",
    "wordnet_lemmatizer = WordNetLemmatizer()\n",
    "nltk.download('stopwords')\n",
    "nltk.download('wordnet')"
   ]
  },
  {
   "cell_type": "markdown",
   "metadata": {},
   "source": [
    "First, I will use the package `tweepy` in python to download all of the Trump and Hillary tweets. To perform this, we need to create API key using our personal Twitter Account so that we are able to download all the tweets. For privacy reasons, I have deleted my API key."
   ]
  },
  {
   "cell_type": "code",
   "execution_count": 8,
   "metadata": {},
   "outputs": [],
   "source": [
    "ckey = \"secret\"\n",
    "csecret = \"secret\"\n",
    "atoken = \"secret\"\n",
    "asecret = \"secret\""
   ]
  },
  {
   "cell_type": "code",
   "execution_count": 9,
   "metadata": {},
   "outputs": [],
   "source": [
    "auth = tweepy.OAuthHandler(ckey, csecret)\n",
    "auth.set_access_token(atoken, asecret)\n",
    "api = tweepy.API(auth)"
   ]
  },
  {
   "cell_type": "markdown",
   "metadata": {},
   "source": [
    "`Tweepy` only allows us to download 200 tweets for a single request. Thus, we will remember the oldest ID of the tweet that we have downloaded, and send multiple request until there are no more new tweets that we can download for both Trump and Hillary. We will then store the ID of the tweet, the creation time of the tweet, as well as the message of the tweet in a csv format. This is so that we can load the csv using `pandas` easily"
   ]
  },
  {
   "cell_type": "code",
   "execution_count": 10,
   "metadata": {},
   "outputs": [],
   "source": [
    "def get_all_tweets(screen_name):\n",
    "    alltweets = []\n",
    "    new_tweets = api.user_timeline\\\n",
    "    (screen_name = screen_name,count=200)\n",
    "    alltweets.extend(new_tweets)\n",
    "    oldest = alltweets[-1].id - 1\n",
    "\n",
    "    while len(new_tweets) > 0:\n",
    "        new_tweets = api.user_timeline\\\n",
    "        (screen_name = screen_name,count=200,\n",
    "         max_id=oldest)\n",
    "        alltweets.extend(new_tweets)\n",
    "\n",
    "        oldest = alltweets[-1].id - 1\n",
    "\n",
    "    outtweets = [[tweet.id_str, \n",
    "                  tweet.created_at,\n",
    "                  tweet.text.encode(\"utf-8\")] \\\n",
    "                 for tweet in alltweets]\n",
    "\n",
    "    with open('%s_tweets.csv' % screen_name, \n",
    "              'wb') as f:\n",
    "        writer = csv.writer(f)\n",
    "        writer.writerow([\"id\",\"created_at\",\"text\"])\n",
    "        writer.writerows(outtweets)\n",
    "\n",
    "pass"
   ]
  },
  {
   "cell_type": "code",
   "execution_count": 19,
   "metadata": {},
   "outputs": [],
   "source": [
    "get_all_tweets('HillaryClinton')\n",
    "get_all_tweets('RealDonaldTrump')"
   ]
  },
  {
   "cell_type": "code",
   "execution_count": 20,
   "metadata": {},
   "outputs": [],
   "source": [
    "df_hillary = pd.read_csv('HillaryClinton_tweets.csv')\n",
    "df_trump = pd.read_csv('realDonaldtrump_tweets.csv')"
   ]
  },
  {
   "cell_type": "code",
   "execution_count": 21,
   "metadata": {},
   "outputs": [],
   "source": [
    "def text_process(s):\n",
    "    s = str(s)\n",
    "    s = s.translate(None, string.punctuation.replace('@',''))\n",
    "    s = s.translate(None, '1234567890')\n",
    "    s = [word for word in s.split() if not \\\n",
    "     (word.startswith('http') or word.startswith('@'))]\n",
    "    s = ' '.join(s)\n",
    "    s = re.sub(' +',' ',s)\n",
    "    s = s.decode('ascii', 'ignore')\n",
    "    s = s.lower()\n",
    "    s = [word for word in s.split() if word not\\\n",
    "         in stopwords.words('english') + ['rt'] + ['amp'] + ['hillary', 'donald', 'trump' + 'u']]\n",
    "    s = [wordnet_lemmatizer.lemmatize(word) for word in s]\n",
    "    sentence = ' '.join(s)\n",
    "    return sentence"
   ]
  },
  {
   "cell_type": "code",
   "execution_count": 22,
   "metadata": {},
   "outputs": [],
   "source": [
    "df_hillary['len'] = df_hillary['text'].apply(len)\n",
    "df_hillary['token'] = df_hillary['text'].apply(lambda x : text_process(x))\n",
    "df_trump['len'] = df_trump['text'].apply(len)\n",
    "df_trump['token'] = df_trump['text'].apply(lambda x : text_process(x))"
   ]
  },
  {
   "cell_type": "code",
   "execution_count": 23,
   "metadata": {},
   "outputs": [],
   "source": [
    "df_hillary['user'] = 'hillary'\n",
    "df_trump['user'] = 'trump'"
   ]
  },
  {
   "cell_type": "code",
   "execution_count": 24,
   "metadata": {},
   "outputs": [],
   "source": [
    "df_hillary = df_hillary.loc[df_hillary.token != '', :]\n",
    "df_trump = df_trump.loc[df_trump.token != '', :]"
   ]
  },
  {
   "cell_type": "code",
   "execution_count": 25,
   "metadata": {},
   "outputs": [],
   "source": [
    "df_train = pd.concat([df_hillary, df_trump])"
   ]
  },
  {
   "cell_type": "code",
   "execution_count": 26,
   "metadata": {},
   "outputs": [
    {
     "data": {
      "text/html": [
       "<div>\n",
       "<style scoped>\n",
       "    .dataframe tbody tr th:only-of-type {\n",
       "        vertical-align: middle;\n",
       "    }\n",
       "\n",
       "    .dataframe tbody tr th {\n",
       "        vertical-align: top;\n",
       "    }\n",
       "\n",
       "    .dataframe thead th {\n",
       "        text-align: right;\n",
       "    }\n",
       "</style>\n",
       "<table border=\"1\" class=\"dataframe\">\n",
       "  <thead>\n",
       "    <tr style=\"text-align: right;\">\n",
       "      <th></th>\n",
       "      <th>id</th>\n",
       "      <th>created_at</th>\n",
       "      <th>text</th>\n",
       "      <th>len</th>\n",
       "      <th>token</th>\n",
       "      <th>user</th>\n",
       "    </tr>\n",
       "  </thead>\n",
       "  <tbody>\n",
       "    <tr>\n",
       "      <th>0</th>\n",
       "      <td>985908580430819329</td>\n",
       "      <td>2018-04-16 15:51:37</td>\n",
       "      <td>Thinking about Barbara Bush’s legacy of servic...</td>\n",
       "      <td>144</td>\n",
       "      <td>thinking barbara bush legacy service country e...</td>\n",
       "      <td>hillary</td>\n",
       "    </tr>\n",
       "    <tr>\n",
       "      <th>1</th>\n",
       "      <td>984611815798820864</td>\n",
       "      <td>2018-04-13 01:58:44</td>\n",
       "      <td>More terrific work from a group of progressive...</td>\n",
       "      <td>139</td>\n",
       "      <td>terrific work group progressive working turn a...</td>\n",
       "      <td>hillary</td>\n",
       "    </tr>\n",
       "    <tr>\n",
       "      <th>2</th>\n",
       "      <td>984597321353715712</td>\n",
       "      <td>2018-04-13 01:01:09</td>\n",
       "      <td>Storytelling is at the heart of every cultural...</td>\n",
       "      <td>145</td>\n",
       "      <td>storytelling heart every cultural political re...</td>\n",
       "      <td>hillary</td>\n",
       "    </tr>\n",
       "    <tr>\n",
       "      <th>3</th>\n",
       "      <td>983464202919653376</td>\n",
       "      <td>2018-04-09 21:58:32</td>\n",
       "      <td>Congratulations Tammy! https://t.co/H85PIeycUm</td>\n",
       "      <td>46</td>\n",
       "      <td>congratulation tammy</td>\n",
       "      <td>hillary</td>\n",
       "    </tr>\n",
       "    <tr>\n",
       "      <th>4</th>\n",
       "      <td>981716478218133504</td>\n",
       "      <td>2018-04-05 02:13:42</td>\n",
       "      <td>Rev. Dr. Martin Luther King, Jr was in Memphis...</td>\n",
       "      <td>142</td>\n",
       "      <td>rev dr martin luther king jr memphis protest s...</td>\n",
       "      <td>hillary</td>\n",
       "    </tr>\n",
       "    <tr>\n",
       "      <th>5</th>\n",
       "      <td>981709339294650369</td>\n",
       "      <td>2018-04-05 01:45:20</td>\n",
       "      <td>Thanks for the warm welcome last night! Inspir...</td>\n",
       "      <td>104</td>\n",
       "      <td>thanks warm welcome last night inspired passio...</td>\n",
       "      <td>hillary</td>\n",
       "    </tr>\n",
       "    <tr>\n",
       "      <th>6</th>\n",
       "      <td>981664484120039424</td>\n",
       "      <td>2018-04-04 22:47:06</td>\n",
       "      <td>Wishing @JuliaGillard, Former Aussie PM, the b...</td>\n",
       "      <td>146</td>\n",
       "      <td>wishing former aussie pm best today launch new...</td>\n",
       "      <td>hillary</td>\n",
       "    </tr>\n",
       "    <tr>\n",
       "      <th>7</th>\n",
       "      <td>979823851222786048</td>\n",
       "      <td>2018-03-30 20:53:05</td>\n",
       "      <td>A little over 15 years ago a bright young woma...</td>\n",
       "      <td>142</td>\n",
       "      <td>little year ago bright young woman walked offi...</td>\n",
       "      <td>hillary</td>\n",
       "    </tr>\n",
       "    <tr>\n",
       "      <th>8</th>\n",
       "      <td>979823364113141763</td>\n",
       "      <td>2018-03-30 20:51:08</td>\n",
       "      <td>We are indeed on the brink. Thank you to Rutge...</td>\n",
       "      <td>142</td>\n",
       "      <td>indeed brink thank rutgers yesterday student c...</td>\n",
       "      <td>hillary</td>\n",
       "    </tr>\n",
       "    <tr>\n",
       "      <th>9</th>\n",
       "      <td>977616710588141568</td>\n",
       "      <td>2018-03-24 18:42:41</td>\n",
       "      <td>Listening to the students from Parkland and ac...</td>\n",
       "      <td>142</td>\n",
       "      <td>listening student parkland across country toda...</td>\n",
       "      <td>hillary</td>\n",
       "    </tr>\n",
       "    <tr>\n",
       "      <th>10</th>\n",
       "      <td>976823790649962496</td>\n",
       "      <td>2018-03-22 14:11:54</td>\n",
       "      <td>My friend @jmpalmieri wrote a terrific book th...</td>\n",
       "      <td>144</td>\n",
       "      <td>friend wrote terrific book everyone read smart...</td>\n",
       "      <td>hillary</td>\n",
       "    </tr>\n",
       "    <tr>\n",
       "      <th>11</th>\n",
       "      <td>976549758352240640</td>\n",
       "      <td>2018-03-21 20:03:00</td>\n",
       "      <td>Important analysis about which candidates get ...</td>\n",
       "      <td>124</td>\n",
       "      <td>important analysis candidate get critical earl...</td>\n",
       "      <td>hillary</td>\n",
       "    </tr>\n",
       "    <tr>\n",
       "      <th>13</th>\n",
       "      <td>974824222253092864</td>\n",
       "      <td>2018-03-17 01:46:20</td>\n",
       "      <td>Congresswoman Louise Slaughter was a tireless ...</td>\n",
       "      <td>142</td>\n",
       "      <td>congresswoman louise slaughter tireless advoca...</td>\n",
       "      <td>hillary</td>\n",
       "    </tr>\n",
       "    <tr>\n",
       "      <th>14</th>\n",
       "      <td>974103715576799233</td>\n",
       "      <td>2018-03-15 02:03:18</td>\n",
       "      <td>To all the students across our country who too...</td>\n",
       "      <td>142</td>\n",
       "      <td>student across country took part nationalwalko...</td>\n",
       "      <td>hillary</td>\n",
       "    </tr>\n",
       "    <tr>\n",
       "      <th>15</th>\n",
       "      <td>971908627874316288</td>\n",
       "      <td>2018-03-09 00:40:48</td>\n",
       "      <td>@timkaine I’m forever grateful to you for bein...</td>\n",
       "      <td>144</td>\n",
       "      <td>im forever grateful outspoken champion advocat...</td>\n",
       "      <td>hillary</td>\n",
       "    </tr>\n",
       "    <tr>\n",
       "      <th>16</th>\n",
       "      <td>971793872069320705</td>\n",
       "      <td>2018-03-08 17:04:48</td>\n",
       "      <td>Who inspires you this #InternationalWomensDay?...</td>\n",
       "      <td>70</td>\n",
       "      <td>inspires internationalwomensday</td>\n",
       "      <td>hillary</td>\n",
       "    </tr>\n",
       "    <tr>\n",
       "      <th>21</th>\n",
       "      <td>971785206373015552</td>\n",
       "      <td>2018-03-08 16:30:22</td>\n",
       "      <td>@Astrid_NV @iammarleydias @aijenpoo @domesticw...</td>\n",
       "      <td>137</td>\n",
       "      <td>friend</td>\n",
       "      <td>hillary</td>\n",
       "    </tr>\n",
       "    <tr>\n",
       "      <th>22</th>\n",
       "      <td>971782002419658752</td>\n",
       "      <td>2018-03-08 16:17:38</td>\n",
       "      <td>@Astrid_NV @iammarleydias @aijenpoo @domesticw...</td>\n",
       "      <td>142</td>\n",
       "      <td>advocate health care</td>\n",
       "      <td>hillary</td>\n",
       "    </tr>\n",
       "    <tr>\n",
       "      <th>23</th>\n",
       "      <td>971780790357983233</td>\n",
       "      <td>2018-03-08 16:12:49</td>\n",
       "      <td>@Astrid_NV @iammarleydias @aijenpoo @domesticw...</td>\n",
       "      <td>144</td>\n",
       "      <td>u woman hockey soccer team stood</td>\n",
       "      <td>hillary</td>\n",
       "    </tr>\n",
       "    <tr>\n",
       "      <th>24</th>\n",
       "      <td>971779370615541761</td>\n",
       "      <td>2018-03-08 16:07:11</td>\n",
       "      <td>@Astrid_NV @iammarleydias @aijenpoo @domesticw...</td>\n",
       "      <td>142</td>\n",
       "      <td>rachael denhollander many woman u g</td>\n",
       "      <td>hillary</td>\n",
       "    </tr>\n",
       "    <tr>\n",
       "      <th>25</th>\n",
       "      <td>971778600457396227</td>\n",
       "      <td>2018-03-08 16:04:07</td>\n",
       "      <td>@Astrid_NV @iammarleydias @aijenpoo @domesticw...</td>\n",
       "      <td>142</td>\n",
       "      <td>tackle gender gap technology inspiri</td>\n",
       "      <td>hillary</td>\n",
       "    </tr>\n",
       "    <tr>\n",
       "      <th>26</th>\n",
       "      <td>971777915322028033</td>\n",
       "      <td>2018-03-08 16:01:24</td>\n",
       "      <td>@Astrid_NV @iammarleydias @AiJenPoo organizes ...</td>\n",
       "      <td>144</td>\n",
       "      <td>organizes fastest growing part american wor</td>\n",
       "      <td>hillary</td>\n",
       "    </tr>\n",
       "    <tr>\n",
       "      <th>27</th>\n",
       "      <td>971777423124697088</td>\n",
       "      <td>2018-03-08 15:59:27</td>\n",
       "      <td>@Astrid_NV @IAmMarleyDias is the brains behind...</td>\n",
       "      <td>142</td>\n",
       "      <td>brain behind blackgirlbooks effort ensure blac...</td>\n",
       "      <td>hillary</td>\n",
       "    </tr>\n",
       "    <tr>\n",
       "      <th>28</th>\n",
       "      <td>971776813235044358</td>\n",
       "      <td>2018-03-08 15:57:01</td>\n",
       "      <td>The courageous @Astrid_NV fights tirelessly to...</td>\n",
       "      <td>125</td>\n",
       "      <td>courageous fight tirelessly protect dreamer ke...</td>\n",
       "      <td>hillary</td>\n",
       "    </tr>\n",
       "    <tr>\n",
       "      <th>29</th>\n",
       "      <td>971776610612449280</td>\n",
       "      <td>2018-03-08 15:56:13</td>\n",
       "      <td>In honor of #InternationalWomensDay, I want to...</td>\n",
       "      <td>142</td>\n",
       "      <td>honor internationalwomensday want celebrate wo...</td>\n",
       "      <td>hillary</td>\n",
       "    </tr>\n",
       "    <tr>\n",
       "      <th>30</th>\n",
       "      <td>970071393990832129</td>\n",
       "      <td>2018-03-03 23:00:18</td>\n",
       "      <td>Saw Black Panther with Bill this afternoon &amp;am...</td>\n",
       "      <td>126</td>\n",
       "      <td>saw black panther bill afternoon loved beautif...</td>\n",
       "      <td>hillary</td>\n",
       "    </tr>\n",
       "    <tr>\n",
       "      <th>31</th>\n",
       "      <td>969602156977377282</td>\n",
       "      <td>2018-03-02 15:55:43</td>\n",
       "      <td>RT @kylegriffin1: Outdoor retailer REI says it...</td>\n",
       "      <td>146</td>\n",
       "      <td>outdoor retailer rei say halting future order ...</td>\n",
       "      <td>hillary</td>\n",
       "    </tr>\n",
       "    <tr>\n",
       "      <th>32</th>\n",
       "      <td>969257037027831808</td>\n",
       "      <td>2018-03-01 17:04:20</td>\n",
       "      <td>College students--you have the power to take b...</td>\n",
       "      <td>139</td>\n",
       "      <td>college studentsyou power take back democratic...</td>\n",
       "      <td>hillary</td>\n",
       "    </tr>\n",
       "    <tr>\n",
       "      <th>33</th>\n",
       "      <td>968874798771310592</td>\n",
       "      <td>2018-02-28 15:45:27</td>\n",
       "      <td>I say this as a former Secretary of State and ...</td>\n",
       "      <td>142</td>\n",
       "      <td>say former secretary state american russian st...</td>\n",
       "      <td>hillary</td>\n",
       "    </tr>\n",
       "    <tr>\n",
       "      <th>34</th>\n",
       "      <td>968543389116456960</td>\n",
       "      <td>2018-02-27 17:48:33</td>\n",
       "      <td>I’m so excited! 🤗 https://t.co/i5BrQ05ki7</td>\n",
       "      <td>46</td>\n",
       "      <td>im excited</td>\n",
       "      <td>hillary</td>\n",
       "    </tr>\n",
       "    <tr>\n",
       "      <th>...</th>\n",
       "      <td>...</td>\n",
       "      <td>...</td>\n",
       "      <td>...</td>\n",
       "      <td>...</td>\n",
       "      <td>...</td>\n",
       "      <td>...</td>\n",
       "    </tr>\n",
       "    <tr>\n",
       "      <th>3210</th>\n",
       "      <td>810288321880555520</td>\n",
       "      <td>2016-12-18 00:59:25</td>\n",
       "      <td>We should tell China that we don't want the dr...</td>\n",
       "      <td>85</td>\n",
       "      <td>tell china dont want drone stole back let keep</td>\n",
       "      <td>trump</td>\n",
       "    </tr>\n",
       "    <tr>\n",
       "      <th>3211</th>\n",
       "      <td>810276411177107456</td>\n",
       "      <td>2016-12-18 00:12:05</td>\n",
       "      <td>Thank you Alabama! From now on, it’s going to ...</td>\n",
       "      <td>141</td>\n",
       "      <td>thank alabama going americafirst goal bring ba...</td>\n",
       "      <td>trump</td>\n",
       "    </tr>\n",
       "    <tr>\n",
       "      <th>3212</th>\n",
       "      <td>810232514749075456</td>\n",
       "      <td>2016-12-17 21:17:39</td>\n",
       "      <td>RT @DanScavino: Join President-elect Trump LIV...</td>\n",
       "      <td>142</td>\n",
       "      <td>join presidentelect trump live mobile alabama ...</td>\n",
       "      <td>trump</td>\n",
       "    </tr>\n",
       "    <tr>\n",
       "      <th>3213</th>\n",
       "      <td>810121703288410112</td>\n",
       "      <td>2016-12-17 13:57:20</td>\n",
       "      <td>China steals United States Navy research drone...</td>\n",
       "      <td>137</td>\n",
       "      <td>china steal united state navy research drone i...</td>\n",
       "      <td>trump</td>\n",
       "    </tr>\n",
       "    <tr>\n",
       "      <th>3214</th>\n",
       "      <td>810112407309844480</td>\n",
       "      <td>2016-12-17 13:20:23</td>\n",
       "      <td>Mobile, Alabama today at 3:00 P.M. Last rally ...</td>\n",
       "      <td>140</td>\n",
       "      <td>mobile alabama today pm last rally year thank ...</td>\n",
       "      <td>trump</td>\n",
       "    </tr>\n",
       "    <tr>\n",
       "      <th>3215</th>\n",
       "      <td>810109131537481728</td>\n",
       "      <td>2016-12-17 13:07:22</td>\n",
       "      <td>\"@EazyMF_E: @realDonaldTrump Many people are n...</td>\n",
       "      <td>138</td>\n",
       "      <td>many people saying extremely successful presid...</td>\n",
       "      <td>trump</td>\n",
       "    </tr>\n",
       "    <tr>\n",
       "      <th>3216</th>\n",
       "      <td>810108542921408512</td>\n",
       "      <td>2016-12-17 13:05:02</td>\n",
       "      <td>Last night in Orlando, Florida, was incredible...</td>\n",
       "      <td>139</td>\n",
       "      <td>last night orlando florida incredible massive ...</td>\n",
       "      <td>trump</td>\n",
       "    </tr>\n",
       "    <tr>\n",
       "      <th>3217</th>\n",
       "      <td>809969373754654721</td>\n",
       "      <td>2016-12-17 03:52:01</td>\n",
       "      <td>Thank you Florida. My Administration will foll...</td>\n",
       "      <td>140</td>\n",
       "      <td>thank florida administration follow two simple...</td>\n",
       "      <td>trump</td>\n",
       "    </tr>\n",
       "    <tr>\n",
       "      <th>3218</th>\n",
       "      <td>809803893920165892</td>\n",
       "      <td>2016-12-16 16:54:28</td>\n",
       "      <td>#ThankYouTour2016 \\n\\nTonight- Orlando, Florid...</td>\n",
       "      <td>142</td>\n",
       "      <td>thankyoutour tonight orlando florida ticket to...</td>\n",
       "      <td>trump</td>\n",
       "    </tr>\n",
       "    <tr>\n",
       "      <th>3219</th>\n",
       "      <td>809790978332786689</td>\n",
       "      <td>2016-12-16 16:03:09</td>\n",
       "      <td>Well, we all did it, together! I hope the \"MOV...</td>\n",
       "      <td>137</td>\n",
       "      <td>well together hope movement fan go dc jan th s...</td>\n",
       "      <td>trump</td>\n",
       "    </tr>\n",
       "    <tr>\n",
       "      <th>3220</th>\n",
       "      <td>809717035353722880</td>\n",
       "      <td>2016-12-16 11:09:19</td>\n",
       "      <td>Are we talking about the same cyberattack wher...</td>\n",
       "      <td>136</td>\n",
       "      <td>talking cyberattack revealed head dnc illegall...</td>\n",
       "      <td>trump</td>\n",
       "    </tr>\n",
       "    <tr>\n",
       "      <th>3221</th>\n",
       "      <td>809571983428120577</td>\n",
       "      <td>2016-12-16 01:32:56</td>\n",
       "      <td>Thank you Pennsylvania! Together, we are going...</td>\n",
       "      <td>138</td>\n",
       "      <td>thank pennsylvania together going make america...</td>\n",
       "      <td>trump</td>\n",
       "    </tr>\n",
       "    <tr>\n",
       "      <th>3222</th>\n",
       "      <td>809525257371578369</td>\n",
       "      <td>2016-12-15 22:27:16</td>\n",
       "      <td>Join me in Mobile, Alabama on Sat. at 3pm! #Th...</td>\n",
       "      <td>118</td>\n",
       "      <td>join mobile alabama sat pm thankyoutour ticket</td>\n",
       "      <td>trump</td>\n",
       "    </tr>\n",
       "    <tr>\n",
       "      <th>3223</th>\n",
       "      <td>809403760099422208</td>\n",
       "      <td>2016-12-15 14:24:29</td>\n",
       "      <td>If Russia, or some other entity, was hacking, ...</td>\n",
       "      <td>137</td>\n",
       "      <td>russia entity hacking white house wait long ac...</td>\n",
       "      <td>trump</td>\n",
       "    </tr>\n",
       "    <tr>\n",
       "      <th>3224</th>\n",
       "      <td>809389774066814976</td>\n",
       "      <td>2016-12-15 13:28:54</td>\n",
       "      <td>The media tries so hard to make my move to the...</td>\n",
       "      <td>127</td>\n",
       "      <td>medium try hard make move white house pertains...</td>\n",
       "      <td>trump</td>\n",
       "    </tr>\n",
       "    <tr>\n",
       "      <th>3225</th>\n",
       "      <td>809384826193276928</td>\n",
       "      <td>2016-12-15 13:09:14</td>\n",
       "      <td>Thank you to Time Magazine and Financial Times...</td>\n",
       "      <td>98</td>\n",
       "      <td>thank time magazine financial time naming pers...</td>\n",
       "      <td>trump</td>\n",
       "    </tr>\n",
       "    <tr>\n",
       "      <th>3226</th>\n",
       "      <td>809383989018497024</td>\n",
       "      <td>2016-12-15 13:05:55</td>\n",
       "      <td>Has anyone looked at the really poor numbers o...</td>\n",
       "      <td>138</td>\n",
       "      <td>anyone looked really poor number magazine way ...</td>\n",
       "      <td>trump</td>\n",
       "    </tr>\n",
       "    <tr>\n",
       "      <th>3227</th>\n",
       "      <td>809097603010981888</td>\n",
       "      <td>2016-12-14 18:07:55</td>\n",
       "      <td>.@BillGates and @JimBrownNFL32 in my Trump Tow...</td>\n",
       "      <td>106</td>\n",
       "      <td>trump tower office yesterday two great guy</td>\n",
       "      <td>trump</td>\n",
       "    </tr>\n",
       "    <tr>\n",
       "      <th>3228</th>\n",
       "      <td>808881429715316737</td>\n",
       "      <td>2016-12-14 03:48:55</td>\n",
       "      <td>Thank you Wisconsin! My Administration will be...</td>\n",
       "      <td>137</td>\n",
       "      <td>thank wisconsin administration focused three i...</td>\n",
       "      <td>trump</td>\n",
       "    </tr>\n",
       "    <tr>\n",
       "      <th>3229</th>\n",
       "      <td>808837073423794176</td>\n",
       "      <td>2016-12-14 00:52:40</td>\n",
       "      <td>RT @DanScavino: Join #PEOTUS Trump &amp;amp; #VPEO...</td>\n",
       "      <td>146</td>\n",
       "      <td>join peotus trump vpeotus penny live west alli...</td>\n",
       "      <td>trump</td>\n",
       "    </tr>\n",
       "    <tr>\n",
       "      <th>3230</th>\n",
       "      <td>808787048144453632</td>\n",
       "      <td>2016-12-13 21:33:53</td>\n",
       "      <td>Join me this Saturday at Ladd–Peebles Stadium ...</td>\n",
       "      <td>124</td>\n",
       "      <td>join saturday laddpeebles stadium mobile alaba...</td>\n",
       "      <td>trump</td>\n",
       "    </tr>\n",
       "    <tr>\n",
       "      <th>3231</th>\n",
       "      <td>808653723639697408</td>\n",
       "      <td>2016-12-13 12:44:06</td>\n",
       "      <td>The thing I like best about Rex Tillerson is t...</td>\n",
       "      <td>135</td>\n",
       "      <td>thing like best rex tillerson vast experience ...</td>\n",
       "      <td>trump</td>\n",
       "    </tr>\n",
       "    <tr>\n",
       "      <th>3232</th>\n",
       "      <td>808642018612310016</td>\n",
       "      <td>2016-12-13 11:57:35</td>\n",
       "      <td>Wisconsin and Pennsylvania have just certified...</td>\n",
       "      <td>110</td>\n",
       "      <td>wisconsin pennsylvania certified win state act...</td>\n",
       "      <td>trump</td>\n",
       "    </tr>\n",
       "    <tr>\n",
       "      <th>3233</th>\n",
       "      <td>808638507161882624</td>\n",
       "      <td>2016-12-13 11:43:38</td>\n",
       "      <td>I have chosen one of the truly great business ...</td>\n",
       "      <td>140</td>\n",
       "      <td>chosen one truly great business leader world r...</td>\n",
       "      <td>trump</td>\n",
       "    </tr>\n",
       "    <tr>\n",
       "      <th>3234</th>\n",
       "      <td>808532286664822784</td>\n",
       "      <td>2016-12-13 04:41:33</td>\n",
       "      <td>I will hold a press conference in the near fut...</td>\n",
       "      <td>134</td>\n",
       "      <td>hold press conference near future discus busin...</td>\n",
       "      <td>trump</td>\n",
       "    </tr>\n",
       "    <tr>\n",
       "      <th>3235</th>\n",
       "      <td>808529888630239232</td>\n",
       "      <td>2016-12-13 04:32:01</td>\n",
       "      <td>Presidency. Two of my children, Don and Eric, ...</td>\n",
       "      <td>135</td>\n",
       "      <td>presidency two child eric plus executive manag...</td>\n",
       "      <td>trump</td>\n",
       "    </tr>\n",
       "    <tr>\n",
       "      <th>3236</th>\n",
       "      <td>808528428123254785</td>\n",
       "      <td>2016-12-13 04:26:13</td>\n",
       "      <td>Even though I am not mandated by law to do so,...</td>\n",
       "      <td>140</td>\n",
       "      <td>even though mandated law leaving busineses jan...</td>\n",
       "      <td>trump</td>\n",
       "    </tr>\n",
       "    <tr>\n",
       "      <th>3237</th>\n",
       "      <td>808469755749339136</td>\n",
       "      <td>2016-12-13 00:33:05</td>\n",
       "      <td>I will be making my announcement on the next S...</td>\n",
       "      <td>81</td>\n",
       "      <td>making announcement next secretary state tomor...</td>\n",
       "      <td>trump</td>\n",
       "    </tr>\n",
       "    <tr>\n",
       "      <th>3238</th>\n",
       "      <td>808456602076545025</td>\n",
       "      <td>2016-12-12 23:40:48</td>\n",
       "      <td>The final Wisconsin vote is in and guess what ...</td>\n",
       "      <td>135</td>\n",
       "      <td>final wisconsin vote guess picked additional v...</td>\n",
       "      <td>trump</td>\n",
       "    </tr>\n",
       "    <tr>\n",
       "      <th>3239</th>\n",
       "      <td>808437742904418304</td>\n",
       "      <td>2016-12-12 22:25:52</td>\n",
       "      <td>#ThankYouTour2016 \\n\\nTue: West Allis, WI. \\n\\...</td>\n",
       "      <td>138</td>\n",
       "      <td>thankyoutour tue west allis wi thur hershey pa...</td>\n",
       "      <td>trump</td>\n",
       "    </tr>\n",
       "  </tbody>\n",
       "</table>\n",
       "<p>6426 rows × 6 columns</p>\n",
       "</div>"
      ],
      "text/plain": [
       "                      id           created_at  \\\n",
       "0     985908580430819329  2018-04-16 15:51:37   \n",
       "1     984611815798820864  2018-04-13 01:58:44   \n",
       "2     984597321353715712  2018-04-13 01:01:09   \n",
       "3     983464202919653376  2018-04-09 21:58:32   \n",
       "4     981716478218133504  2018-04-05 02:13:42   \n",
       "5     981709339294650369  2018-04-05 01:45:20   \n",
       "6     981664484120039424  2018-04-04 22:47:06   \n",
       "7     979823851222786048  2018-03-30 20:53:05   \n",
       "8     979823364113141763  2018-03-30 20:51:08   \n",
       "9     977616710588141568  2018-03-24 18:42:41   \n",
       "10    976823790649962496  2018-03-22 14:11:54   \n",
       "11    976549758352240640  2018-03-21 20:03:00   \n",
       "13    974824222253092864  2018-03-17 01:46:20   \n",
       "14    974103715576799233  2018-03-15 02:03:18   \n",
       "15    971908627874316288  2018-03-09 00:40:48   \n",
       "16    971793872069320705  2018-03-08 17:04:48   \n",
       "21    971785206373015552  2018-03-08 16:30:22   \n",
       "22    971782002419658752  2018-03-08 16:17:38   \n",
       "23    971780790357983233  2018-03-08 16:12:49   \n",
       "24    971779370615541761  2018-03-08 16:07:11   \n",
       "25    971778600457396227  2018-03-08 16:04:07   \n",
       "26    971777915322028033  2018-03-08 16:01:24   \n",
       "27    971777423124697088  2018-03-08 15:59:27   \n",
       "28    971776813235044358  2018-03-08 15:57:01   \n",
       "29    971776610612449280  2018-03-08 15:56:13   \n",
       "30    970071393990832129  2018-03-03 23:00:18   \n",
       "31    969602156977377282  2018-03-02 15:55:43   \n",
       "32    969257037027831808  2018-03-01 17:04:20   \n",
       "33    968874798771310592  2018-02-28 15:45:27   \n",
       "34    968543389116456960  2018-02-27 17:48:33   \n",
       "...                  ...                  ...   \n",
       "3210  810288321880555520  2016-12-18 00:59:25   \n",
       "3211  810276411177107456  2016-12-18 00:12:05   \n",
       "3212  810232514749075456  2016-12-17 21:17:39   \n",
       "3213  810121703288410112  2016-12-17 13:57:20   \n",
       "3214  810112407309844480  2016-12-17 13:20:23   \n",
       "3215  810109131537481728  2016-12-17 13:07:22   \n",
       "3216  810108542921408512  2016-12-17 13:05:02   \n",
       "3217  809969373754654721  2016-12-17 03:52:01   \n",
       "3218  809803893920165892  2016-12-16 16:54:28   \n",
       "3219  809790978332786689  2016-12-16 16:03:09   \n",
       "3220  809717035353722880  2016-12-16 11:09:19   \n",
       "3221  809571983428120577  2016-12-16 01:32:56   \n",
       "3222  809525257371578369  2016-12-15 22:27:16   \n",
       "3223  809403760099422208  2016-12-15 14:24:29   \n",
       "3224  809389774066814976  2016-12-15 13:28:54   \n",
       "3225  809384826193276928  2016-12-15 13:09:14   \n",
       "3226  809383989018497024  2016-12-15 13:05:55   \n",
       "3227  809097603010981888  2016-12-14 18:07:55   \n",
       "3228  808881429715316737  2016-12-14 03:48:55   \n",
       "3229  808837073423794176  2016-12-14 00:52:40   \n",
       "3230  808787048144453632  2016-12-13 21:33:53   \n",
       "3231  808653723639697408  2016-12-13 12:44:06   \n",
       "3232  808642018612310016  2016-12-13 11:57:35   \n",
       "3233  808638507161882624  2016-12-13 11:43:38   \n",
       "3234  808532286664822784  2016-12-13 04:41:33   \n",
       "3235  808529888630239232  2016-12-13 04:32:01   \n",
       "3236  808528428123254785  2016-12-13 04:26:13   \n",
       "3237  808469755749339136  2016-12-13 00:33:05   \n",
       "3238  808456602076545025  2016-12-12 23:40:48   \n",
       "3239  808437742904418304  2016-12-12 22:25:52   \n",
       "\n",
       "                                                   text  len  \\\n",
       "0     Thinking about Barbara Bush’s legacy of servic...  144   \n",
       "1     More terrific work from a group of progressive...  139   \n",
       "2     Storytelling is at the heart of every cultural...  145   \n",
       "3        Congratulations Tammy! https://t.co/H85PIeycUm   46   \n",
       "4     Rev. Dr. Martin Luther King, Jr was in Memphis...  142   \n",
       "5     Thanks for the warm welcome last night! Inspir...  104   \n",
       "6     Wishing @JuliaGillard, Former Aussie PM, the b...  146   \n",
       "7     A little over 15 years ago a bright young woma...  142   \n",
       "8     We are indeed on the brink. Thank you to Rutge...  142   \n",
       "9     Listening to the students from Parkland and ac...  142   \n",
       "10    My friend @jmpalmieri wrote a terrific book th...  144   \n",
       "11    Important analysis about which candidates get ...  124   \n",
       "13    Congresswoman Louise Slaughter was a tireless ...  142   \n",
       "14    To all the students across our country who too...  142   \n",
       "15    @timkaine I’m forever grateful to you for bein...  144   \n",
       "16    Who inspires you this #InternationalWomensDay?...   70   \n",
       "21    @Astrid_NV @iammarleydias @aijenpoo @domesticw...  137   \n",
       "22    @Astrid_NV @iammarleydias @aijenpoo @domesticw...  142   \n",
       "23    @Astrid_NV @iammarleydias @aijenpoo @domesticw...  144   \n",
       "24    @Astrid_NV @iammarleydias @aijenpoo @domesticw...  142   \n",
       "25    @Astrid_NV @iammarleydias @aijenpoo @domesticw...  142   \n",
       "26    @Astrid_NV @iammarleydias @AiJenPoo organizes ...  144   \n",
       "27    @Astrid_NV @IAmMarleyDias is the brains behind...  142   \n",
       "28    The courageous @Astrid_NV fights tirelessly to...  125   \n",
       "29    In honor of #InternationalWomensDay, I want to...  142   \n",
       "30    Saw Black Panther with Bill this afternoon &am...  126   \n",
       "31    RT @kylegriffin1: Outdoor retailer REI says it...  146   \n",
       "32    College students--you have the power to take b...  139   \n",
       "33    I say this as a former Secretary of State and ...  142   \n",
       "34            I’m so excited! 🤗 https://t.co/i5BrQ05ki7   46   \n",
       "...                                                 ...  ...   \n",
       "3210  We should tell China that we don't want the dr...   85   \n",
       "3211  Thank you Alabama! From now on, it’s going to ...  141   \n",
       "3212  RT @DanScavino: Join President-elect Trump LIV...  142   \n",
       "3213  China steals United States Navy research drone...  137   \n",
       "3214  Mobile, Alabama today at 3:00 P.M. Last rally ...  140   \n",
       "3215  \"@EazyMF_E: @realDonaldTrump Many people are n...  138   \n",
       "3216  Last night in Orlando, Florida, was incredible...  139   \n",
       "3217  Thank you Florida. My Administration will foll...  140   \n",
       "3218  #ThankYouTour2016 \\n\\nTonight- Orlando, Florid...  142   \n",
       "3219  Well, we all did it, together! I hope the \"MOV...  137   \n",
       "3220  Are we talking about the same cyberattack wher...  136   \n",
       "3221  Thank you Pennsylvania! Together, we are going...  138   \n",
       "3222  Join me in Mobile, Alabama on Sat. at 3pm! #Th...  118   \n",
       "3223  If Russia, or some other entity, was hacking, ...  137   \n",
       "3224  The media tries so hard to make my move to the...  127   \n",
       "3225  Thank you to Time Magazine and Financial Times...   98   \n",
       "3226  Has anyone looked at the really poor numbers o...  138   \n",
       "3227  .@BillGates and @JimBrownNFL32 in my Trump Tow...  106   \n",
       "3228  Thank you Wisconsin! My Administration will be...  137   \n",
       "3229  RT @DanScavino: Join #PEOTUS Trump &amp; #VPEO...  146   \n",
       "3230  Join me this Saturday at Ladd–Peebles Stadium ...  124   \n",
       "3231  The thing I like best about Rex Tillerson is t...  135   \n",
       "3232  Wisconsin and Pennsylvania have just certified...  110   \n",
       "3233  I have chosen one of the truly great business ...  140   \n",
       "3234  I will hold a press conference in the near fut...  134   \n",
       "3235  Presidency. Two of my children, Don and Eric, ...  135   \n",
       "3236  Even though I am not mandated by law to do so,...  140   \n",
       "3237  I will be making my announcement on the next S...   81   \n",
       "3238  The final Wisconsin vote is in and guess what ...  135   \n",
       "3239  #ThankYouTour2016 \\n\\nTue: West Allis, WI. \\n\\...  138   \n",
       "\n",
       "                                                  token     user  \n",
       "0     thinking barbara bush legacy service country e...  hillary  \n",
       "1     terrific work group progressive working turn a...  hillary  \n",
       "2     storytelling heart every cultural political re...  hillary  \n",
       "3                                  congratulation tammy  hillary  \n",
       "4     rev dr martin luther king jr memphis protest s...  hillary  \n",
       "5     thanks warm welcome last night inspired passio...  hillary  \n",
       "6     wishing former aussie pm best today launch new...  hillary  \n",
       "7     little year ago bright young woman walked offi...  hillary  \n",
       "8     indeed brink thank rutgers yesterday student c...  hillary  \n",
       "9     listening student parkland across country toda...  hillary  \n",
       "10    friend wrote terrific book everyone read smart...  hillary  \n",
       "11    important analysis candidate get critical earl...  hillary  \n",
       "13    congresswoman louise slaughter tireless advoca...  hillary  \n",
       "14    student across country took part nationalwalko...  hillary  \n",
       "15    im forever grateful outspoken champion advocat...  hillary  \n",
       "16                      inspires internationalwomensday  hillary  \n",
       "21                                               friend  hillary  \n",
       "22                                 advocate health care  hillary  \n",
       "23                     u woman hockey soccer team stood  hillary  \n",
       "24                  rachael denhollander many woman u g  hillary  \n",
       "25                 tackle gender gap technology inspiri  hillary  \n",
       "26          organizes fastest growing part american wor  hillary  \n",
       "27    brain behind blackgirlbooks effort ensure blac...  hillary  \n",
       "28    courageous fight tirelessly protect dreamer ke...  hillary  \n",
       "29    honor internationalwomensday want celebrate wo...  hillary  \n",
       "30    saw black panther bill afternoon loved beautif...  hillary  \n",
       "31    outdoor retailer rei say halting future order ...  hillary  \n",
       "32    college studentsyou power take back democratic...  hillary  \n",
       "33    say former secretary state american russian st...  hillary  \n",
       "34                                           im excited  hillary  \n",
       "...                                                 ...      ...  \n",
       "3210     tell china dont want drone stole back let keep    trump  \n",
       "3211  thank alabama going americafirst goal bring ba...    trump  \n",
       "3212  join presidentelect trump live mobile alabama ...    trump  \n",
       "3213  china steal united state navy research drone i...    trump  \n",
       "3214  mobile alabama today pm last rally year thank ...    trump  \n",
       "3215  many people saying extremely successful presid...    trump  \n",
       "3216  last night orlando florida incredible massive ...    trump  \n",
       "3217  thank florida administration follow two simple...    trump  \n",
       "3218  thankyoutour tonight orlando florida ticket to...    trump  \n",
       "3219  well together hope movement fan go dc jan th s...    trump  \n",
       "3220  talking cyberattack revealed head dnc illegall...    trump  \n",
       "3221  thank pennsylvania together going make america...    trump  \n",
       "3222     join mobile alabama sat pm thankyoutour ticket    trump  \n",
       "3223  russia entity hacking white house wait long ac...    trump  \n",
       "3224  medium try hard make move white house pertains...    trump  \n",
       "3225  thank time magazine financial time naming pers...    trump  \n",
       "3226  anyone looked really poor number magazine way ...    trump  \n",
       "3227         trump tower office yesterday two great guy    trump  \n",
       "3228  thank wisconsin administration focused three i...    trump  \n",
       "3229  join peotus trump vpeotus penny live west alli...    trump  \n",
       "3230  join saturday laddpeebles stadium mobile alaba...    trump  \n",
       "3231  thing like best rex tillerson vast experience ...    trump  \n",
       "3232  wisconsin pennsylvania certified win state act...    trump  \n",
       "3233  chosen one truly great business leader world r...    trump  \n",
       "3234  hold press conference near future discus busin...    trump  \n",
       "3235  presidency two child eric plus executive manag...    trump  \n",
       "3236  even though mandated law leaving busineses jan...    trump  \n",
       "3237  making announcement next secretary state tomor...    trump  \n",
       "3238  final wisconsin vote guess picked additional v...    trump  \n",
       "3239  thankyoutour tue west allis wi thur hershey pa...    trump  \n",
       "\n",
       "[6426 rows x 6 columns]"
      ]
     },
     "execution_count": 26,
     "metadata": {},
     "output_type": "execute_result"
    }
   ],
   "source": [
    "df_train"
   ]
  },
  {
   "cell_type": "code",
   "execution_count": 27,
   "metadata": {},
   "outputs": [
    {
     "data": {
      "image/png": "[encoded data removed]",
      "text/plain": [
       "<matplotlib.figure.Figure at 0x7fed7e4b4510>"
      ]
     },
     "metadata": {},
     "output_type": "display_data"
    }
   ],
   "source": [
    "length_hillary = df_train[df_train['user'] == 'hillary'].len.values\n",
    "length_trump = df_train[df_train['user'] == 'trump'].len.values\n",
    "fig, axes = plt.subplots(nrows = 2, sharex= True)\n",
    "sns.distplot(length_hillary, ax= axes[0]).\\\n",
    "set_title('Length of hillary messages')\n",
    "sns.distplot(length_trump, ax = axes[1]).\\\n",
    "set_title('Length of trump messages')\n",
    "plt.tight_layout()\n",
    "plt.show()"
   ]
  },
  {
   "cell_type": "code",
   "execution_count": 28,
   "metadata": {},
   "outputs": [],
   "source": [
    "hillary_words =  ''\n",
    "trump_words = ''\n",
    "array_label = df_train['user'].values\n",
    "df_messages = df_train['token'].values\n",
    "\n",
    "for idx in range(len(df_messages)):\n",
    "    if array_label[idx] == 'hillary':\n",
    "        hillary_words += '' + str(df_messages[idx])\n",
    "    else:\n",
    "        trump_words += '' + str(df_messages[idx])"
   ]
  },
  {
   "cell_type": "code",
   "execution_count": 29,
   "metadata": {},
   "outputs": [],
   "source": [
    "from wordcloud import WordCloud\n",
    "hillary_wordcloud = WordCloud(width=600, height=400).generate(hillary_words)\n",
    "trump_wordcloud = WordCloud(width=600, height=400).generate(trump_words)"
   ]
  },
  {
   "cell_type": "code",
   "execution_count": 30,
   "metadata": {},
   "outputs": [
    {
     "data": {
      "image/png": "[encoded data removed]",
      "text/plain": [
       "<matplotlib.figure.Figure at 0x7fed81f23e50>"
      ]
     },
     "metadata": {},
     "output_type": "display_data"
    }
   ],
   "source": [
    "plt.figure( figsize=(6,5), facecolor='k')\n",
    "plt.imshow(hillary_wordcloud)\n",
    "plt.axis(\"off\")\n",
    "plt.tight_layout(pad=0)\n",
    "plt.show()"
   ]
  },
  {
   "cell_type": "code",
   "execution_count": 31,
   "metadata": {},
   "outputs": [
    {
     "data": {
      "image/png": "[encoded data removed]",
      "text/plain": [
       "<matplotlib.figure.Figure at 0x7fed7aa82250>"
      ]
     },
     "metadata": {},
     "output_type": "display_data"
    }
   ],
   "source": [
    "plt.figure( figsize=(6,5), facecolor='k')\n",
    "plt.imshow(trump_wordcloud)\n",
    "plt.axis(\"off\")\n",
    "plt.tight_layout(pad=0)\n",
    "plt.show()"
   ]
  },
  {
   "cell_type": "code",
   "execution_count": 32,
   "metadata": {},
   "outputs": [],
   "source": [
    "Y_train = np.where(df_train.user == 'hillary', 1, 0)\n",
    "message = df_train.token.values"
   ]
  },
  {
   "cell_type": "code",
   "execution_count": 33,
   "metadata": {},
   "outputs": [],
   "source": [
    "kfold = KFold(n_splits = 5, shuffle = True, random_state=1234)"
   ]
  },
  {
   "cell_type": "code",
   "execution_count": 34,
   "metadata": {},
   "outputs": [],
   "source": [
    "from sklearn.linear_model import LogisticRegressionCV\n",
    "from sklearn.naive_bayes import MultinomialNB\n",
    "from sklearn.ensemble import RandomForestClassifier\n",
    "from sklearn.neighbors import KNeighborsClassifier\n",
    "from sklearn.ensemble import GradientBoostingClassifier\n",
    "from sklearn.ensemble import RandomForestClassifier, AdaBoostClassifier\n",
    "from sklearn.svm import LinearSVC, SVC\n",
    "from sklearn.metrics import accuracy_score"
   ]
  },
  {
   "cell_type": "markdown",
   "metadata": {},
   "source": [
    "# Count"
   ]
  },
  {
   "cell_type": "code",
   "execution_count": 209,
   "metadata": {},
   "outputs": [],
   "source": [
    "count_vectorizer = CountVectorizer()\n",
    "X_train = count_vectorizer.fit_transform(message)"
   ]
  },
  {
   "cell_type": "code",
   "execution_count": 210,
   "metadata": {},
   "outputs": [
    {
     "name": "stdout",
     "output_type": "stream",
     "text": [
      "(6426,)\n",
      "(6426, 8533)\n"
     ]
    }
   ],
   "source": [
    "print Y_train.shape\n",
    "print X_train.shape"
   ]
  },
  {
   "cell_type": "code",
   "execution_count": 211,
   "metadata": {},
   "outputs": [
    {
     "name": "stdout",
     "output_type": "stream",
     "text": [
      "0.8865540299302272\n"
     ]
    }
   ],
   "source": [
    "log_count_model = LogisticRegressionCV()\n",
    "log_count_score = cross_val_score(log_count_model,\n",
    "                                  X_train, Y_train,\n",
    "                                  scoring = 'accuracy',\n",
    "                                  cv = kfold.split(X_train),\n",
    "                                  n_jobs=-1).mean()\n",
    "print log_count_score"
   ]
  },
  {
   "cell_type": "code",
   "execution_count": 212,
   "metadata": {},
   "outputs": [
    {
     "name": "stdout",
     "output_type": "stream",
     "text": [
      "0.8706802379410714\n"
     ]
    }
   ],
   "source": [
    "svc_count_model = LinearSVC()\n",
    "svc_count_score = cross_val_score(svc_count_model,\n",
    "                                  X_train, Y_train,\n",
    "                                  scoring = 'accuracy',\n",
    "                                  cv = kfold.split(X_train),\n",
    "                                  n_jobs=-1).mean()\n",
    "print svc_count_score"
   ]
  },
  {
   "cell_type": "code",
   "execution_count": 213,
   "metadata": {},
   "outputs": [
    {
     "name": "stdout",
     "output_type": "stream",
     "text": [
      "0.9067848303489843\n"
     ]
    }
   ],
   "source": [
    "nb_count_model = MultinomialNB()\n",
    "nb_count_score = cross_val_score(nb_count_model, \n",
    "                                 X_train, Y_train,\n",
    "                                 scoring = 'accuracy', \n",
    "                                 cv = kfold.split(X_train,),\n",
    "                                 n_jobs=-1).mean()\n",
    "print nb_count_score"
   ]
  },
  {
   "cell_type": "code",
   "execution_count": 214,
   "metadata": {},
   "outputs": [
    {
     "name": "stdout",
     "output_type": "stream",
     "text": [
      "0.7765355731584075\n"
     ]
    }
   ],
   "source": [
    "gb_count_model = GradientBoostingClassifier()\n",
    "gb_count_score = cross_val_score(gb_count_model, \n",
    "                                 X_train, Y_train,\n",
    "                                 scoring = 'accuracy', \n",
    "                                 cv = kfold.split(X_train),\n",
    "                                 n_jobs=-1).mean()\n",
    "print gb_count_score"
   ]
  },
  {
   "cell_type": "code",
   "execution_count": 215,
   "metadata": {},
   "outputs": [
    {
     "name": "stdout",
     "output_type": "stream",
     "text": [
      "0.8454716764195073\n"
     ]
    }
   ],
   "source": [
    "rf_count_model = RandomForestClassifier()\n",
    "rf_count_score = cross_val_score(rf_count_model, \n",
    "                                 X_train, Y_train,\n",
    "                                 scoring = 'accuracy', \n",
    "                                 cv = kfold.split(X_train),\n",
    "                                 n_jobs=-1).mean()\n",
    "print rf_count_score"
   ]
  },
  {
   "cell_type": "markdown",
   "metadata": {},
   "source": [
    "# TF-IDF"
   ]
  },
  {
   "cell_type": "code",
   "execution_count": 192,
   "metadata": {},
   "outputs": [],
   "source": [
    "tfidf_vectorizer = TfidfVectorizer(\"english\")\n",
    "X_train = tfidf_vectorizer.fit_transform(message)"
   ]
  },
  {
   "cell_type": "code",
   "execution_count": 193,
   "metadata": {},
   "outputs": [
    {
     "name": "stdout",
     "output_type": "stream",
     "text": [
      "0.8944904418127576\n"
     ]
    }
   ],
   "source": [
    "log_tfidf_model = LogisticRegressionCV()\n",
    "log_tfidf_score = cross_val_score(log_tfidf_model,\n",
    "                                  X_train, Y_train,\n",
    "                                  scoring = 'accuracy',\n",
    "                                  cv = kfold.split(X_train),\n",
    "                                  n_jobs=-1).mean()\n",
    "print log_tfidf_score"
   ]
  },
  {
   "cell_type": "code",
   "execution_count": 194,
   "metadata": {},
   "outputs": [
    {
     "name": "stdout",
     "output_type": "stream",
     "text": [
      "0.8916900956726435\n"
     ]
    }
   ],
   "source": [
    "svc_tfidf_model = LinearSVC()\n",
    "svc_tfidf_score = cross_val_score(svc_tfidf_model,\n",
    "                                  X_train, Y_train,\n",
    "                                  scoring = 'accuracy',\n",
    "                                  cv = kfold.split(X_train),\n",
    "                                  n_jobs=-1).mean()\n",
    "print svc_count_score"
   ]
  },
  {
   "cell_type": "code",
   "execution_count": 195,
   "metadata": {},
   "outputs": [
    {
     "name": "stdout",
     "output_type": "stream",
     "text": [
      "0.9018048907419622\n"
     ]
    }
   ],
   "source": [
    "nb_tfidf_model = MultinomialNB()\n",
    "nb_tfidf_score = cross_val_score(nb_tfidf_model, \n",
    "                                 X_train, Y_train,\n",
    "                                 scoring = 'accuracy', \n",
    "                                 cv = kfold.split(X_train,),\n",
    "                                 n_jobs=-1).mean()\n",
    "print nb_tfidf_score"
   ]
  },
  {
   "cell_type": "code",
   "execution_count": 196,
   "metadata": {},
   "outputs": [
    {
     "name": "stdout",
     "output_type": "stream",
     "text": [
      "0.7942750119515161\n"
     ]
    }
   ],
   "source": [
    "gb_tfidf_model = GradientBoostingClassifier()\n",
    "gb_tfidf_score = cross_val_score(gb_tfidf_model, \n",
    "                                 X_train, Y_train,\n",
    "                                 scoring = 'accuracy', \n",
    "                                 cv = kfold.split(X_train),\n",
    "                                 n_jobs=-1).mean()\n",
    "print gb_tfidf_score"
   ]
  },
  {
   "cell_type": "code",
   "execution_count": 197,
   "metadata": {},
   "outputs": [
    {
     "name": "stdout",
     "output_type": "stream",
     "text": [
      "0.8423590780086052\n"
     ]
    }
   ],
   "source": [
    "rf_tfidf_model = RandomForestClassifier()\n",
    "rf_tfidf_score = cross_val_score(rf_tfidf_model, \n",
    "                                 X_train, Y_train,\n",
    "                                 scoring = 'accuracy', \n",
    "                                 cv = kfold.split(X_train),\n",
    "                                 n_jobs=-1).mean()\n",
    "print rf_tfidf_score"
   ]
  },
  {
   "cell_type": "markdown",
   "metadata": {},
   "source": [
    "# Word2Vec - Glove"
   ]
  },
  {
   "cell_type": "code",
   "execution_count": 56,
   "metadata": {},
   "outputs": [],
   "source": [
    "def w2v_to_features(w2v, list_tokens):\n",
    "    w2v_keys = w2v.keys()\n",
    "    n_dims = len(w2v[w2v.keys()[0]])\n",
    "    result = np.zeros((len(list_tokens), n_dims))\n",
    "    for idx in tqdm(range(len(list_tokens))):\n",
    "        array_features = np.array([w2v[x] \n",
    "                                   for x in \n",
    "                                   list_tokens[idx] \n",
    "                                   if x in w2v_keys])\n",
    "        if len(array_features) == 0:\n",
    "            continue\n",
    "        else:\n",
    "            result[idx] = array_features.mean(axis = 0)\n",
    "    return result.astype('float64')"
   ]
  },
  {
   "cell_type": "code",
   "execution_count": 57,
   "metadata": {},
   "outputs": [],
   "source": [
    "with open('glove.twitter.27B.200d.txt', \"rb\") as lines:\n",
    "    w2v = {line.split()[0]: \n",
    "                      np.array(map(float, line.split()[1:]))\n",
    "               for line in lines}"
   ]
  },
  {
   "cell_type": "code",
   "execution_count": 58,
   "metadata": {},
   "outputs": [],
   "source": [
    "list_tokens = []\n",
    "for idx in range(len(message)):\n",
    "    list_tokens.append([str(x) for x in message[idx].split(' ')])"
   ]
  },
  {
   "cell_type": "code",
   "execution_count": 59,
   "metadata": {},
   "outputs": [
    {
     "name": "stderr",
     "output_type": "stream",
     "text": [
      "100%|██████████| 6426/6426 [1:49:43<00:00,  1.02s/it]  \n"
     ]
    }
   ],
   "source": [
    "scaler = MinMaxScaler()\n",
    "X_train = w2v_to_features(w2v, list_tokens)\n",
    "X_train = scaler.fit_transform(X_train)"
   ]
  },
  {
   "cell_type": "code",
   "execution_count": 62,
   "metadata": {},
   "outputs": [
    {
     "data": {
      "text/plain": [
       "['X_train_glove.pkl']"
      ]
     },
     "execution_count": 62,
     "metadata": {},
     "output_type": "execute_result"
    }
   ],
   "source": [
    "joblib.dump(X_train, 'X_train_glove.pkl')"
   ]
  },
  {
   "cell_type": "code",
   "execution_count": 63,
   "metadata": {},
   "outputs": [
    {
     "name": "stdout",
     "output_type": "stream",
     "text": [
      "0.8015846197602434\n"
     ]
    }
   ],
   "source": [
    "log_glove_model = LogisticRegressionCV()\n",
    "log_glove_score = cross_val_score(log_glove_model,\n",
    "                                  X_train, Y_train,\n",
    "                                  scoring = 'accuracy',\n",
    "                                  cv = kfold.split(X_train),\n",
    "                                  n_jobs=-1).mean()\n",
    "print log_glove_score"
   ]
  },
  {
   "cell_type": "code",
   "execution_count": 64,
   "metadata": {},
   "outputs": [
    {
     "name": "stdout",
     "output_type": "stream",
     "text": [
      "0.8015844987322316\n"
     ]
    }
   ],
   "source": [
    "svc_glove_model = LinearSVC()\n",
    "svc_glove_score = cross_val_score(svc_glove_model,\n",
    "                                  X_train, Y_train,\n",
    "                                  scoring = 'accuracy',\n",
    "                                  cv = kfold.split(X_train),\n",
    "                                  n_jobs=-1).mean()\n",
    "print svc_glove_score"
   ]
  },
  {
   "cell_type": "code",
   "execution_count": 65,
   "metadata": {},
   "outputs": [
    {
     "name": "stdout",
     "output_type": "stream",
     "text": [
      "0.7124165058002674\n"
     ]
    }
   ],
   "source": [
    "nb_glove_model = MultinomialNB()\n",
    "nb_glove_score = cross_val_score(nb_glove_model, \n",
    "                                 X_train, Y_train,\n",
    "                                 scoring = 'accuracy', \n",
    "                                 cv = kfold.split(X_train,),\n",
    "                                 n_jobs=-1).mean()\n",
    "print nb_glove_score"
   ]
  },
  {
   "cell_type": "code",
   "execution_count": 66,
   "metadata": {},
   "outputs": [
    {
     "name": "stdout",
     "output_type": "stream",
     "text": [
      "0.8028303610870736\n"
     ]
    }
   ],
   "source": [
    "gb_glove_model = GradientBoostingClassifier()\n",
    "gb_glove_score = cross_val_score(gb_glove_model, \n",
    "                                 X_train, Y_train,\n",
    "                                 scoring = 'accuracy', \n",
    "                                 cv = kfold.split(X_train),\n",
    "                                 n_jobs=-1).mean()\n",
    "print gb_glove_score"
   ]
  },
  {
   "cell_type": "code",
   "execution_count": 67,
   "metadata": {},
   "outputs": [
    {
     "name": "stdout",
     "output_type": "stream",
     "text": [
      "0.7262708243823033\n"
     ]
    }
   ],
   "source": [
    "rf_glove_model = RandomForestClassifier()\n",
    "rf_glove_score = cross_val_score(rf_glove_model, \n",
    "                                 X_train, Y_train,\n",
    "                                 scoring = 'accuracy', \n",
    "                                 cv = kfold.split(X_train),\n",
    "                                 n_jobs=-1).mean()\n",
    "print rf_glove_score"
   ]
  },
  {
   "cell_type": "markdown",
   "metadata": {},
   "source": [
    "# Embedding - Dense"
   ]
  },
  {
   "cell_type": "code",
   "execution_count": 68,
   "metadata": {},
   "outputs": [],
   "source": [
    "tokenizer = Tokenizer()\n",
    "tokenizer.fit_on_texts(message)\n",
    "sequences = tokenizer.texts_to_sequences(message)"
   ]
  },
  {
   "cell_type": "code",
   "execution_count": 69,
   "metadata": {},
   "outputs": [
    {
     "data": {
      "text/plain": [
       "8554"
      ]
     },
     "execution_count": 69,
     "metadata": {},
     "output_type": "execute_result"
    }
   ],
   "source": [
    "length = []\n",
    "for x in sequences:\n",
    "    length.extend(x)\n",
    "max(length)"
   ]
  },
  {
   "cell_type": "code",
   "execution_count": 70,
   "metadata": {},
   "outputs": [
    {
     "data": {
      "text/plain": [
       "(6426, 21)"
      ]
     },
     "execution_count": 70,
     "metadata": {},
     "output_type": "execute_result"
    }
   ],
   "source": [
    "X_train = pad_sequences(sequences, maxlen=21)\n",
    "X_train.shape"
   ]
  },
  {
   "cell_type": "code",
   "execution_count": 105,
   "metadata": {},
   "outputs": [
    {
     "name": "stdout",
     "output_type": "stream",
     "text": [
      "_________________________________________________________________\n",
      "Layer (type)                 Output Shape              Param #   \n",
      "=================================================================\n",
      "input_13 (InputLayer)        (None, 21)                0         \n",
      "_________________________________________________________________\n",
      "embedding_13 (Embedding)     (None, 21, 100)           855500    \n",
      "_________________________________________________________________\n",
      "flatten_13 (Flatten)         (None, 2100)              0         \n",
      "_________________________________________________________________\n",
      "dense_32 (Dense)             (None, 100)               210100    \n",
      "_________________________________________________________________\n",
      "batch_normalization_20 (Batc (None, 100)               400       \n",
      "_________________________________________________________________\n",
      "dropout_15 (Dropout)         (None, 100)               0         \n",
      "_________________________________________________________________\n",
      "dense_33 (Dense)             (None, 1)                 101       \n",
      "=================================================================\n",
      "Total params: 1,066,101\n",
      "Trainable params: 1,065,901\n",
      "Non-trainable params: 200\n",
      "_________________________________________________________________\n"
     ]
    }
   ],
   "source": [
    "inputs = Input(shape=(21,))\n",
    "X = Embedding(input_dim = 8555, output_dim = 100, input_length=21)(inputs)\n",
    "X = Flatten()(X)\n",
    "X = Dense(100, activation='tanh')(X)\n",
    "X = BatchNormalization()(X)\n",
    "X = Dropout(0.05)(X)\n",
    "X = Dense(1, activation='sigmoid')(X)\n",
    "\n",
    "FCN_model = Model(inputs, X, name='FCN_model')\n",
    "FCN_model.compile(loss='binary_crossentropy', optimizer='adam', metrics=['accuracy'])\n",
    "FCN_model.summary()\n",
    "FCN_model.save_weights('FCN_model.h5')"
   ]
  },
  {
   "cell_type": "code",
   "execution_count": 106,
   "metadata": {},
   "outputs": [
    {
     "name": "stdout",
     "output_type": "stream",
     "text": [
      "Epoch 1/3\n",
      "5140/5140 [==============================] - 4s 806us/step - loss: 0.4739 - acc: 0.7819\n",
      "Epoch 2/3\n",
      "5140/5140 [==============================] - 2s 458us/step - loss: 0.0930 - acc: 0.9652\n",
      "Epoch 3/3\n",
      "5140/5140 [==============================] - 2s 459us/step - loss: 0.0354 - acc: 0.9889\n",
      "Epoch 1/3\n",
      "5141/5141 [==============================] - 2s 456us/step - loss: 0.4691 - acc: 0.7919\n",
      "Epoch 2/3\n",
      "5141/5141 [==============================] - 2s 464us/step - loss: 0.0958 - acc: 0.9642\n",
      "Epoch 3/3\n",
      "5141/5141 [==============================] - 2s 461us/step - loss: 0.0318 - acc: 0.9907\n",
      "Epoch 1/3\n",
      "5141/5141 [==============================] - 2s 473us/step - loss: 0.4581 - acc: 0.7977\n",
      "Epoch 2/3\n",
      "5141/5141 [==============================] - 2s 461us/step - loss: 0.0879 - acc: 0.9708\n",
      "Epoch 3/3\n",
      "5141/5141 [==============================] - 2s 463us/step - loss: 0.0290 - acc: 0.9926\n",
      "Epoch 1/3\n",
      "5141/5141 [==============================] - 2s 472us/step - loss: 0.4833 - acc: 0.7919\n",
      "Epoch 2/3\n",
      "5141/5141 [==============================] - 2s 460us/step - loss: 0.0725 - acc: 0.9790\n",
      "Epoch 3/3\n",
      "5141/5141 [==============================] - 2s 453us/step - loss: 0.0286 - acc: 0.9916\n",
      "Epoch 1/3\n",
      "5141/5141 [==============================] - 2s 451us/step - loss: 0.4769 - acc: 0.7942\n",
      "Epoch 2/3\n",
      "5141/5141 [==============================] - 2s 466us/step - loss: 0.0761 - acc: 0.9767\n",
      "Epoch 3/3\n",
      "5141/5141 [==============================] - 2s 466us/step - loss: 0.0260 - acc: 0.9936\n"
     ]
    }
   ],
   "source": [
    "kfold_score = []\n",
    "for fit_index, val_index in kfold.split(X_train):\n",
    "    FCN_model.load_weights('FCN_model.h5')\n",
    "    X_fit, X_val = X_train[fit_index], X_train[val_index]\n",
    "    Y_fit, Y_val = Y_train[fit_index], Y_train[val_index]\n",
    "    FCN_model.fit(X_fit, Y_fit, batch_size=32, epochs = 3)\n",
    "    Y_val_pred = FCN_model.predict(X_val, batch_size=32).reshape(-1)\n",
    "    Y_val_pred = np.where(Y_val_pred >= 0.50, 1, 0)\n",
    "    kfold_score.append(accuracy_score(Y_val, Y_val_pred))"
   ]
  },
  {
   "cell_type": "code",
   "execution_count": 107,
   "metadata": {},
   "outputs": [
    {
     "data": {
      "text/plain": [
       "0.8747299562483736"
      ]
     },
     "execution_count": 107,
     "metadata": {},
     "output_type": "execute_result"
    }
   ],
   "source": [
    "FCN_score = np.mean(kfold_score)\n",
    "FCN_score"
   ]
  },
  {
   "cell_type": "markdown",
   "metadata": {},
   "source": [
    "# Embedding - Conv"
   ]
  },
  {
   "cell_type": "code",
   "execution_count": 165,
   "metadata": {},
   "outputs": [
    {
     "name": "stdout",
     "output_type": "stream",
     "text": [
      "_________________________________________________________________\n",
      "Layer (type)                 Output Shape              Param #   \n",
      "=================================================================\n",
      "input_33 (InputLayer)        (None, 21)                0         \n",
      "_________________________________________________________________\n",
      "embedding_33 (Embedding)     (None, 21, 100)           855500    \n",
      "_________________________________________________________________\n",
      "conv1d_37 (Conv1D)           (None, 20, 100)           20100     \n",
      "_________________________________________________________________\n",
      "batch_normalization_76 (Batc (None, 20, 100)           400       \n",
      "_________________________________________________________________\n",
      "dropout_49 (Dropout)         (None, 20, 100)           0         \n",
      "_________________________________________________________________\n",
      "max_pooling1d_31 (MaxPooling (None, 10, 100)           0         \n",
      "_________________________________________________________________\n",
      "conv1d_38 (Conv1D)           (None, 10, 100)           20100     \n",
      "_________________________________________________________________\n",
      "batch_normalization_77 (Batc (None, 10, 100)           400       \n",
      "_________________________________________________________________\n",
      "dropout_50 (Dropout)         (None, 10, 100)           0         \n",
      "_________________________________________________________________\n",
      "max_pooling1d_32 (MaxPooling (None, 5, 100)            0         \n",
      "_________________________________________________________________\n",
      "flatten_33 (Flatten)         (None, 500)               0         \n",
      "_________________________________________________________________\n",
      "dense_72 (Dense)             (None, 100)               50100     \n",
      "_________________________________________________________________\n",
      "batch_normalization_78 (Batc (None, 100)               400       \n",
      "_________________________________________________________________\n",
      "dense_73 (Dense)             (None, 1)                 101       \n",
      "=================================================================\n",
      "Total params: 947,101\n",
      "Trainable params: 946,501\n",
      "Non-trainable params: 600\n",
      "_________________________________________________________________\n"
     ]
    }
   ],
   "source": [
    "inputs = Input(shape=(21,), name = 'Input')\n",
    "X = Embedding(input_dim = 8555, output_dim = 100, input_length=21, name = 'Embedding')(inputs)\n",
    "X = Conv1D(100, kernel_size=2, padding='valid', activation='tanh', strides=1, name = 'Conv1')(X)\n",
    "X = BatchNormalization(name = 'BN1')(X)\n",
    "X = Dropout(0.10, name = 'Drop1')(X)\n",
    "X = MaxPool1D(2, 2, name = 'MaxPool1')(X)\n",
    "\n",
    "X = Conv1D(100, kernel_size=2, padding='same', activation='tanh', strides=1, name = 'Conv2')(X)\n",
    "X = BatchNormalization(name = 'BN2')(X)\n",
    "X = Dropout(0.10, name = 'Drop2')(X)\n",
    "X = MaxPool1D(2, 2, name = 'MaxPool1')(X)\n",
    "\n",
    "X = Flatten()(X)\n",
    "X = Dense(100, activation='tanh', name = '')(X)\n",
    "X = BatchNormalization()(X)\n",
    "X = Dense(1, activation='sigmoid')(X)\n",
    "\n",
    "CCN_model = Model(inputs, X, name='CCN_model')\n",
    "CCN_model.compile(loss='binary_crossentropy', optimizer='adam', metrics=['accuracy'])\n",
    "CCN_model.summary()\n",
    "CCN_model.save_weights('CCN_model.h5')"
   ]
  },
  {
   "cell_type": "code",
   "execution_count": 166,
   "metadata": {},
   "outputs": [
    {
     "name": "stdout",
     "output_type": "stream",
     "text": [
      "Epoch 1/3\n",
      "5140/5140 [==============================] - 7s 1ms/step - loss: 0.5078 - acc: 0.7607\n",
      "Epoch 2/3\n",
      "5140/5140 [==============================] - 3s 568us/step - loss: 0.1330 - acc: 0.9496\n",
      "Epoch 3/3\n",
      "5140/5140 [==============================] - 3s 582us/step - loss: 0.0552 - acc: 0.9794\n",
      "Epoch 1/3\n",
      "5141/5141 [==============================] - 3s 571us/step - loss: 0.4747 - acc: 0.7722\n",
      "Epoch 2/3\n",
      "5141/5141 [==============================] - 3s 579us/step - loss: 0.1072 - acc: 0.9590\n",
      "Epoch 3/3\n",
      "5141/5141 [==============================] - 3s 596us/step - loss: 0.0416 - acc: 0.9862\n",
      "Epoch 1/3\n",
      "5141/5141 [==============================] - 3s 587us/step - loss: 0.4601 - acc: 0.7893\n",
      "Epoch 2/3\n",
      "5141/5141 [==============================] - 3s 570us/step - loss: 0.1140 - acc: 0.9593\n",
      "Epoch 3/3\n",
      "5141/5141 [==============================] - 3s 580us/step - loss: 0.0387 - acc: 0.9887\n",
      "Epoch 1/3\n",
      "5141/5141 [==============================] - 3s 587us/step - loss: 0.4645 - acc: 0.7874\n",
      "Epoch 2/3\n",
      "5141/5141 [==============================] - 3s 591us/step - loss: 0.1104 - acc: 0.9617\n",
      "Epoch 3/3\n",
      "5141/5141 [==============================] - 3s 581us/step - loss: 0.0433 - acc: 0.9842\n",
      "Epoch 1/3\n",
      "5141/5141 [==============================] - 3s 574us/step - loss: 0.4550 - acc: 0.7899\n",
      "Epoch 2/3\n",
      "5141/5141 [==============================] - 3s 569us/step - loss: 0.1115 - acc: 0.9558\n",
      "Epoch 3/3\n",
      "5141/5141 [==============================] - 3s 582us/step - loss: 0.0437 - acc: 0.9844\n"
     ]
    }
   ],
   "source": [
    "kfold_score = []\n",
    "for fit_index, val_index in kfold.split(X_train):\n",
    "    CCN_model.load_weights('CCN_model.h5')\n",
    "    X_fit, X_val = X_train[fit_index], X_train[val_index]\n",
    "    Y_fit, Y_val = Y_train[fit_index], Y_train[val_index]\n",
    "    CCN_model.fit(X_fit, Y_fit, batch_size=32, epochs = 3)\n",
    "    Y_val_pred = CCN_model.predict(X_val, batch_size=32).reshape(-1)\n",
    "    Y_val_pred = np.where(Y_val_pred >= 0.50, 1, 0)\n",
    "    kfold_score.append(accuracy_score(Y_val, Y_val_pred))"
   ]
  },
  {
   "cell_type": "code",
   "execution_count": 167,
   "metadata": {},
   "outputs": [
    {
     "data": {
      "text/plain": [
       "0.8755051406648068"
      ]
     },
     "execution_count": 167,
     "metadata": {},
     "output_type": "execute_result"
    }
   ],
   "source": [
    "CCN_score = np.mean(kfold_score)\n",
    "CCN_score"
   ]
  },
  {
   "cell_type": "markdown",
   "metadata": {},
   "source": [
    "# Embedding - Inception-CNN"
   ]
  },
  {
   "cell_type": "code",
   "execution_count": 189,
   "metadata": {},
   "outputs": [
    {
     "name": "stdout",
     "output_type": "stream",
     "text": [
      "__________________________________________________________________________________________________\n",
      "Layer (type)                    Output Shape         Param #     Connected to                     \n",
      "==================================================================================================\n",
      "input_45 (InputLayer)           (None, 21)           0                                            \n",
      "__________________________________________________________________________________________________\n",
      "embedding_45 (Embedding)        (None, 21, 100)      855500      input_45[0][0]                   \n",
      "__________________________________________________________________________________________________\n",
      "conv1d_67 (Conv1D)              (None, 21, 50)       10050       embedding_45[0][0]               \n",
      "__________________________________________________________________________________________________\n",
      "conv1d_68 (Conv1D)              (None, 21, 30)       9030        embedding_45[0][0]               \n",
      "__________________________________________________________________________________________________\n",
      "conv1d_69 (Conv1D)              (None, 21, 20)       8020        embedding_45[0][0]               \n",
      "__________________________________________________________________________________________________\n",
      "batch_normalization_112 (BatchN (None, 21, 50)       200         conv1d_67[0][0]                  \n",
      "__________________________________________________________________________________________________\n",
      "batch_normalization_113 (BatchN (None, 21, 30)       120         conv1d_68[0][0]                  \n",
      "__________________________________________________________________________________________________\n",
      "batch_normalization_114 (BatchN (None, 21, 20)       80          conv1d_69[0][0]                  \n",
      "__________________________________________________________________________________________________\n",
      "dropout_77 (Dropout)            (None, 21, 50)       0           batch_normalization_112[0][0]    \n",
      "__________________________________________________________________________________________________\n",
      "dropout_78 (Dropout)            (None, 21, 30)       0           batch_normalization_113[0][0]    \n",
      "__________________________________________________________________________________________________\n",
      "dropout_79 (Dropout)            (None, 21, 20)       0           batch_normalization_114[0][0]    \n",
      "__________________________________________________________________________________________________\n",
      "max_pooling1d_61 (MaxPooling1D) (None, 10, 50)       0           dropout_77[0][0]                 \n",
      "__________________________________________________________________________________________________\n",
      "max_pooling1d_62 (MaxPooling1D) (None, 10, 30)       0           dropout_78[0][0]                 \n",
      "__________________________________________________________________________________________________\n",
      "max_pooling1d_63 (MaxPooling1D) (None, 10, 20)       0           dropout_79[0][0]                 \n",
      "__________________________________________________________________________________________________\n",
      "concatenate_7 (Concatenate)     (None, 10, 100)      0           max_pooling1d_61[0][0]           \n",
      "                                                                 max_pooling1d_62[0][0]           \n",
      "                                                                 max_pooling1d_63[0][0]           \n",
      "__________________________________________________________________________________________________\n",
      "flatten_39 (Flatten)            (None, 1000)         0           concatenate_7[0][0]              \n",
      "__________________________________________________________________________________________________\n",
      "dense_84 (Dense)                (None, 200)          200200      flatten_39[0][0]                 \n",
      "__________________________________________________________________________________________________\n",
      "batch_normalization_115 (BatchN (None, 200)          800         dense_84[0][0]                   \n",
      "__________________________________________________________________________________________________\n",
      "dense_85 (Dense)                (None, 1)            201         batch_normalization_115[0][0]    \n",
      "==================================================================================================\n",
      "Total params: 1,084,201\n",
      "Trainable params: 1,083,601\n",
      "Non-trainable params: 600\n",
      "__________________________________________________________________________________________________\n"
     ]
    }
   ],
   "source": [
    "inputs = Input(shape=(21,))\n",
    "\n",
    "X = Embedding(input_dim = 8555, output_dim = 100, input_length=21)(inputs)\n",
    "\n",
    "bigram = Conv1D(50, kernel_size=2, padding='same', activation='tanh', strides=1)(X)\n",
    "bigram = BatchNormalization()(bigram)\n",
    "bigram = Dropout(0.10)(bigram)\n",
    "bigram = MaxPooling1D(2, 2)(bigram)\n",
    "\n",
    "trigram = Conv1D(30, kernel_size=3, padding='same', activation='tanh', strides=1)(X)\n",
    "trigram = BatchNormalization()(trigram)\n",
    "trigram = Dropout(0.10)(trigram)\n",
    "trigram = MaxPooling1D(2, 2)(trigram)\n",
    "\n",
    "quadgram = Conv1D(20, kernel_size=4, padding='same', activation='tanh', strides=1)(X)\n",
    "quadgram = BatchNormalization()(quadgram)\n",
    "quadgram = Dropout(0.10)(quadgram)\n",
    "quadgram = MaxPooling1D(2, 2)(quadgram)\n",
    "\n",
    "X = Concatenate(axis=-1)([bigram, trigram, quadgram])\n",
    "X = Flatten()(X)\n",
    "X = Dense(200, activation='tanh')(X)\n",
    "X = BatchNormalization()(X)\n",
    "X = Dense(1, activation='sigmoid')(X)\n",
    "\n",
    "Incep_CCN_model = Model(inputs, X, name='Incep_CCN_model')\n",
    "Incep_CCN_model.compile(loss='binary_crossentropy', optimizer='adam', metrics=['accuracy'])\n",
    "Incep_CCN_model.summary()\n",
    "Incep_CCN_model.save_weights('Incep_CCN_model.h5')"
   ]
  },
  {
   "cell_type": "code",
   "execution_count": 190,
   "metadata": {},
   "outputs": [
    {
     "name": "stdout",
     "output_type": "stream",
     "text": [
      "Epoch 1/3\n",
      "5140/5140 [==============================] - 9s 2ms/step - loss: 0.4986 - acc: 0.7739\n",
      "Epoch 2/3\n",
      "5140/5140 [==============================] - 3s 592us/step - loss: 0.0935 - acc: 0.9665\n",
      "Epoch 3/3\n",
      "5140/5140 [==============================] - 3s 590us/step - loss: 0.0357 - acc: 0.9875\n",
      "Epoch 1/3\n",
      "5141/5141 [==============================] - 3s 663us/step - loss: 0.4747 - acc: 0.7973\n",
      "Epoch 2/3\n",
      "5141/5141 [==============================] - 3s 589us/step - loss: 0.0926 - acc: 0.9667\n",
      "Epoch 3/3\n",
      "5141/5141 [==============================] - 3s 599us/step - loss: 0.0310 - acc: 0.9911\n",
      "Epoch 1/3\n",
      "5141/5141 [==============================] - 3s 594us/step - loss: 0.4549 - acc: 0.7991\n",
      "Epoch 2/3\n",
      "5141/5141 [==============================] - 3s 596us/step - loss: 0.0780 - acc: 0.9714\n",
      "Epoch 3/3\n",
      "5141/5141 [==============================] - 3s 591us/step - loss: 0.0296 - acc: 0.9918\n",
      "Epoch 1/3\n",
      "5141/5141 [==============================] - 3s 602us/step - loss: 0.4677 - acc: 0.7960\n",
      "Epoch 2/3\n",
      "5141/5141 [==============================] - 3s 599us/step - loss: 0.0845 - acc: 0.9706\n",
      "Epoch 3/3\n",
      "5141/5141 [==============================] - 3s 603us/step - loss: 0.0260 - acc: 0.9926\n",
      "Epoch 1/3\n",
      "5141/5141 [==============================] - 3s 598us/step - loss: 0.4747 - acc: 0.7899\n",
      "Epoch 2/3\n",
      "5141/5141 [==============================] - 3s 605us/step - loss: 0.0702 - acc: 0.9749\n",
      "Epoch 3/3\n",
      "5141/5141 [==============================] - 3s 596us/step - loss: 0.0256 - acc: 0.9916\n"
     ]
    }
   ],
   "source": [
    "kfold_score = []\n",
    "for fit_index, val_index in kfold.split(X_train):\n",
    "    Incep_CCN_model.load_weights('Incep_CCN_model.h5')\n",
    "    X_fit, X_val = X_train[fit_index], X_train[val_index]\n",
    "    Y_fit, Y_val = Y_train[fit_index], Y_train[val_index]\n",
    "    Incep_CCN_model.fit(X_fit, Y_fit, batch_size=32, epochs = 3)\n",
    "    Y_val_pred = Incep_CCN_model.predict(X_val, batch_size=32).reshape(-1)\n",
    "    Y_val_pred = np.where(Y_val_pred >= 0.50, 1, 0)\n",
    "    kfold_score.append(accuracy_score(Y_val, Y_val_pred))"
   ]
  },
  {
   "cell_type": "code",
   "execution_count": 191,
   "metadata": {},
   "outputs": [
    {
     "data": {
      "text/plain": [
       "0.879551228131751"
      ]
     },
     "execution_count": 191,
     "metadata": {},
     "output_type": "execute_result"
    }
   ],
   "source": [
    "Incep_CCN_score = np.mean(kfold_score)\n",
    "Incep_CCN_score"
   ]
  },
  {
   "cell_type": "code",
   "execution_count": 218,
   "metadata": {},
   "outputs": [
    {
     "data": {
      "text/html": [
       "<div>\n",
       "<style scoped>\n",
       "    .dataframe tbody tr th:only-of-type {\n",
       "        vertical-align: middle;\n",
       "    }\n",
       "\n",
       "    .dataframe tbody tr th {\n",
       "        vertical-align: top;\n",
       "    }\n",
       "\n",
       "    .dataframe thead th {\n",
       "        text-align: right;\n",
       "    }\n",
       "</style>\n",
       "<table border=\"1\" class=\"dataframe\">\n",
       "  <thead>\n",
       "    <tr style=\"text-align: right;\">\n",
       "      <th></th>\n",
       "      <th>label</th>\n",
       "      <th>score</th>\n",
       "    </tr>\n",
       "  </thead>\n",
       "  <tbody>\n",
       "    <tr>\n",
       "      <th>2</th>\n",
       "      <td>nb_count_score</td>\n",
       "      <td>0.906785</td>\n",
       "    </tr>\n",
       "    <tr>\n",
       "      <th>7</th>\n",
       "      <td>nb_tfidf_score</td>\n",
       "      <td>0.901805</td>\n",
       "    </tr>\n",
       "    <tr>\n",
       "      <th>5</th>\n",
       "      <td>log_tfidf_score</td>\n",
       "      <td>0.894490</td>\n",
       "    </tr>\n",
       "    <tr>\n",
       "      <th>6</th>\n",
       "      <td>svc_tfidf_score</td>\n",
       "      <td>0.891690</td>\n",
       "    </tr>\n",
       "    <tr>\n",
       "      <th>0</th>\n",
       "      <td>log_count_score</td>\n",
       "      <td>0.886554</td>\n",
       "    </tr>\n",
       "    <tr>\n",
       "      <th>17</th>\n",
       "      <td>Incep_CCN_score</td>\n",
       "      <td>0.879551</td>\n",
       "    </tr>\n",
       "    <tr>\n",
       "      <th>16</th>\n",
       "      <td>CCN_score</td>\n",
       "      <td>0.875505</td>\n",
       "    </tr>\n",
       "    <tr>\n",
       "      <th>15</th>\n",
       "      <td>FCN_score</td>\n",
       "      <td>0.874730</td>\n",
       "    </tr>\n",
       "    <tr>\n",
       "      <th>1</th>\n",
       "      <td>svc_count_score</td>\n",
       "      <td>0.870680</td>\n",
       "    </tr>\n",
       "    <tr>\n",
       "      <th>4</th>\n",
       "      <td>rf_count_score</td>\n",
       "      <td>0.845472</td>\n",
       "    </tr>\n",
       "    <tr>\n",
       "      <th>9</th>\n",
       "      <td>rf_tfidf_score</td>\n",
       "      <td>0.842359</td>\n",
       "    </tr>\n",
       "    <tr>\n",
       "      <th>13</th>\n",
       "      <td>gb_glove_score</td>\n",
       "      <td>0.802830</td>\n",
       "    </tr>\n",
       "    <tr>\n",
       "      <th>10</th>\n",
       "      <td>log_glove_score</td>\n",
       "      <td>0.801585</td>\n",
       "    </tr>\n",
       "    <tr>\n",
       "      <th>11</th>\n",
       "      <td>svc_glove_score</td>\n",
       "      <td>0.801584</td>\n",
       "    </tr>\n",
       "    <tr>\n",
       "      <th>8</th>\n",
       "      <td>gb_tfidf_score</td>\n",
       "      <td>0.794275</td>\n",
       "    </tr>\n",
       "    <tr>\n",
       "      <th>3</th>\n",
       "      <td>gb_count_score</td>\n",
       "      <td>0.776536</td>\n",
       "    </tr>\n",
       "    <tr>\n",
       "      <th>14</th>\n",
       "      <td>rf_glove_score</td>\n",
       "      <td>0.726271</td>\n",
       "    </tr>\n",
       "    <tr>\n",
       "      <th>12</th>\n",
       "      <td>nb_glove_score</td>\n",
       "      <td>0.712417</td>\n",
       "    </tr>\n",
       "  </tbody>\n",
       "</table>\n",
       "</div>"
      ],
      "text/plain": [
       "              label     score\n",
       "2    nb_count_score  0.906785\n",
       "7    nb_tfidf_score  0.901805\n",
       "5   log_tfidf_score  0.894490\n",
       "6   svc_tfidf_score  0.891690\n",
       "0   log_count_score  0.886554\n",
       "17  Incep_CCN_score  0.879551\n",
       "16        CCN_score  0.875505\n",
       "15        FCN_score  0.874730\n",
       "1   svc_count_score  0.870680\n",
       "4    rf_count_score  0.845472\n",
       "9    rf_tfidf_score  0.842359\n",
       "13   gb_glove_score  0.802830\n",
       "10  log_glove_score  0.801585\n",
       "11  svc_glove_score  0.801584\n",
       "8    gb_tfidf_score  0.794275\n",
       "3    gb_count_score  0.776536\n",
       "14   rf_glove_score  0.726271\n",
       "12   nb_glove_score  0.712417"
      ]
     },
     "metadata": {},
     "output_type": "display_data"
    }
   ],
   "source": [
    "result = {\n",
    "    'label' : ['log_count_score' , 'svc_count_score',\n",
    "               'nb_count_score', 'gb_count_score',\n",
    "              'rf_count_score', 'log_tfidf_score',\n",
    "              'svc_tfidf_score', 'nb_tfidf_score',\n",
    "              'gb_tfidf_score', 'rf_tfidf_score',\n",
    "              'log_glove_score', 'svc_glove_score',\n",
    "              'nb_glove_score', 'gb_glove_score',\n",
    "              'rf_glove_score', 'FCN_score',\n",
    "              'CCN_score', 'Incep_CCN_score'],\n",
    "    'score' : [log_count_score , svc_count_score,\n",
    "               nb_count_score, gb_count_score,\n",
    "              rf_count_score, log_tfidf_score,\n",
    "              svc_tfidf_score, nb_tfidf_score,\n",
    "              gb_tfidf_score, rf_tfidf_score,\n",
    "              log_glove_score, svc_glove_score,\n",
    "              nb_glove_score, gb_glove_score,\n",
    "              rf_glove_score, FCN_score,\n",
    "              CCN_score, Incep_CCN_score]\n",
    "}\n",
    "\n",
    "df_result = pd.DataFrame(result)\n",
    "display(df_result.sort_values('score', ascending=False))"
   ]
  },
  {
   "cell_type": "code",
   "execution_count": 219,
   "metadata": {},
   "outputs": [
    {
     "data": {
      "image/png": "[encoded data removed]",
      "text/plain": [
       "<matplotlib.figure.Figure at 0x7fec60059ad0>"
      ]
     },
     "metadata": {},
     "output_type": "display_data"
    }
   ],
   "source": [
    "import seaborn as sns\n",
    "df_result = df_result.sort_values('score', ascending=False)\n",
    "f, ax = plt.subplots(figsize=(15, 6))\n",
    "sns.set_color_codes(\"pastel\")\n",
    "ax = sns.barplot(x='score', y='label', data=df_result, orient='h')\n",
    "sns.despine(left=True, bottom=True)"
   ]
  },
  {
   "cell_type": "code",
   "execution_count": 236,
   "metadata": {},
   "outputs": [],
   "source": [
    "final_model = MultinomialNB().fit(X_train, Y_train)"
   ]
  },
  {
   "cell_type": "code",
   "execution_count": 263,
   "metadata": {},
   "outputs": [],
   "source": [
    "from IPython.display import Image \n",
    "\n",
    "def TrumporClinton(tweet):\n",
    "    processed_tweet =  text_process(tweet)\n",
    "    X_test = count_vectorizer.transform(np.array([processed_tweet]))\n",
    "    if final_model.predict(X_test)[0] == 0:\n",
    "        return Image(filename='trump.jpg', width = 100, height =70)\n",
    "    else:\n",
    "        return Image(filename='hillary.jpeg', width = 100, height =70)"
   ]
  },
  {
   "cell_type": "code",
   "execution_count": 275,
   "metadata": {
    "scrolled": true
   },
   "outputs": [
    {
     "data": {
      "image/jpeg": "[encoded data removed]",
      "text/plain": [
       "<IPython.core.display.Image object>"
      ]
     },
     "execution_count": 275,
     "metadata": {
      "image/jpeg": {
       "height": 70,
       "width": 100
      }
     },
     "output_type": "execute_result"
    }
   ],
   "source": [
    "TrumporClinton(\"We are going to build a wall and Mexico is going to pay for it!\")"
   ]
  },
  {
   "cell_type": "code",
   "execution_count": 277,
   "metadata": {},
   "outputs": [
    {
     "data": {
      "image/jpeg": "[encoded data removed]",
      "text/plain": [
       "<IPython.core.display.Image object>"
      ]
     },
     "execution_count": 277,
     "metadata": {
      "image/jpeg": {
       "height": 70,
       "width": 100
      }
     },
     "output_type": "execute_result"
    }
   ],
   "source": [
    "TrumporClinton('Make America Great Again! China is Stealing our Job!')"
   ]
  },
  {
   "cell_type": "code",
   "execution_count": 280,
   "metadata": {},
   "outputs": [
    {
     "data": {
      "image/jpeg": "[encoded data removed]",
      "text/plain": [
       "<IPython.core.display.Image object>"
      ]
     },
     "execution_count": 280,
     "metadata": {
      "image/jpeg": {
       "height": 70,
       "width": 100
      }
     },
     "output_type": "execute_result"
    }
   ],
   "source": [
    "TrumporClinton(\"We cannot allow Trump to be president. This man is dangerous.\")"
   ]
  },
  {
   "cell_type": "code",
   "execution_count": 292,
   "metadata": {},
   "outputs": [
    {
     "data": {
      "image/jpeg": "[encoded data removed]",
      "text/plain": [
       "<IPython.core.display.Image object>"
      ]
     },
     "execution_count": 292,
     "metadata": {
      "image/jpeg": {
       "height": 70,
       "width": 100
      }
     },
     "output_type": "execute_result"
    }
   ],
   "source": [
    "TrumporClinton(\"Gay rights are human rights.\")"
   ]
  },
  {
   "cell_type": "code",
   "execution_count": 293,
   "metadata": {},
   "outputs": [
    {
     "data": {
      "image/jpeg": "[encoded data removed]",
      "text/plain": [
       "<IPython.core.display.Image object>"
      ]
     },
     "execution_count": 293,
     "metadata": {
      "image/jpeg": {
       "height": 70,
       "width": 100
      }
     },
     "output_type": "execute_result"
    }
   ],
   "source": [
    "TrumporClinton('Slippery James Comey, the worst FBI Director in history, was not fired because of the phony Russia investigation where, by the way, there was NO COLLUSION (except by the Dems)!')"
   ]
  },
  {
   "cell_type": "code",
   "execution_count": 274,
   "metadata": {},
   "outputs": [
    {
     "data": {
      "image/jpeg": "[encoded data removed]",
      "text/plain": [
       "<IPython.core.display.Image object>"
      ]
     },
     "execution_count": 274,
     "metadata": {
      "image/jpeg": {
       "height": 70,
       "width": 100
      }
     },
     "output_type": "execute_result"
    }
   ],
   "source": [
    "TrumporClinton('Thinking about Barbara Bush’s legacy of service to our country and the extraordinary family she raised. Thanking her for her many kindnesses to me and my family. Wishing her the comfort she deserves surrounded by her loved ones.')"
   ]
  }
 ],
 "metadata": {
  "kernelspec": {
   "display_name": "Python 2",
   "language": "python",
   "name": "python2"
  },
  "language_info": {
   "codemirror_mode": {
    "name": "ipython",
    "version": 2
   },
   "file_extension": ".py",
   "mimetype": "text/x-python",
   "name": "python",
   "nbconvert_exporter": "python",
   "pygments_lexer": "ipython2",
   "version": "2.7.14"
  }
 },
 "nbformat": 4,
 "nbformat_minor": 2
}
