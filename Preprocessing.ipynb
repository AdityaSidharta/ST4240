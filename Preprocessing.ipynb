{
 "cells": [
  {
   "cell_type": "code",
   "execution_count": 7,
   "metadata": {
    "collapsed": true
   },
   "outputs": [],
   "source": [
    "%matplotlib inline"
   ]
  },
  {
   "cell_type": "code",
   "execution_count": 99,
   "metadata": {
    "collapsed": true
   },
   "outputs": [],
   "source": [
    "import pandas as pd\n",
    "import numpy as np\n",
    "import seaborn as sns\n",
    "import matplotlib\n",
    "import matplotlib.pyplot as plt\n",
    "import datetime\n",
    "import re\n",
    "import math"
   ]
  },
  {
   "cell_type": "code",
   "execution_count": 3,
   "metadata": {
    "collapsed": true
   },
   "outputs": [],
   "source": [
    "train_file = \"/home/adityasidharta/Desktop/nus_course/data_mining/competition/dataset/train_data.csv\"\n",
    "test_file = \"/home/adityasidharta/Desktop/nus_course/data_mining/competition/dataset/test.csv\""
   ]
  },
  {
   "cell_type": "code",
   "execution_count": 161,
   "metadata": {},
   "outputs": [
    {
     "ename": "SyntaxError",
     "evalue": "invalid syntax (<ipython-input-161-04d37c5a1977>, line 45)",
     "output_type": "error",
     "traceback": [
      "\u001b[0;36m  File \u001b[0;32m\"<ipython-input-161-04d37c5a1977>\"\u001b[0;36m, line \u001b[0;32m45\u001b[0m\n\u001b[0;31m    if hour <= 8\u001b[0m\n\u001b[0m                ^\u001b[0m\n\u001b[0;31mSyntaxError\u001b[0m\u001b[0;31m:\u001b[0m invalid syntax\n"
     ]
    }
   ],
   "source": [
    "def straight_dist(x_start, x_end, y_start, y_end):\n",
    "    return np.sqrt((x_end - x_start)**2 + (y_end - y_start)**2)\n",
    "\n",
    "def calc_azt(x_start, x_end, y_start, y_end ):\n",
    "    return math.degrees(math.atan2(y_end - y_start, x_end - x_start)) + 18\n",
    "\n",
    "def coordinates_bin(coor):\n",
    "    return coor // 25 + 21\n",
    "\n",
    "def convert_ts_to_datetime(ts):\n",
    "    return datetime.datetime.strptime(ts, '%Y-%m-%d %H:%M:%S')\n",
    "\n",
    "def get_weekday(ts):\n",
    "    dt = convert_ts_to_datetime(ts)\n",
    "    return dt.weekday()\n",
    "\n",
    "def is_weekend(ts):\n",
    "    dt = convert_ts_to_datetime(ts)\n",
    "    return dt.weekday() >= 5\n",
    "\n",
    "def get_day(ts):\n",
    "    dt = convert_ts_to_datetime(ts)\n",
    "    return dt.day\n",
    "\n",
    "def get_month(ts):\n",
    "    dt = convert_ts_to_datetime(ts)\n",
    "    return dt.month\n",
    "\n",
    "def get_year(ts):\n",
    "    dt = convert_ts_to_datetime(ts)\n",
    "    return dt.year\n",
    "\n",
    "def get_hour(ts):\n",
    "    dt = convert_ts_to_datetime(ts)\n",
    "    return dt.hour\n",
    "\n",
    "def get_minute(ts):\n",
    "    dt = convert_ts_to_datetime(ts)\n",
    "    return dt.minute\n",
    "\n",
    "def time_classification(ts):\n",
    "    hour = get_hour(ts)\n",
    "    if hour <= 5:\n",
    "        return \"Midnight\"\n",
    "    if hour <= 8\n",
    "        return \"Morning\"\n",
    "    if hour <= 11:\n",
    "        return \"Noon\"\n",
    "    if hour <= 18:\n",
    "        return \"Afternoon\"\n",
    "    if hour <= 20:\n",
    "        return \"Night\"\n",
    "    else:\n",
    "        return \"LateNight\"\n",
    "\n",
    "def taxi_id_bucket(taxi_id):\n",
    "    return taxi_id // 10"
   ]
  },
  {
   "cell_type": "code",
   "execution_count": 162,
   "metadata": {
    "collapsed": true
   },
   "outputs": [],
   "source": [
    "vec_straight_dist = np.vectorize(straight_dist)\n",
    "vec_calc_azt = np.vectorize(calc_azt)\n",
    "vec_coordinates_bin = np.vectorize(coordinates_bin)\n",
    "vec_get_weekday = np.vectorize(get_weekday)\n",
    "vec_is_weekend = np.vectorize(is_weekend)\n",
    "vec_get_day = np.vectorize(get_day)\n",
    "vec_get_month = np.vectorize(get_month)\n",
    "vec_get_year = np.vectorize(get_year)\n",
    "vec_get_hour = np.vectorize(get_hour)\n",
    "vec_get_minute = np.vectorize(get_minute)\n",
    "vec_time_classification = np.vectorize(time_classification)\n",
    "vec_taxi_id_bucket = np.vectorize(taxi_id_bucket)"
   ]
  },
  {
   "cell_type": "code",
   "execution_count": 163,
   "metadata": {},
   "outputs": [
    {
     "data": {
      "text/plain": [
       "Index([u'ID', u'TAXI_ID', u'TIMESTAMP', u'DURATION', u'X_START', u'Y_START',\n",
       "       u'X_END', u'Y_END', u'X_TRAJECTORY', u'Y_TRAJECTORY', u'TRAJ_LENGTH'],\n",
       "      dtype='object')"
      ]
     },
     "execution_count": 163,
     "metadata": {},
     "output_type": "execute_result"
    }
   ],
   "source": [
    "train_data.columns"
   ]
  },
  {
   "cell_type": "code",
   "execution_count": 164,
   "metadata": {
    "collapsed": true
   },
   "outputs": [],
   "source": [
    "df_train = pd.read_csv(train_file)\n",
    "df_test = pd.read_csv(test_file)"
   ]
  },
  {
   "cell_type": "code",
   "execution_count": 165,
   "metadata": {},
   "outputs": [],
   "source": [
    "def preprocessing_train(df_train):\n",
    "    df_train = df_train.drop(['X_TRAJECTORY','Y_TRAJECTORY'], axis = 1)\n",
    "    df_train['LOG_DURATION'] = np.log(df_train['DURATION'])\n",
    "    df_train['LOG_TRAJ_LENGTH'] = np.log(df_train['TRAJ_LENGTH'])\n",
    "    df_train['LOG_STRAIGHT_DIST'] = np.log(vec_straight_dist(df_train['X_START'], df_train['X_END'], df_train['Y_START'], df_train['Y_END']))\n",
    "    df_train['AZT'] = vec_calc_azt(df_train['X_START'], df_train['X_END'], df_train['Y_START'], df_train['Y_END'])\n",
    "    df_train['X_START_BIN'] = vec_coordinates_bin(df_train['X_START'])\n",
    "    df_train['X_END_BIN'] = vec_coordinates_bin(df_train['X_END'])\n",
    "    df_train['Y_START_BIN'] = vec_coordinates_bin(df_train['Y_START'])\n",
    "    df_train['Y_END_BIN'] = vec_coordinates_bin(df_train['Y_END'])\n",
    "    df_train['WEEKDAY'] = vec_get_weekday(df_train['TIMESTAMP'])\n",
    "    df_train['ISWEEKEND'] = vec_is_weekend(df_train['TIMESTAMP'])\n",
    "    df_train['DAY'] = vec_get_day(df_train['TIMESTAMP'])\n",
    "    df_train['MONTH'] = vec_get_month(df_train['TIMESTAMP'])\n",
    "    df_train['YEAR'] = vec_get_year(df_train['TIMESTAMP'])\n",
    "    df_train['HOUR'] = vec_get_hour(df_train['TIMESTAMP'])\n",
    "    df_train['MINUTE'] = vec_get_minute(df_train['TIMESTAMP'])\n",
    "    df_train['TIME_CLASS'] = vec_time_classification(df_train['TIMESTAMP'])\n",
    "    df_train['TAXI_ID_BIN'] = vec_taxi_id_bucket(df_train['TAXI_ID'])\n",
    "    return df_train\n",
    "\n",
    "def preprocessing_test(df_test):\n",
    "    df_test['LOG_STRAIGHT_DIST'] = np.log(vec_straight_dist(df_test['X_START'], df_test['X_END'], df_test['Y_START'], df_test['Y_END']))\n",
    "    df_test['AZT'] = vec_calc_azt(df_test['X_START'], df_test['X_END'], df_test['Y_START'], df_test['Y_END'])\n",
    "    df_test['X_START_BIN'] = vec_coordinates_bin(df_test['X_START'])\n",
    "    df_test['X_END_BIN'] = vec_coordinates_bin(df_test['X_END'])\n",
    "    df_test['Y_START_BIN'] = vec_coordinates_bin(df_test['Y_START'])\n",
    "    df_test['Y_END_BIN'] = vec_coordinates_bin(df_test['Y_END'])\n",
    "    df_test['WEEKDAY'] = vec_get_weekday(df_test['TIMESTAMP'])\n",
    "    df_test['ISWEEKEND'] = vec_is_weekend(df_test['TIMESTAMP'])\n",
    "    df_test['DAY'] = vec_get_day(df_test['TIMESTAMP'])\n",
    "    df_test['MONTH'] = vec_get_month(df_test['TIMESTAMP'])\n",
    "    df_test['YEAR'] = vec_get_year(df_test['TIMESTAMP'])\n",
    "    df_test['HOUR'] = vec_get_hour(df_test['TIMESTAMP'])\n",
    "    df_test['MINUTE'] = vec_get_minute(df_test['TIMESTAMP'])\n",
    "    df_test['TIME_CLASS'] = vec_time_classification(df_test['TIMESTAMP'])\n",
    "    df_test['TAXI_ID_BIN'] = vec_taxi_id_bucket(df_test['TAXI_ID'])\n",
    "    return df_test"
   ]
  },
  {
   "cell_type": "code",
   "execution_count": 166,
   "metadata": {
    "collapsed": true
   },
   "outputs": [],
   "source": [
    "def dummify(df):\n",
    "    columns = ['TAXI_ID', 'X_START_BIN', 'X_END_BIN', 'Y_START_BIN', 'Y_END_BIN', 'WEEKDAY', 'ISWEEKEND', 'DAY', 'MONTH', 'YEAR',\n",
    "              'HOUR', 'MINUTE', 'TIME_CLASS', 'TAXI_ID_BIN']\n",
    "    pd.get_dummies(df, columns=columns, prefix=columns)"
   ]
  },
  {
   "cell_type": "code",
   "execution_count": 167,
   "metadata": {},
   "outputs": [
    {
     "ename": "MemoryError",
     "evalue": "",
     "output_type": "error",
     "traceback": [
      "\u001b[0;31m---------------------------------------------------------------------------\u001b[0m",
      "\u001b[0;31mMemoryError\u001b[0m                               Traceback (most recent call last)",
      "\u001b[0;32m<ipython-input-167-73230e62d3ab>\u001b[0m in \u001b[0;36m<module>\u001b[0;34m()\u001b[0m\n\u001b[1;32m      1\u001b[0m \u001b[0mprocessed_train_df\u001b[0m \u001b[0;34m=\u001b[0m \u001b[0mpreprocessing_train\u001b[0m\u001b[0;34m(\u001b[0m\u001b[0mdf_train\u001b[0m\u001b[0;34m)\u001b[0m\u001b[0;34m\u001b[0m\u001b[0m\n\u001b[0;32m----> 2\u001b[0;31m \u001b[0mdummy_train_df\u001b[0m \u001b[0;34m=\u001b[0m \u001b[0mdummify\u001b[0m\u001b[0;34m(\u001b[0m\u001b[0mprocessed_train_df\u001b[0m\u001b[0;34m)\u001b[0m\u001b[0;34m\u001b[0m\u001b[0m\n\u001b[0m",
      "\u001b[0;32m<ipython-input-166-7154a0de3181>\u001b[0m in \u001b[0;36mdummify\u001b[0;34m(df)\u001b[0m\n\u001b[1;32m      2\u001b[0m     columns = ['TAXI_ID', 'X_START_BIN', 'X_END_BIN', 'Y_START_BIN', 'Y_END_BIN', 'WEEKDAY', 'ISWEEKEND', 'DAY', 'MONTH', 'YEAR',\n\u001b[1;32m      3\u001b[0m               'HOUR', 'MINUTE', 'TIME_CLASS', 'TAXI_ID_BIN']\n\u001b[0;32m----> 4\u001b[0;31m     \u001b[0mpd\u001b[0m\u001b[0;34m.\u001b[0m\u001b[0mget_dummies\u001b[0m\u001b[0;34m(\u001b[0m\u001b[0mdf\u001b[0m\u001b[0;34m,\u001b[0m \u001b[0mcolumns\u001b[0m\u001b[0;34m=\u001b[0m\u001b[0mcolumns\u001b[0m\u001b[0;34m,\u001b[0m \u001b[0mprefix\u001b[0m\u001b[0;34m=\u001b[0m\u001b[0mcolumns\u001b[0m\u001b[0;34m)\u001b[0m\u001b[0;34m\u001b[0m\u001b[0m\n\u001b[0m",
      "\u001b[0;32m/home/adityasidharta/anaconda2/lib/python2.7/site-packages/pandas/core/reshape.pyc\u001b[0m in \u001b[0;36mget_dummies\u001b[0;34m(data, prefix, prefix_sep, dummy_na, columns, sparse, drop_first)\u001b[0m\n\u001b[1;32m   1091\u001b[0m             dummy = _get_dummies_1d(data[col], prefix=pre, prefix_sep=sep,\n\u001b[1;32m   1092\u001b[0m                                     \u001b[0mdummy_na\u001b[0m\u001b[0;34m=\u001b[0m\u001b[0mdummy_na\u001b[0m\u001b[0;34m,\u001b[0m \u001b[0msparse\u001b[0m\u001b[0;34m=\u001b[0m\u001b[0msparse\u001b[0m\u001b[0;34m,\u001b[0m\u001b[0;34m\u001b[0m\u001b[0m\n\u001b[0;32m-> 1093\u001b[0;31m                                     drop_first=drop_first)\n\u001b[0m\u001b[1;32m   1094\u001b[0m             \u001b[0mwith_dummies\u001b[0m\u001b[0;34m.\u001b[0m\u001b[0mappend\u001b[0m\u001b[0;34m(\u001b[0m\u001b[0mdummy\u001b[0m\u001b[0;34m)\u001b[0m\u001b[0;34m\u001b[0m\u001b[0m\n\u001b[1;32m   1095\u001b[0m         \u001b[0mresult\u001b[0m \u001b[0;34m=\u001b[0m \u001b[0mconcat\u001b[0m\u001b[0;34m(\u001b[0m\u001b[0mwith_dummies\u001b[0m\u001b[0;34m,\u001b[0m \u001b[0maxis\u001b[0m\u001b[0;34m=\u001b[0m\u001b[0;36m1\u001b[0m\u001b[0;34m)\u001b[0m\u001b[0;34m\u001b[0m\u001b[0m\n",
      "\u001b[0;32m/home/adityasidharta/anaconda2/lib/python2.7/site-packages/pandas/core/reshape.pyc\u001b[0m in \u001b[0;36m_get_dummies_1d\u001b[0;34m(data, prefix, prefix_sep, dummy_na, sparse, drop_first)\u001b[0m\n\u001b[1;32m   1164\u001b[0m \u001b[0;34m\u001b[0m\u001b[0m\n\u001b[1;32m   1165\u001b[0m     \u001b[0;32melse\u001b[0m\u001b[0;34m:\u001b[0m\u001b[0;34m\u001b[0m\u001b[0m\n\u001b[0;32m-> 1166\u001b[0;31m         \u001b[0mdummy_mat\u001b[0m \u001b[0;34m=\u001b[0m \u001b[0mnp\u001b[0m\u001b[0;34m.\u001b[0m\u001b[0meye\u001b[0m\u001b[0;34m(\u001b[0m\u001b[0mnumber_of_cols\u001b[0m\u001b[0;34m)\u001b[0m\u001b[0;34m.\u001b[0m\u001b[0mtake\u001b[0m\u001b[0;34m(\u001b[0m\u001b[0mcodes\u001b[0m\u001b[0;34m,\u001b[0m \u001b[0maxis\u001b[0m\u001b[0;34m=\u001b[0m\u001b[0;36m0\u001b[0m\u001b[0;34m)\u001b[0m\u001b[0;34m\u001b[0m\u001b[0m\n\u001b[0m\u001b[1;32m   1167\u001b[0m \u001b[0;34m\u001b[0m\u001b[0m\n\u001b[1;32m   1168\u001b[0m         \u001b[0;32mif\u001b[0m \u001b[0;32mnot\u001b[0m \u001b[0mdummy_na\u001b[0m\u001b[0;34m:\u001b[0m\u001b[0;34m\u001b[0m\u001b[0m\n",
      "\u001b[0;31mMemoryError\u001b[0m: "
     ]
    }
   ],
   "source": [
    "processed_train_df = preprocessing_train(df_train)\n",
    "dummy_train_df = dummify(processed_train_df)"
   ]
  },
  {
   "cell_type": "code",
   "execution_count": null,
   "metadata": {
    "collapsed": true
   },
   "outputs": [],
   "source": []
  }
 ],
 "metadata": {
  "kernelspec": {
   "display_name": "Python 2",
   "language": "python",
   "name": "python2"
  },
  "language_info": {
   "codemirror_mode": {
    "name": "ipython",
    "version": 2
   },
   "file_extension": ".py",
   "mimetype": "text/x-python",
   "name": "python",
   "nbconvert_exporter": "python",
   "pygments_lexer": "ipython2",
   "version": "2.7.13"
  }
 },
 "nbformat": 4,
 "nbformat_minor": 2
}
